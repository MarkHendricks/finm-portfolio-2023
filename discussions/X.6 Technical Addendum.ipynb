{
 "cells": [
  {
   "cell_type": "markdown",
   "id": "c7861eb3",
   "metadata": {},
   "source": [
    "# Reference\n",
    "\n",
    "For more on testing a Linear Factor Pricing Model, see Cochrane Chapter 12.\n",
    "\n",
    "\n",
    "## Technical considerations that we will not get into...\n",
    "\n",
    "### Cross-sectional\n",
    "* The statistical significance of the cross-sectional factor premia requires an adjustment for the fact that the cross-sectional regression relies on a first-stage regression estimates that have errors. This \"Shanken Correction Factor\" increases the standard errors of the factor premia.\n",
    "\n",
    "* One can calculate a total model error from the cross-sectional regression. This requires (the strange) idea of checking whether a regression's residuals are \"too big\". The formula is a bit of a mess. But it gives statistical significance to whether the R-squared is \"close enough\" to one.\n",
    "\n",
    "* Fama-MacBeth is a route to get better cross-sectional standard errors.\n",
    "\n",
    "### Time-series\n",
    "* The model test from the time-series regressions looks at the SR of the factors versus the SR of the errors. In finite samples, this is an F-test with extra scaling. Asymptotically this is a chi-squared test with scaling of T.\n",
    "\n",
    "* The model test from the time-series regression is known as the GRS test. It assumes independence of epsilon and factors as well as homoskedasticity in time-series epsilon. It also assumes no serial correlation across the time-series, but that is not such a big deal.\n",
    "\n",
    "### Notation Addendum\n",
    "\n",
    "It might seem like the intercept of the cross-sectional regression is the average of the intercepts of the time-series regressions.\n",
    "\n",
    "However, the cross-sectional regression changes the factor premia in order to shrink these alpha errors.\n",
    "\n",
    "Thus, the variance of the cross-sectional errors, $\\upsilon$ will be strictly less than the variance of the time-series alphas. Accordingly, the cross-sectional intercept, $\\eta$ may even have a different sign than the mean of the time-series intercepts. Again, this results from the fact that the cross-sectional regression coefficients may be substanatially different (and different signs) from the time-series factor means."
   ]
  }
 ],
 "metadata": {
  "hide_input": false,
  "kernelspec": {
   "display_name": "Python 3 (ipykernel)",
   "language": "python",
   "name": "python3"
  },
  "language_info": {
   "codemirror_mode": {
    "name": "ipython",
    "version": 3
   },
   "file_extension": ".py",
   "mimetype": "text/x-python",
   "name": "python",
   "nbconvert_exporter": "python",
   "pygments_lexer": "ipython3",
   "version": "3.9.6"
  }
 },
 "nbformat": 4,
 "nbformat_minor": 5
}
