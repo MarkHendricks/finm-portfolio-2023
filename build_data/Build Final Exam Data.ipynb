{
 "cells": [
  {
   "cell_type": "markdown",
   "id": "91038783",
   "metadata": {},
   "source": [
    "# Much of the exam was built outside this notebook"
   ]
  },
  {
   "cell_type": "code",
   "execution_count": 1,
   "id": "26c1b412",
   "metadata": {},
   "outputs": [
    {
     "name": "stderr",
     "output_type": "stream",
     "text": [
      "/Users/markhendricks/Projects/finm-portfolio-2023/venv/lib/python3.9/site-packages/urllib3/__init__.py:34: NotOpenSSLWarning: urllib3 v2.0 only supports OpenSSL 1.1.1+, currently the 'ssl' module is compiled with 'LibreSSL 2.8.3'. See: https://github.com/urllib3/urllib3/issues/3020\n",
      "  warnings.warn(\n"
     ]
    }
   ],
   "source": [
    "import pandas as pd\n",
    "import numpy as np\n",
    "\n",
    "import yfinance as yf"
   ]
  },
  {
   "cell_type": "code",
   "execution_count": 2,
   "id": "3b5d8f35",
   "metadata": {},
   "outputs": [
    {
     "name": "stdout",
     "output_type": "stream",
     "text": [
      "[*********************100%%**********************]  2 of 2 completed\n"
     ]
    }
   ],
   "source": [
    "TICKS = [\n",
    "    'USO',\n",
    "    '^TNX',\n",
    "]\n",
    "\n",
    "STARTDATE = '2009-03-31'\n",
    "ENDDATE = '2023-11-30'\n",
    "\n",
    "df = yf.download(TICKS, start=STARTDATE, end=ENDDATE)['Adj Close']\n",
    "\n",
    "prices = df.resample('M').last()"
   ]
  },
  {
   "cell_type": "code",
   "execution_count": 3,
   "id": "fde039a9",
   "metadata": {
    "scrolled": false
   },
   "outputs": [
    {
     "data": {
      "text/html": [
       "<div>\n",
       "<style scoped>\n",
       "    .dataframe tbody tr th:only-of-type {\n",
       "        vertical-align: middle;\n",
       "    }\n",
       "\n",
       "    .dataframe tbody tr th {\n",
       "        vertical-align: top;\n",
       "    }\n",
       "\n",
       "    .dataframe thead th {\n",
       "        text-align: right;\n",
       "    }\n",
       "</style>\n",
       "<table border=\"1\" class=\"dataframe\">\n",
       "  <thead>\n",
       "    <tr style=\"text-align: right;\">\n",
       "      <th></th>\n",
       "      <th>USO</th>\n",
       "      <th>^TNX</th>\n",
       "    </tr>\n",
       "    <tr>\n",
       "      <th>Date</th>\n",
       "      <th></th>\n",
       "      <th></th>\n",
       "    </tr>\n",
       "  </thead>\n",
       "  <tbody>\n",
       "    <tr>\n",
       "      <th>2009-03-31</th>\n",
       "      <td>232.399994</td>\n",
       "      <td>2.685</td>\n",
       "    </tr>\n",
       "    <tr>\n",
       "      <th>2009-04-30</th>\n",
       "      <td>229.039993</td>\n",
       "      <td>3.124</td>\n",
       "    </tr>\n",
       "    <tr>\n",
       "      <th>2009-05-31</th>\n",
       "      <td>291.200012</td>\n",
       "      <td>3.465</td>\n",
       "    </tr>\n",
       "    <tr>\n",
       "      <th>2009-06-30</th>\n",
       "      <td>303.440002</td>\n",
       "      <td>3.523</td>\n",
       "    </tr>\n",
       "    <tr>\n",
       "      <th>2009-07-31</th>\n",
       "      <td>294.480011</td>\n",
       "      <td>3.501</td>\n",
       "    </tr>\n",
       "    <tr>\n",
       "      <th>...</th>\n",
       "      <td>...</td>\n",
       "      <td>...</td>\n",
       "    </tr>\n",
       "    <tr>\n",
       "      <th>2023-07-31</th>\n",
       "      <td>73.169998</td>\n",
       "      <td>3.959</td>\n",
       "    </tr>\n",
       "    <tr>\n",
       "      <th>2023-08-31</th>\n",
       "      <td>75.059998</td>\n",
       "      <td>4.093</td>\n",
       "    </tr>\n",
       "    <tr>\n",
       "      <th>2023-09-30</th>\n",
       "      <td>80.860001</td>\n",
       "      <td>4.573</td>\n",
       "    </tr>\n",
       "    <tr>\n",
       "      <th>2023-10-31</th>\n",
       "      <td>75.019997</td>\n",
       "      <td>4.875</td>\n",
       "    </tr>\n",
       "    <tr>\n",
       "      <th>2023-11-30</th>\n",
       "      <td>72.519997</td>\n",
       "      <td>4.271</td>\n",
       "    </tr>\n",
       "  </tbody>\n",
       "</table>\n",
       "<p>177 rows × 2 columns</p>\n",
       "</div>"
      ],
      "text/plain": [
       "                   USO   ^TNX\n",
       "Date                         \n",
       "2009-03-31  232.399994  2.685\n",
       "2009-04-30  229.039993  3.124\n",
       "2009-05-31  291.200012  3.465\n",
       "2009-06-30  303.440002  3.523\n",
       "2009-07-31  294.480011  3.501\n",
       "...                ...    ...\n",
       "2023-07-31   73.169998  3.959\n",
       "2023-08-31   75.059998  4.093\n",
       "2023-09-30   80.860001  4.573\n",
       "2023-10-31   75.019997  4.875\n",
       "2023-11-30   72.519997  4.271\n",
       "\n",
       "[177 rows x 2 columns]"
      ]
     },
     "execution_count": 3,
     "metadata": {},
     "output_type": "execute_result"
    }
   ],
   "source": [
    "prices"
   ]
  },
  {
   "cell_type": "code",
   "execution_count": 4,
   "id": "70971562",
   "metadata": {},
   "outputs": [],
   "source": [
    "fore = prices.pct_change().dropna()\n",
    "\n",
    "fore['Tnote rate'] = prices['^TNX']\n",
    "fore.drop(columns=['^TNX'],inplace=True)\n",
    "fore['Tnote rate change'] = fore['Tnote rate'].diff()\n",
    "fore.dropna(inplace=True)"
   ]
  },
  {
   "cell_type": "markdown",
   "id": "ab67bee5",
   "metadata": {},
   "source": [
    "***"
   ]
  },
  {
   "cell_type": "code",
   "execution_count": 5,
   "id": "47cafdd9",
   "metadata": {},
   "outputs": [],
   "source": [
    "import pandas_datareader.data as web\n",
    "import pandas_datareader as pdr"
   ]
  },
  {
   "cell_type": "code",
   "execution_count": 6,
   "id": "17a1c8ba",
   "metadata": {},
   "outputs": [],
   "source": [
    "START_DATE = '2018-04-01'\n",
    "END_DATE = '2023-11-30'\n",
    "TICKS_FX = ['DEXMXUS']#'DEXUSEU', 'DEXUSUK',\n",
    "TICKS_RF = ['SOFR']#'ECBESTRVOLWGTTRMDMNRT','IUDSOIA', 'IR3TIB01MXM156N',\n",
    "LABS_RF = ['SOFR']#'ESTR', 'SONIA'\n",
    "\n",
    "INDIRECT = False\n",
    "\n",
    "fxraw = pdr.DataReader(TICKS_FX,data_source='fred', start=START_DATE,end=END_DATE)\n",
    "fxraw['DEXMXUS'] = 1 / fxraw['DEXMXUS']\n",
    "\n",
    "map_labels = {TICKS_RF[i]:LABS_RF[i] for i in range(len(TICKS_RF))}\n",
    "rf = pdr.DataReader(TICKS_RF,data_source='fred', start=START_DATE,end=END_DATE).rename(columns=map_labels).dropna()/100"
   ]
  },
  {
   "cell_type": "code",
   "execution_count": 7,
   "id": "9e707e12",
   "metadata": {},
   "outputs": [],
   "source": [
    "rfmxn = pd.read_excel('../data/fx_mxn_rf.xlsx',index_col='Date').sort_index().rename(columns={'PX_LAST':'MXNRF'})/100\n",
    "rfall = pd.concat([rf,rfmxn],join='inner',axis=1)/252"
   ]
  },
  {
   "cell_type": "code",
   "execution_count": 8,
   "id": "fb05cc3e",
   "metadata": {},
   "outputs": [],
   "source": [
    "fxrfdata = pd.concat([fxraw,rfall],join='inner',axis=1)"
   ]
  },
  {
   "cell_type": "markdown",
   "id": "8caeb300",
   "metadata": {},
   "source": [
    "***"
   ]
  },
  {
   "cell_type": "code",
   "execution_count": 9,
   "id": "624b4d35",
   "metadata": {},
   "outputs": [],
   "source": [
    "retsx = pd.read_excel('../data/spx_returns_weekly.xlsx',sheet_name='benchmark rets',index_col='date')"
   ]
  },
  {
   "cell_type": "markdown",
   "id": "f3fc1be9",
   "metadata": {},
   "source": [
    "***"
   ]
  },
  {
   "cell_type": "markdown",
   "id": "843bb6c3",
   "metadata": {},
   "source": [
    "# Write File"
   ]
  },
  {
   "cell_type": "code",
   "execution_count": 10,
   "id": "6ebcea0a",
   "metadata": {},
   "outputs": [],
   "source": [
    "with pd.ExcelWriter('../data/final_exam_data_raw.xlsx') as writer:  \n",
    "    retsx.to_excel(writer, sheet_name='portfolio')\n",
    "    fore.to_excel(writer, sheet_name='forecasting')\n",
    "    fxrfdata.to_excel(writer,sheet_name='fx_carry')"
   ]
  }
 ],
 "metadata": {
  "hide_input": false,
  "kernelspec": {
   "display_name": "Python 3 (ipykernel)",
   "language": "python",
   "name": "python3"
  },
  "language_info": {
   "codemirror_mode": {
    "name": "ipython",
    "version": 3
   },
   "file_extension": ".py",
   "mimetype": "text/x-python",
   "name": "python",
   "nbconvert_exporter": "python",
   "pygments_lexer": "ipython3",
   "version": "3.9.6"
  }
 },
 "nbformat": 4,
 "nbformat_minor": 5
}
