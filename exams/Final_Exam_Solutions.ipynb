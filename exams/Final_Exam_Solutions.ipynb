{
 "cells": [
  {
   "cell_type": "markdown",
   "id": "43b87dbd",
   "metadata": {},
   "source": [
    "# Final Exam\n",
    "\n",
    "## FINM 36700 - 2023\n",
    "\n",
    "### UChicago Financial Mathematics\n",
    "\n",
    "* Mark Hendricks\n",
    "* hendricks@uchicago.edu"
   ]
  },
  {
   "cell_type": "markdown",
   "id": "08c3fed3",
   "metadata": {},
   "source": [
    "# Instructions"
   ]
  },
  {
   "cell_type": "markdown",
   "id": "4133bc0b",
   "metadata": {},
   "source": [
    "## Please note the following:\n",
    "\n",
    "Points\n",
    "* The exam is 155 points.\n",
    "* You have 180 minutes to complete the exam.\n",
    "* For every minute late you submit the exam, you will lose one point.\n",
    "\n",
    "\n",
    "Submission\n",
    "* You will upload your solution to the `Final Exam` assignment on Canvas, where you downloaded this. (Be sure to **submit** on Canvas, not just **save** on Canvas.\n",
    "* Your submission should be readable, (the graders can understand your answers,) and it should **include all code used in your analysis in a file format that the code can be executed.** \n",
    "\n",
    "Rules\n",
    "* The exam is open-material, closed-communication.\n",
    "* You do not need to cite material from the course github repo--you are welcome to use the code posted there without citation.\n",
    "\n",
    "Advice\n",
    "* If you find any question to be unclear, state your interpretation and proceed. We will only answer questions of interpretation if there is a typo, error, etc.\n",
    "* The exam will be graded for partial credit."
   ]
  },
  {
   "cell_type": "markdown",
   "id": "7b7afbc2",
   "metadata": {},
   "source": [
    "## Data\n",
    "\n",
    "**All data files are found in the class github repo, in the `data` folder.**\n",
    "\n",
    "This exam makes use of the following data files:\n",
    "* `final_exam_data.xlsx`\n",
    "\n",
    "This file has sheets for...\n",
    "* `portfolio` (weekly) - Part 2\n",
    "* `forecasting` (monthly) - Part 3\n",
    "* `fx_carry`(daily) - Part 4"
   ]
  },
  {
   "cell_type": "markdown",
   "id": "9a7aec78",
   "metadata": {},
   "source": [
    "## Scoring\n",
    "\n",
    "| Problem | Points |\n",
    "|---------|--------|\n",
    "| 1       | 40     |\n",
    "| 2       | 25     |\n",
    "| 3       | 50     |\n",
    "| 4       | 40     |"
   ]
  },
  {
   "cell_type": "markdown",
   "id": "e8440fdb",
   "metadata": {},
   "source": [
    "### Each numbered question is worth 5 points unless otherwise specified."
   ]
  },
  {
   "cell_type": "markdown",
   "id": "2a871c03",
   "metadata": {},
   "source": [
    "### Notation\n",
    "(Hidden LaTeX commands)\n",
    "\n",
    "$$\\newcommand{\\betamkt}{\\beta^{i,\\text{MKT}}}$$\n",
    "$$\\newcommand{\\betahml}{\\beta^{i,\\text{HML}}}$$\n",
    "$$\\newcommand{\\betaumd}{\\beta^{i,\\text{UMD}}}$$\n",
    "$$\\newcommand{\\Eri}{E\\left[\\tilde{r}^{i}\\right]}$$\n",
    "$$\\newcommand{\\Emkt}{E\\left[\\tilde{r}^{\\text{MKT}}\\right]}$$\n",
    "$$\\newcommand{\\Ehml}{E\\left[\\tilde{r}^{\\text{HML}}\\right]}$$\n",
    "$$\\newcommand{\\Eumd}{E\\left[\\tilde{r}^{\\text{UMD}}\\right]}$$\n",
    "\n",
    "$$\\newcommand{\\frn}{\\text{MXN}}$$\n",
    "$$\\newcommand{\\frnrate}{\\text{MXSTR}}$$\n",
    "$$\\newcommand{\\FXspot}{S}$$\n",
    "$$\\newcommand{\\fxspot}{\\texttt{s}}$$\n",
    "$$\\newcommand{\\rflogusd}{\\texttt{r}^{\\text{USD}}}$$\n",
    "$$\\newcommand{\\rflogfrn}{\\texttt{r}^{\\frn}}$$\n",
    "\n",
    "$$\\newcommand{\\wintt}{t,t+1}$$\n",
    "\n",
    "$$\\newcommand{\\targ}{\\text{USO}}$$"
   ]
  },
  {
   "cell_type": "markdown",
   "id": "7c6d313f",
   "metadata": {},
   "source": [
    "# 1. Short Answer"
   ]
  },
  {
   "cell_type": "markdown",
   "id": "3badfbc9",
   "metadata": {},
   "source": [
    "#### No Data Needed\n",
    "\n",
    "These problems do not require any data file. Rather, analyze them conceptually. "
   ]
  },
  {
   "cell_type": "markdown",
   "id": "1f5de85d",
   "metadata": {},
   "source": [
    "### 1.\n",
    "\n",
    "Consider a Linear Factor Pricing Model (LFPM).\n",
    "\n",
    "Which metric do we examine to understand its fit, (or errors)...\n",
    "* given the estimated **time-series (TS)** test?\n",
    "* given the estimated **cross-sectional (CS)** test?"
   ]
  },
  {
   "cell_type": "markdown",
   "id": "9cb4b509",
   "metadata": {},
   "source": [
    "<span style='color:red'>\n",
    "\n",
    "**Solution**\n",
    "\n",
    "For the TS test: erros are measured by the alphas of each time series regression. We can use MAE (of alphas), F-test, etc. to measure overall fit and statistical significance of the alphas. For joint significance of alphas, we could use the GRS test. \n",
    "\n",
    "For the CS test: errors are measured by the residuals of the cross-sectional regression, via the MAE (of the residuals). We can also use the r-squared of the cross-sectional regression to measure overall fit.\n",
    "</span>"
   ]
  },
  {
   "cell_type": "markdown",
   "id": "fb06635a",
   "metadata": {},
   "source": [
    "### 2.\n",
    "\n",
    "Consider the Arbitrage Pricing Theory (APT). Is it fair to say that it is more likely to work for sets of assets with low cross-correlation? Why or why not?"
   ]
  },
  {
   "cell_type": "markdown",
   "id": "a289a0b8",
   "metadata": {},
   "source": [
    "<span style='color:red'>\n",
    "\n",
    "**Solution**\n",
    "\n",
    "No, we can't say that. APT requires that the **residuals** have zero correlation to each other, not the overall assets. It is possible that the assets are highly correlated, but this is due to a strong factor structure, ie. the assets are highly correlated because the same factors drive their returns. In this case, after the Linear Factor Decomposition (LFD) there is no correlation left.\n",
    "\n",
    "Raw correlation of the returns is not indicative of what the post-factor-decomposition correlation will be.\n",
    "\n",
    "</span>"
   ]
  },
  {
   "cell_type": "markdown",
   "id": "084118c1",
   "metadata": {},
   "source": [
    "### 3.\n",
    "\n",
    "In constructing momentum portfolios, we discussed selecting the top and bottom 10% of stocks, ranked by past returns. How do you think the strategy would be impacted if we were more extreme in the selection, and went long-short just the top / bottom 1% of total stocks?"
   ]
  },
  {
   "cell_type": "markdown",
   "id": "3b0247f0",
   "metadata": {},
   "source": [
    "<span style='color:red'>\n",
    "\n",
    "**Solution**\n",
    "\n",
    "Stricter selection will, according to our model, load on higher mean returns but with less diversification and higher idiosyncratic risk. Thus, we expect higher mean returns and higher vol to this strategy.\n",
    "\n",
    "We explored this in Homework 6, where we found the conclusion above by ranging from 5 to 3 to 1 deciles.\n",
    "\n",
    "</span>"
   ]
  },
  {
   "cell_type": "markdown",
   "id": "392d7627",
   "metadata": {},
   "source": [
    "### 4.\n",
    "\n",
    "Over longer horizons, do investments have higher Sharpe ratios? How is this issue relevant to long-term asset allocators such as Barnstable?"
   ]
  },
  {
   "cell_type": "markdown",
   "id": "9527b738",
   "metadata": {},
   "source": [
    "<span style='color:red'>\n",
    "\n",
    "**Solution**\n",
    "\n",
    "Yes.\n",
    "\n",
    "We found that returns have low serial correlation, and that they closely matched the simple iid log return model's prediction of sharpe ratios expanding with the square root of the horizon (ie. the standard deviation of the return scales with the square root of the horizon, while the mean return scales linearly with the horizon).\n",
    "\n",
    "Therefore, for Barnstable and other institutional investors, this means that the investment environment is better for long-run strategies than short-run strategies.\n",
    "\n",
    "</span>"
   ]
  },
  {
   "cell_type": "markdown",
   "id": "1dbd069f",
   "metadata": {},
   "source": [
    "### 5.\n",
    "\n",
    "Before it crashed, how did LTCM's performance compare to the S&P (SPY)? Was it an attractive investment? Be specific."
   ]
  },
  {
   "cell_type": "markdown",
   "id": "aca4e752",
   "metadata": {},
   "source": [
    "<span style='color:red'>\n",
    "\n",
    "**Solution**\n",
    "\n",
    "Compared to SPY: it was broadly similar in terms of univariate statistics over the period (SPY did particularly well in the period).\n",
    "\n",
    "However, it had a very good absolute return and low volatility for both the gross and net returns. Most importantly, though, it had a very low market beta and a very high alpha, meaning that it provided an extremely attractive investment opportunity as it was able to provide a high return with low correlation to the market.\n",
    "\n",
    "</span>"
   ]
  },
  {
   "cell_type": "markdown",
   "id": "829847ee",
   "metadata": {},
   "source": [
    "### 6.\n",
    "\n",
    "Suppose investors are **not** mean-variance investors. If we find an investment with a Sharpe ratio higher than the \"market\", would this would be inconsistent with the CAPM?"
   ]
  },
  {
   "cell_type": "markdown",
   "id": "04e51030",
   "metadata": {},
   "source": [
    "<span style='color:red'>\n",
    "\n",
    "**Solution**\n",
    "\n",
    "Yes.\n",
    "\n",
    "This is a follow-up question to Midterm 2, where we found that:\n",
    "\n",
    "$$\n",
    "\\textrm{SR}^i = (\\rho_{i,\\textrm{MKT}}) \\cdot \\textrm{SR}^{\\textrm{MKT}} \\;\\;\\;\\; R^2 = \\rho_{i,\\textrm{MKT}}^2\n",
    "$$\n",
    "\n",
    "Since $\\rho$ is bounded by $\\pm 1$, then it means we can at most have a Sharpe ratio that is equal to the market's Sharpe ratio. That is, the market factor has the maximum sharpe, regardless of whether any investor is an MV investor. Therefore, finding a higher Sharpe ratio than the market is inconsistent with the CAPM.\n",
    "\n",
    "</span>"
   ]
  },
  {
   "cell_type": "markdown",
   "id": "7b350dc0",
   "metadata": {},
   "source": [
    "### 7.\n",
    "\n",
    "What causes us concern about the performance of classic mean-variance optimization out-of-sample?\n",
    "\n",
    "What is one of the potential solutions we discussed?"
   ]
  },
  {
   "cell_type": "markdown",
   "id": "ba7e6a16",
   "metadata": {},
   "source": [
    "<span style='color:red'>\n",
    "\n",
    "**Solution**\n",
    "\n",
    "We found that OOS performance is normally due to:\n",
    "- Poorly estimated mean returns (TIPS example)\n",
    "- Low condition number of the covariance matrix; which causes extreme weights.\n",
    "\n",
    "Thus, inverting the covariance matrix when it is close to singular multiplies the uncertainty in the mean returns. This leads to very uncertain weights, which out of sample can change drastically.\n",
    "\n",
    "There are several ways around this problem, the one we discussed most was regularization/shrinkage.\n",
    "\n",
    "</span>"
   ]
  },
  {
   "cell_type": "markdown",
   "id": "f0ded71f",
   "metadata": {},
   "source": [
    "### 8.\n",
    "\n",
    "True or False: Uncovered Interest Parity implies Covered Interest Parity, but not vice-versa.\n",
    "\n",
    "Explain."
   ]
  },
  {
   "cell_type": "markdown",
   "id": "4748551b",
   "metadata": {},
   "source": [
    "<span style='color:red'>\n",
    "\n",
    "**Solution**\n",
    "\n",
    "False. \n",
    "\n",
    "Neither implies the other directly. CIP is a no-arbitrage condition when trying to construct a carry-trade using the forward market. On the other hand, UIP is just a theory/statement about the relationship between interest rate differentials and **expected** FX returns, ie. that there is no risk premia in FX risk.\n",
    "\n",
    "</span>"
   ]
  },
  {
   "cell_type": "markdown",
   "id": "543043b4",
   "metadata": {},
   "source": [
    "***"
   ]
  },
  {
   "cell_type": "markdown",
   "id": "43d5c9c3",
   "metadata": {},
   "source": [
    "## Importing Libraries"
   ]
  },
  {
   "cell_type": "code",
   "execution_count": 1,
   "id": "e8756465",
   "metadata": {},
   "outputs": [],
   "source": [
    "import pandas as pd\n",
    "import numpy as np\n",
    "import statsmodels.api as sm\n",
    "\n",
    "import os\n",
    "if not os.getcwd().endswith(\"data\"):\n",
    "    os.chdir(\"../data\")"
   ]
  },
  {
   "cell_type": "code",
   "execution_count": 4,
   "id": "bc119de1",
   "metadata": {},
   "outputs": [],
   "source": [
    "portfolio = pd.read_excel('final_exam_data.xlsx', sheet_name = 'portfolio') ##weekly\n",
    "forecasting = pd.read_excel('final_exam_data.xlsx', sheet_name = 'forecasting').set_index('date') ##monthly\n",
    "fx_data = pd.read_excel('final_exam_data.xlsx', sheet_name = 'fx_carry', index_col=0) ## daily"
   ]
  },
  {
   "cell_type": "markdown",
   "id": "5092662b",
   "metadata": {},
   "source": [
    "## Helper Functions\n",
    "\n",
    "### Performance Summary"
   ]
  },
  {
   "cell_type": "code",
   "execution_count": 5,
   "id": "e3f6a71c",
   "metadata": {},
   "outputs": [],
   "source": [
    "def performance_summary(return_data, annualization = 12):\n",
    "    \"\"\" \n",
    "        Returns the Performance Stats for given set of returns\n",
    "        Inputs: \n",
    "            return_data - DataFrame with Date index and Monthly Returns for different assets/strategies.\n",
    "        Output:\n",
    "            summary_stats - DataFrame with annualized mean return, vol, sharpe ratio. Skewness, Excess Kurtosis, Var (0.5) and\n",
    "                            CVaR (0.5) and drawdown based on monthly returns. \n",
    "    \"\"\"\n",
    "    summary_stats = return_data.mean().to_frame('Mean').apply(lambda x: x*annualization)\n",
    "    summary_stats['Volatility'] = return_data.std().apply(lambda x: x*np.sqrt(annualization))\n",
    "    summary_stats['Sharpe Ratio'] = summary_stats['Mean']/summary_stats['Volatility']\n",
    "    \n",
    "    summary_stats['Skewness'] = return_data.skew()\n",
    "    summary_stats['Excess Kurtosis'] = return_data.kurtosis()\n",
    "    summary_stats['VaR (0.05)'] = return_data.quantile(.05, axis = 0)\n",
    "    summary_stats['CVaR (0.05)'] = return_data[return_data <= return_data.quantile(.05, axis = 0)].mean()\n",
    "    summary_stats['Min'] = return_data.min()\n",
    "    summary_stats['Max'] = return_data.max()\n",
    "    \n",
    "    wealth_index = 1000*(1+return_data).cumprod()\n",
    "    previous_peaks = wealth_index.cummax()\n",
    "    drawdowns = (wealth_index - previous_peaks)/previous_peaks\n",
    "\n",
    "    summary_stats['Max Drawdown'] = drawdowns.min()\n",
    "    summary_stats['Peak'] = [previous_peaks[col][:drawdowns[col].idxmin()].idxmax() for col in previous_peaks.columns]\n",
    "    summary_stats['Bottom'] = drawdowns.idxmin()\n",
    "    \n",
    "    recovery_date = []\n",
    "    for col in wealth_index.columns:\n",
    "        prev_max = previous_peaks[col][:drawdowns[col].idxmin()].max()\n",
    "        recovery_wealth = pd.DataFrame([wealth_index[col][drawdowns[col].idxmin():]]).T\n",
    "        recovery_date.append(recovery_wealth[recovery_wealth[col] >= prev_max].index.min())\n",
    "    summary_stats['Recovery'] = recovery_date\n",
    "    \n",
    "    return summary_stats"
   ]
  },
  {
   "cell_type": "markdown",
   "id": "0a6634c0",
   "metadata": {},
   "source": [
    "### Time-series Regression"
   ]
  },
  {
   "cell_type": "code",
   "execution_count": 6,
   "id": "3174f4de",
   "metadata": {},
   "outputs": [],
   "source": [
    "def time_series_regression(portfolio, factors, multiple_factors = False, resid = False, annualization = 1):\n",
    "    \n",
    "    ff_report = pd.DataFrame(index=portfolio.columns)\n",
    "    bm_residuals = pd.DataFrame(columns=portfolio.columns)\n",
    "\n",
    "    rhs = sm.add_constant(factors)\n",
    "\n",
    "    for portf in portfolio.columns:\n",
    "        lhs = portfolio[portf]\n",
    "        res = sm.OLS(lhs, rhs, missing='drop').fit()\n",
    "        ff_report.loc[portf, 'alpha_hat'] = res.params['const']*annualization\n",
    "        if multiple_factors:\n",
    "            ff_report.loc[portf, factors.columns[0] + ' beta'] = res.params[1]\n",
    "            ff_report.loc[portf, factors.columns[1]+ ' beta'] = res.params[2] \n",
    "        else:\n",
    "            ff_report.loc[portf, factors.name + ' beta'] = res.params[1]\n",
    "\n",
    "            \n",
    "        ff_report.loc[portf, 'info_ratio'] = np.sqrt(12) * res.params['const'] / res.resid.std()\n",
    "        ff_report.loc[portf, 'treynor_ratio'] =  annualization* portfolio[portf].mean() / res.params[1]\n",
    "        ff_report.loc[portf, 'R-squared'] = res.rsquared\n",
    "        ff_report.loc[portf, 'Tracking Error'] = (res.resid.std()*np.sqrt(12))\n",
    "\n",
    "        if resid:\n",
    "            bm_residuals[portf] = res.resid\n",
    "            \n",
    "            \n",
    "        \n",
    "    if resid:\n",
    "        return bm_residuals\n",
    "        \n",
    "    return ff_report"
   ]
  },
  {
   "cell_type": "markdown",
   "id": "ec8dcb78",
   "metadata": {},
   "source": [
    "### Tangency Weights"
   ]
  },
  {
   "cell_type": "code",
   "execution_count": 7,
   "id": "75d0a27d",
   "metadata": {},
   "outputs": [],
   "source": [
    "def tangency_weights(returns, cov_mat = 1):\n",
    "    \n",
    "    if cov_mat ==1:\n",
    "        cov_inv = np.linalg.inv((returns.cov()*12))\n",
    "    else:\n",
    "        cov = returns.cov()\n",
    "        covmat_diag = np.diag(np.diag((cov)))\n",
    "        covmat = cov_mat * cov + (1-cov_mat) * covmat_diag\n",
    "        cov_inv = np.linalg.inv((covmat*12))  \n",
    "        \n",
    "    ones = np.ones(returns.columns[1:].shape) \n",
    "    mu = returns.mean()*12\n",
    "    scaling = 1/(np.transpose(ones) @ cov_inv @ mu)\n",
    "    tangent_return = scaling*(cov_inv @ mu) \n",
    "    tangency_wts = pd.DataFrame(index = returns.columns[1:], data = tangent_return, columns = ['Tangent Weights'] )\n",
    "        \n",
    "    return tangency_wts"
   ]
  },
  {
   "cell_type": "markdown",
   "id": "8a88a97d",
   "metadata": {},
   "source": [
    "### Global-Minimum Variance Weights"
   ]
  },
  {
   "cell_type": "code",
   "execution_count": 8,
   "id": "d27d8666",
   "metadata": {},
   "outputs": [],
   "source": [
    "def gmv_weights(tot_returns):\n",
    "    \n",
    "    ones = np.ones(tot_returns.columns[1:].shape)\n",
    "    cov = tot_returns.cov()*12\n",
    "    cov_inv = np.linalg.inv(cov)\n",
    "    scaling = 1/(np.transpose(ones) @ cov_inv @ ones)\n",
    "    gmv_tot = scaling * cov_inv @ ones\n",
    "    gmv_wts = pd.DataFrame(index = tot_returns.columns[1:], data = gmv_tot, columns = ['GMV Weights'] )\n",
    "\n",
    "    \n",
    "    return gmv_wts\n"
   ]
  },
  {
   "cell_type": "markdown",
   "id": "9c7e95fe",
   "metadata": {},
   "source": [
    "### Mean-Variance Portfolio"
   ]
  },
  {
   "cell_type": "code",
   "execution_count": 9,
   "id": "2aec743c",
   "metadata": {},
   "outputs": [],
   "source": [
    "def mv_portfolio_excess_returns(target_ret, ex_ret):\n",
    "    \n",
    "    mu_tilde = ex_ret.copy().set_index('date').mean()\n",
    "    \n",
    "    Sigma_adj = ex_ret.copy().set_index('date').cov()\n",
    "    \n",
    "    Sigma_inv = np.linalg.inv(Sigma_adj)\n",
    "    \n",
    "    N = Sigma_adj.shape[0]\n",
    "    \n",
    "    delta_tilde = ((np.ones(N) @ Sigma_inv @ mu_tilde)/(mu_tilde @ Sigma_inv @ mu_tilde)) * target_ret\n",
    "    \n",
    "    omega_star = delta_tilde * tan_wts\n",
    "    \n",
    "    return omega_star\n",
    "    "
   ]
  },
  {
   "cell_type": "code",
   "execution_count": 10,
   "id": "cd5555a7",
   "metadata": {},
   "outputs": [],
   "source": [
    "def mv_portfolio(target_ret, tot_returns):\n",
    "    \n",
    "    mu_tan = tot_returns.mean() @ tangency_weights(tot_returns, cov_mat = 1)\n",
    "    mu_gmv = tot_returns.mean() @ gmv_weights(tot_returns)\n",
    "    \n",
    "    delta = (target_ret - mu_gmv[0])/(mu_tan[0] - mu_gmv[0])\n",
    "    mv_weights = (delta * tangency_weights(tot_returns, cov_mat = 1)).values + ((1-delta)*gmv_weights(tot_returns)).values\n",
    "    \n",
    "    MV = pd.DataFrame(index = tot_returns.columns[1:], data = mv_weights, columns = ['MV Weights'] )\n",
    "    MV['tangency weights'] =  tangency_weights(tot_returns, cov_mat = 1).values\n",
    "    MV['GMV weights'] =   gmv_weights(tot_returns).values\n",
    "\n",
    "\n",
    "    return MV\n"
   ]
  },
  {
   "cell_type": "markdown",
   "id": "d65e43f1",
   "metadata": {},
   "source": [
    "### OOS forecast strategy"
   ]
  },
  {
   "cell_type": "code",
   "execution_count": 11,
   "id": "28a83910",
   "metadata": {},
   "outputs": [],
   "source": [
    "def OOS_strat(df, factors, start):\n",
    "    y = df\n",
    "    X = sm.add_constant(factors)\n",
    "\n",
    "    forecast_err, null_err,oos_predictions,null_predictions = [], [],[],[]\n",
    "\n",
    "    for i,j in enumerate(df.index):\n",
    "        if i >= start:\n",
    "            currX = X.iloc[:i]\n",
    "            currY = y.iloc[:i]\n",
    "            reg = sm.OLS(currY, currX, missing = 'drop').fit()\n",
    "            null_forecast = currY.mean()\n",
    "            reg_predict = reg.predict(X.iloc[[i]])\n",
    "            actual = y.iloc[[i]]\n",
    "            oos_predictions.append(reg_predict.T)\n",
    "            null_predictions.append(pd.DataFrame([[reg_predict.index[0]]], columns = ['date'], index = [null_forecast]))\n",
    "            forecast_err.append(reg_predict.values - actual)\n",
    "            null_err.append(null_forecast.values - actual)\n",
    "            \n",
    "    RSS = (np.array(forecast_err)**2).sum()\n",
    "    TSS = (np.array(null_err)**2).sum()\n",
    "    predictions_df = pd.concat(oos_predictions).T.drop_duplicates()\n",
    "    null_predictions_df = pd.concat(null_predictions).T\n",
    "    \n",
    "    return ((1 - RSS/TSS),reg,predictions_df,null_predictions_df)"
   ]
  },
  {
   "cell_type": "markdown",
   "id": "47696b9f",
   "metadata": {},
   "source": [
    "### OOS R-squared"
   ]
  },
  {
   "cell_type": "code",
   "execution_count": 12,
   "id": "886b2757",
   "metadata": {},
   "outputs": [],
   "source": [
    "def OOS_r2(df, factors, start):\n",
    "    y = df['SPY']\n",
    "    X = sm.add_constant(factors)\n",
    "\n",
    "    forecast_err, null_err = [], []\n",
    "\n",
    "    for i,j in enumerate(df.index):\n",
    "        if i >= start:\n",
    "            currX = X.iloc[:i]\n",
    "            currY = y.iloc[:i]\n",
    "            reg = sm.OLS(currY, currX, missing = 'drop').fit()\n",
    "            null_forecast = currY.mean()\n",
    "            reg_predict = reg.predict(X.iloc[[i]])\n",
    "            actual = y.iloc[[i]]\n",
    "            forecast_err.append(reg_predict - actual)\n",
    "            null_err.append(null_forecast - actual)\n",
    "            \n",
    "    RSS = (np.array(forecast_err)**2).sum()\n",
    "    TSS = (np.array(null_err)**2).sum()\n",
    "    \n",
    "    return ((1 - RSS/TSS),reg)"
   ]
  },
  {
   "cell_type": "markdown",
   "id": "f34af08e",
   "metadata": {},
   "source": [
    "# 2. Optimization\n",
    "\n",
    "Use the data found in the `portfolio` tab. it is weekly data."
   ]
  },
  {
   "cell_type": "markdown",
   "id": "dd9404dd",
   "metadata": {},
   "source": [
    "### 1.\n",
    "\n",
    "Assume the provided data is in terms of **excess** returns.\n",
    "\n",
    "Report the weights of the tangency portfolio.\n",
    "\n",
    "Report the weights of the MV portfolio which achieves a mean weekly return of `0.0025`."
   ]
  },
  {
   "cell_type": "code",
   "execution_count": 13,
   "id": "fe5ccc94",
   "metadata": {},
   "outputs": [
    {
     "data": {
      "text/html": [
       "<div>\n",
       "<style scoped>\n",
       "    .dataframe tbody tr th:only-of-type {\n",
       "        vertical-align: middle;\n",
       "    }\n",
       "\n",
       "    .dataframe tbody tr th {\n",
       "        vertical-align: top;\n",
       "    }\n",
       "\n",
       "    .dataframe thead th {\n",
       "        text-align: right;\n",
       "    }\n",
       "</style>\n",
       "<table border=\"1\" class=\"dataframe\">\n",
       "  <thead>\n",
       "    <tr style=\"text-align: right;\">\n",
       "      <th></th>\n",
       "      <th>Tangent Weights</th>\n",
       "    </tr>\n",
       "  </thead>\n",
       "  <tbody>\n",
       "    <tr>\n",
       "      <th>SPY</th>\n",
       "      <td>0.857595</td>\n",
       "    </tr>\n",
       "    <tr>\n",
       "      <th>BTC</th>\n",
       "      <td>0.141710</td>\n",
       "    </tr>\n",
       "    <tr>\n",
       "      <th>USO</th>\n",
       "      <td>-0.043098</td>\n",
       "    </tr>\n",
       "    <tr>\n",
       "      <th>TLT</th>\n",
       "      <td>-0.040488</td>\n",
       "    </tr>\n",
       "    <tr>\n",
       "      <th>IEF</th>\n",
       "      <td>0.167449</td>\n",
       "    </tr>\n",
       "    <tr>\n",
       "      <th>IYR</th>\n",
       "      <td>-0.440830</td>\n",
       "    </tr>\n",
       "    <tr>\n",
       "      <th>GLD</th>\n",
       "      <td>0.357662</td>\n",
       "    </tr>\n",
       "  </tbody>\n",
       "</table>\n",
       "</div>"
      ],
      "text/plain": [
       "     Tangent Weights\n",
       "SPY         0.857595\n",
       "BTC         0.141710\n",
       "USO        -0.043098\n",
       "TLT        -0.040488\n",
       "IEF         0.167449\n",
       "IYR        -0.440830\n",
       "GLD         0.357662"
      ]
     },
     "execution_count": 13,
     "metadata": {},
     "output_type": "execute_result"
    }
   ],
   "source": [
    "tan_wts = tangency_weights(portfolio, cov_mat = 1)\n",
    "tan_wts"
   ]
  },
  {
   "cell_type": "code",
   "execution_count": 14,
   "id": "3da542ab",
   "metadata": {},
   "outputs": [
    {
     "data": {
      "text/html": [
       "<div>\n",
       "<style scoped>\n",
       "    .dataframe tbody tr th:only-of-type {\n",
       "        vertical-align: middle;\n",
       "    }\n",
       "\n",
       "    .dataframe tbody tr th {\n",
       "        vertical-align: top;\n",
       "    }\n",
       "\n",
       "    .dataframe thead th {\n",
       "        text-align: right;\n",
       "    }\n",
       "</style>\n",
       "<table border=\"1\" class=\"dataframe\">\n",
       "  <thead>\n",
       "    <tr style=\"text-align: right;\">\n",
       "      <th></th>\n",
       "      <th>Tangent Weights</th>\n",
       "    </tr>\n",
       "  </thead>\n",
       "  <tbody>\n",
       "    <tr>\n",
       "      <th>SPY</th>\n",
       "      <td>0.479969</td>\n",
       "    </tr>\n",
       "    <tr>\n",
       "      <th>BTC</th>\n",
       "      <td>0.079311</td>\n",
       "    </tr>\n",
       "    <tr>\n",
       "      <th>USO</th>\n",
       "      <td>-0.024120</td>\n",
       "    </tr>\n",
       "    <tr>\n",
       "      <th>TLT</th>\n",
       "      <td>-0.022660</td>\n",
       "    </tr>\n",
       "    <tr>\n",
       "      <th>IEF</th>\n",
       "      <td>0.093716</td>\n",
       "    </tr>\n",
       "    <tr>\n",
       "      <th>IYR</th>\n",
       "      <td>-0.246719</td>\n",
       "    </tr>\n",
       "    <tr>\n",
       "      <th>GLD</th>\n",
       "      <td>0.200172</td>\n",
       "    </tr>\n",
       "  </tbody>\n",
       "</table>\n",
       "</div>"
      ],
      "text/plain": [
       "     Tangent Weights\n",
       "SPY         0.479969\n",
       "BTC         0.079311\n",
       "USO        -0.024120\n",
       "TLT        -0.022660\n",
       "IEF         0.093716\n",
       "IYR        -0.246719\n",
       "GLD         0.200172"
      ]
     },
     "execution_count": 14,
     "metadata": {},
     "output_type": "execute_result"
    }
   ],
   "source": [
    "mv_er = mv_portfolio_excess_returns(0.0025, portfolio)\n",
    "mv_er"
   ]
  },
  {
   "cell_type": "markdown",
   "id": "7241fe2d",
   "metadata": {},
   "source": [
    "### 2.\n",
    "\n",
    "Assume the provided data is in terms of **total** returns.\n",
    "\n",
    "Report the weights of the GMV portfolio\n",
    "\n",
    "Report the weights of the MV portfolio which achieves a mean weekly return of `0.0025`."
   ]
  },
  {
   "cell_type": "code",
   "execution_count": 15,
   "id": "241c3d7e",
   "metadata": {},
   "outputs": [
    {
     "data": {
      "text/html": [
       "<div>\n",
       "<style scoped>\n",
       "    .dataframe tbody tr th:only-of-type {\n",
       "        vertical-align: middle;\n",
       "    }\n",
       "\n",
       "    .dataframe tbody tr th {\n",
       "        vertical-align: top;\n",
       "    }\n",
       "\n",
       "    .dataframe thead th {\n",
       "        text-align: right;\n",
       "    }\n",
       "</style>\n",
       "<table border=\"1\" class=\"dataframe\">\n",
       "  <thead>\n",
       "    <tr style=\"text-align: right;\">\n",
       "      <th></th>\n",
       "      <th>GMV Weights</th>\n",
       "    </tr>\n",
       "  </thead>\n",
       "  <tbody>\n",
       "    <tr>\n",
       "      <th>SPY</th>\n",
       "      <td>0.092076</td>\n",
       "    </tr>\n",
       "    <tr>\n",
       "      <th>BTC</th>\n",
       "      <td>-0.001009</td>\n",
       "    </tr>\n",
       "    <tr>\n",
       "      <th>USO</th>\n",
       "      <td>0.002750</td>\n",
       "    </tr>\n",
       "    <tr>\n",
       "      <th>TLT</th>\n",
       "      <td>-0.476953</td>\n",
       "    </tr>\n",
       "    <tr>\n",
       "      <th>IEF</th>\n",
       "      <td>1.427028</td>\n",
       "    </tr>\n",
       "    <tr>\n",
       "      <th>IYR</th>\n",
       "      <td>-0.041140</td>\n",
       "    </tr>\n",
       "    <tr>\n",
       "      <th>GLD</th>\n",
       "      <td>-0.002752</td>\n",
       "    </tr>\n",
       "  </tbody>\n",
       "</table>\n",
       "</div>"
      ],
      "text/plain": [
       "     GMV Weights\n",
       "SPY     0.092076\n",
       "BTC    -0.001009\n",
       "USO     0.002750\n",
       "TLT    -0.476953\n",
       "IEF     1.427028\n",
       "IYR    -0.041140\n",
       "GLD    -0.002752"
      ]
     },
     "execution_count": 15,
     "metadata": {},
     "output_type": "execute_result"
    }
   ],
   "source": [
    "gmv_wts = gmv_weights(portfolio)\n",
    "gmv_wts"
   ]
  },
  {
   "cell_type": "code",
   "execution_count": 16,
   "id": "2d2a789b",
   "metadata": {},
   "outputs": [
    {
     "data": {
      "text/html": [
       "<div>\n",
       "<style scoped>\n",
       "    .dataframe tbody tr th:only-of-type {\n",
       "        vertical-align: middle;\n",
       "    }\n",
       "\n",
       "    .dataframe tbody tr th {\n",
       "        vertical-align: top;\n",
       "    }\n",
       "\n",
       "    .dataframe thead th {\n",
       "        text-align: right;\n",
       "    }\n",
       "</style>\n",
       "<table border=\"1\" class=\"dataframe\">\n",
       "  <thead>\n",
       "    <tr style=\"text-align: right;\">\n",
       "      <th></th>\n",
       "      <th>MV Weights</th>\n",
       "      <th>tangency weights</th>\n",
       "      <th>GMV weights</th>\n",
       "    </tr>\n",
       "  </thead>\n",
       "  <tbody>\n",
       "    <tr>\n",
       "      <th>SPY</th>\n",
       "      <td>0.498982</td>\n",
       "      <td>0.857595</td>\n",
       "      <td>0.092076</td>\n",
       "    </tr>\n",
       "    <tr>\n",
       "      <th>BTC</th>\n",
       "      <td>0.074852</td>\n",
       "      <td>0.141710</td>\n",
       "      <td>-0.001009</td>\n",
       "    </tr>\n",
       "    <tr>\n",
       "      <th>USO</th>\n",
       "      <td>-0.021620</td>\n",
       "      <td>-0.043098</td>\n",
       "      <td>0.002750</td>\n",
       "    </tr>\n",
       "    <tr>\n",
       "      <th>TLT</th>\n",
       "      <td>-0.244953</td>\n",
       "      <td>-0.040488</td>\n",
       "      <td>-0.476953</td>\n",
       "    </tr>\n",
       "    <tr>\n",
       "      <th>IEF</th>\n",
       "      <td>0.757509</td>\n",
       "      <td>0.167449</td>\n",
       "      <td>1.427028</td>\n",
       "    </tr>\n",
       "    <tr>\n",
       "      <th>IYR</th>\n",
       "      <td>-0.253592</td>\n",
       "      <td>-0.440830</td>\n",
       "      <td>-0.041140</td>\n",
       "    </tr>\n",
       "    <tr>\n",
       "      <th>GLD</th>\n",
       "      <td>0.188823</td>\n",
       "      <td>0.357662</td>\n",
       "      <td>-0.002752</td>\n",
       "    </tr>\n",
       "  </tbody>\n",
       "</table>\n",
       "</div>"
      ],
      "text/plain": [
       "     MV Weights  tangency weights  GMV weights\n",
       "SPY    0.498982          0.857595     0.092076\n",
       "BTC    0.074852          0.141710    -0.001009\n",
       "USO   -0.021620         -0.043098     0.002750\n",
       "TLT   -0.244953         -0.040488    -0.476953\n",
       "IEF    0.757509          0.167449     1.427028\n",
       "IYR   -0.253592         -0.440830    -0.041140\n",
       "GLD    0.188823          0.357662    -0.002752"
      ]
     },
     "execution_count": 16,
     "metadata": {},
     "output_type": "execute_result"
    }
   ],
   "source": [
    "mv_wts = mv_portfolio(0.0025, portfolio)\n",
    "mv_wts"
   ]
  },
  {
   "cell_type": "markdown",
   "id": "ab07dc90",
   "metadata": {},
   "source": [
    "### 3.\n",
    "\n",
    "Conceptually, what is the difference between the portfolios in part 1 and part 2?\n",
    "\n",
    "Mathematically, what is the difference in their optimizations?"
   ]
  },
  {
   "cell_type": "markdown",
   "id": "0ac55b1c",
   "metadata": {},
   "source": [
    "<span style='color:red'>\n",
    "\n",
    "**Solution**\n",
    "\n",
    "Difference conceptually is whether we are dealing with total or excess returns. That is, whether we have a risk-free rate or not. When we are dealing with total returns, we achieve the target return by considering a portfolio that is a linear combination of the tangency portfolio and the GMV portfolio whereas for excess returns, we are achieving the target return with the tangency portfolio.\n",
    "\n",
    "Mathematically, the solution for excess returns has one fewer constraint in the optimization: it allows the weights to sum to anything rather than constraining the sum to be one.\n",
    "\n",
    "</span>"
   ]
  },
  {
   "cell_type": "markdown",
   "id": "029bfaa6",
   "metadata": {},
   "source": [
    "### 4.\n",
    "\n",
    "#### (10pts)\n",
    "\n",
    "Consider the following:\n",
    "* drop `BTC` from the sample\n",
    "* target a weekly mean return of `.0025`.\n",
    "* assume once again that the provided data is **excess** returns.\n",
    "\n",
    "Using data only through 2021, \n",
    "* calculate the tangency weights\n",
    "* compute the performance of this tangency portfolio in the out-of-sample (OOS) period of 2022-2023.\n",
    "\n",
    "Report the\n",
    "* mean\n",
    "* vol\n",
    "* Sharpe\n",
    "\n",
    "Compare these three metrics with the equally-weighted portfolio for 2022-2023."
   ]
  },
  {
   "cell_type": "code",
   "execution_count": 17,
   "id": "33a2ab38",
   "metadata": {},
   "outputs": [],
   "source": [
    "excess_ret_wo_BTC = portfolio.drop(columns = {'BTC'})\n",
    "excess_ret_wo_BTC_IS = excess_ret_wo_BTC.set_index('date').loc[:'2021']\n",
    "excess_ret_wo_BTC_OOS = excess_ret_wo_BTC.set_index('date').loc['2022':'2023']\n",
    "target_ret = 0.0025"
   ]
  },
  {
   "cell_type": "code",
   "execution_count": 18,
   "id": "b43ea831",
   "metadata": {},
   "outputs": [
    {
     "data": {
      "text/html": [
       "<div>\n",
       "<style scoped>\n",
       "    .dataframe tbody tr th:only-of-type {\n",
       "        vertical-align: middle;\n",
       "    }\n",
       "\n",
       "    .dataframe tbody tr th {\n",
       "        vertical-align: top;\n",
       "    }\n",
       "\n",
       "    .dataframe thead th {\n",
       "        text-align: right;\n",
       "    }\n",
       "</style>\n",
       "<table border=\"1\" class=\"dataframe\">\n",
       "  <thead>\n",
       "    <tr style=\"text-align: right;\">\n",
       "      <th></th>\n",
       "      <th>tangency</th>\n",
       "      <th>equal weights</th>\n",
       "    </tr>\n",
       "  </thead>\n",
       "  <tbody>\n",
       "    <tr>\n",
       "      <th>SPY</th>\n",
       "      <td>0.708230</td>\n",
       "      <td>0.242376</td>\n",
       "    </tr>\n",
       "    <tr>\n",
       "      <th>USO</th>\n",
       "      <td>-0.034790</td>\n",
       "      <td>0.242376</td>\n",
       "    </tr>\n",
       "    <tr>\n",
       "      <th>TLT</th>\n",
       "      <td>-0.279598</td>\n",
       "      <td>0.242376</td>\n",
       "    </tr>\n",
       "    <tr>\n",
       "      <th>IEF</th>\n",
       "      <td>1.712950</td>\n",
       "      <td>0.242376</td>\n",
       "    </tr>\n",
       "    <tr>\n",
       "      <th>IYR</th>\n",
       "      <td>-0.252887</td>\n",
       "      <td>0.242376</td>\n",
       "    </tr>\n",
       "    <tr>\n",
       "      <th>GLD</th>\n",
       "      <td>0.023858</td>\n",
       "      <td>0.242376</td>\n",
       "    </tr>\n",
       "  </tbody>\n",
       "</table>\n",
       "</div>"
      ],
      "text/plain": [
       "     tangency  equal weights\n",
       "SPY  0.708230       0.242376\n",
       "USO -0.034790       0.242376\n",
       "TLT -0.279598       0.242376\n",
       "IEF  1.712950       0.242376\n",
       "IYR -0.252887       0.242376\n",
       "GLD  0.023858       0.242376"
      ]
     },
     "execution_count": 18,
     "metadata": {},
     "output_type": "execute_result"
    }
   ],
   "source": [
    "wts = pd.DataFrame(index = excess_ret_wo_BTC_IS.columns, columns = ['tangency','equal weights'])\n",
    "wts.loc[:,'tangency'] = tangency_weights(excess_ret_wo_BTC_IS.reset_index(), cov_mat = 1)\n",
    "wts.loc[:,'equal weights'] = 1/len(excess_ret_wo_BTC_IS.columns)\n",
    "wts *= target_ret / (excess_ret_wo_BTC_IS.mean()@wts)\n",
    "wts"
   ]
  },
  {
   "cell_type": "code",
   "execution_count": 19,
   "id": "b194b2b7",
   "metadata": {},
   "outputs": [
    {
     "data": {
      "text/html": [
       "<div>\n",
       "<style scoped>\n",
       "    .dataframe tbody tr th:only-of-type {\n",
       "        vertical-align: middle;\n",
       "    }\n",
       "\n",
       "    .dataframe tbody tr th {\n",
       "        vertical-align: top;\n",
       "    }\n",
       "\n",
       "    .dataframe thead th {\n",
       "        text-align: right;\n",
       "    }\n",
       "</style>\n",
       "<table border=\"1\" class=\"dataframe\">\n",
       "  <thead>\n",
       "    <tr style=\"text-align: right;\">\n",
       "      <th></th>\n",
       "      <th>Mean</th>\n",
       "      <th>Volatility</th>\n",
       "      <th>Sharpe Ratio</th>\n",
       "      <th>Skewness</th>\n",
       "      <th>Excess Kurtosis</th>\n",
       "      <th>VaR (0.05)</th>\n",
       "      <th>CVaR (0.05)</th>\n",
       "      <th>Min</th>\n",
       "      <th>Max</th>\n",
       "      <th>Max Drawdown</th>\n",
       "      <th>Peak</th>\n",
       "      <th>Bottom</th>\n",
       "      <th>Recovery</th>\n",
       "    </tr>\n",
       "  </thead>\n",
       "  <tbody>\n",
       "    <tr>\n",
       "      <th>tangency</th>\n",
       "      <td>-0.070430</td>\n",
       "      <td>0.163527</td>\n",
       "      <td>-0.430691</td>\n",
       "      <td>0.316492</td>\n",
       "      <td>-0.055732</td>\n",
       "      <td>-0.033071</td>\n",
       "      <td>-0.041490</td>\n",
       "      <td>-0.046612</td>\n",
       "      <td>0.062863</td>\n",
       "      <td>-0.251555</td>\n",
       "      <td>2022-01-07</td>\n",
       "      <td>2022-10-14</td>\n",
       "      <td>NaT</td>\n",
       "    </tr>\n",
       "    <tr>\n",
       "      <th>equal weights</th>\n",
       "      <td>-0.036569</td>\n",
       "      <td>0.183591</td>\n",
       "      <td>-0.199185</td>\n",
       "      <td>0.321777</td>\n",
       "      <td>-0.007053</td>\n",
       "      <td>-0.041059</td>\n",
       "      <td>-0.048613</td>\n",
       "      <td>-0.054187</td>\n",
       "      <td>0.070886</td>\n",
       "      <td>-0.258158</td>\n",
       "      <td>2022-03-04</td>\n",
       "      <td>2022-10-14</td>\n",
       "      <td>NaT</td>\n",
       "    </tr>\n",
       "  </tbody>\n",
       "</table>\n",
       "</div>"
      ],
      "text/plain": [
       "                   Mean  Volatility  Sharpe Ratio  Skewness  Excess Kurtosis  \\\n",
       "tangency      -0.070430    0.163527     -0.430691  0.316492        -0.055732   \n",
       "equal weights -0.036569    0.183591     -0.199185  0.321777        -0.007053   \n",
       "\n",
       "               VaR (0.05)  CVaR (0.05)       Min       Max  Max Drawdown  \\\n",
       "tangency        -0.033071    -0.041490 -0.046612  0.062863     -0.251555   \n",
       "equal weights   -0.041059    -0.048613 -0.054187  0.070886     -0.258158   \n",
       "\n",
       "                    Peak     Bottom Recovery  \n",
       "tangency      2022-01-07 2022-10-14      NaT  \n",
       "equal weights 2022-03-04 2022-10-14      NaT  "
      ]
     },
     "execution_count": 19,
     "metadata": {},
     "output_type": "execute_result"
    }
   ],
   "source": [
    "a = performance_summary(excess_ret_wo_BTC_OOS @ wts[['tangency']], 52)\n",
    "b = performance_summary(excess_ret_wo_BTC_OOS @ wts[['equal weights']], 52)\n",
    "a.append(b)"
   ]
  },
  {
   "cell_type": "markdown",
   "id": "a8305eff",
   "metadata": {},
   "source": [
    "Equally-weighted portfolio provides a greater mean and vol of OOS returns thereby a higher Sharpe ratio as compared to in-sample tangency portfolio."
   ]
  },
  {
   "cell_type": "markdown",
   "id": "677bd192",
   "metadata": {},
   "source": [
    "***"
   ]
  },
  {
   "cell_type": "markdown",
   "id": "69c3102a",
   "metadata": {},
   "source": [
    "# 3.\n",
    "\n",
    "Forecast (total) returns on gold as tracked by the ETF ticker, $\\targ$. This ETF holds crude oil.\n",
    "\n",
    "As signals, use two interest rate signals, as seen in Treasury-notes. (No need to consider anything specific about Treasury notes, just read these as macroeconomic signals.)\n",
    "* Tnote rate\n",
    "* month-over-month change in the Tnote rate\n",
    "\n",
    "Find the all data needed for this problem in the sheet `forecasting`."
   ]
  },
  {
   "cell_type": "markdown",
   "id": "b476611f",
   "metadata": {},
   "source": [
    "### 1.\n",
    "\n",
    "Estimate a forecasting regression of $\\targ$ on the two (lagged) signals.\n",
    "\n",
    "$$r_{t+1}^\\targ = \\alpha + \\beta^{x}x_t + \\beta^z z_t + \\epsilon_{t+1}$$\n",
    "\n",
    "where\n",
    "* $x$ denotes the interest-rate signal.\n",
    "* $z$ denotes the change in rate signal.\n",
    "\n",
    "Report the r-squared, as well as the OLS estimates for the intercept and the two betas. (No need to annualize the stats.)"
   ]
  },
  {
   "cell_type": "code",
   "execution_count": 20,
   "id": "01b573bb",
   "metadata": {},
   "outputs": [
    {
     "data": {
      "text/html": [
       "<div>\n",
       "<style scoped>\n",
       "    .dataframe tbody tr th:only-of-type {\n",
       "        vertical-align: middle;\n",
       "    }\n",
       "\n",
       "    .dataframe tbody tr th {\n",
       "        vertical-align: top;\n",
       "    }\n",
       "\n",
       "    .dataframe thead th {\n",
       "        text-align: right;\n",
       "    }\n",
       "</style>\n",
       "<table border=\"1\" class=\"dataframe\">\n",
       "  <thead>\n",
       "    <tr style=\"text-align: right;\">\n",
       "      <th></th>\n",
       "      <th>alpha_hat</th>\n",
       "      <th>Tnote rate beta</th>\n",
       "      <th>Tnote rate change beta</th>\n",
       "      <th>info_ratio</th>\n",
       "      <th>treynor_ratio</th>\n",
       "      <th>R-squared</th>\n",
       "      <th>Tracking Error</th>\n",
       "    </tr>\n",
       "  </thead>\n",
       "  <tbody>\n",
       "    <tr>\n",
       "      <th>USO</th>\n",
       "      <td>0.02012</td>\n",
       "      <td>-0.009569</td>\n",
       "      <td>0.074061</td>\n",
       "      <td>0.687085</td>\n",
       "      <td>0.036705</td>\n",
       "      <td>0.028137</td>\n",
       "      <td>0.351405</td>\n",
       "    </tr>\n",
       "  </tbody>\n",
       "</table>\n",
       "</div>"
      ],
      "text/plain": [
       "     alpha_hat  Tnote rate beta  Tnote rate change beta  info_ratio  \\\n",
       "USO    0.02012        -0.009569                0.074061    0.687085   \n",
       "\n",
       "     treynor_ratio  R-squared  Tracking Error  \n",
       "USO       0.036705   0.028137        0.351405  "
      ]
     },
     "execution_count": 20,
     "metadata": {},
     "output_type": "execute_result"
    }
   ],
   "source": [
    "USO = forecasting.loc[:,['USO']]\n",
    "signal = ['Tnote rate','Tnote rate change']\n",
    "factors = forecasting.loc[:,['Tnote rate','Tnote rate change']].shift(1)\n",
    "signal_reg = time_series_regression(USO, factors, multiple_factors=True, resid=False)\n",
    "signal_reg\n"
   ]
  },
  {
   "cell_type": "markdown",
   "id": "63491c3c",
   "metadata": {},
   "source": [
    "### 2.\n",
    "\n",
    "Use your forecasted returns, $\\hat{r}^{\\targ}_{t+1}$ to build trading weights:\n",
    "\n",
    "$$w_t = 0.50 + 50\\;\\hat{r}^{\\targ}_{t+1}$$\n",
    "\n",
    "(So the rule says to hold 50% in the ETF plus/minus 50x the forecast. Recall the forecast is a monthly percentage, so it is a small number.)\n",
    "\n",
    "Calculate the return from implementing this strategy. Denote this as $r^x_t$.\n",
    "\n",
    "Report the first and last 5 values."
   ]
  },
  {
   "cell_type": "code",
   "execution_count": 21,
   "id": "d9919aa8",
   "metadata": {},
   "outputs": [
    {
     "data": {
      "text/html": [
       "<div>\n",
       "<style scoped>\n",
       "    .dataframe tbody tr th:only-of-type {\n",
       "        vertical-align: middle;\n",
       "    }\n",
       "\n",
       "    .dataframe tbody tr th {\n",
       "        vertical-align: top;\n",
       "    }\n",
       "\n",
       "    .dataframe thead th {\n",
       "        text-align: right;\n",
       "    }\n",
       "</style>\n",
       "<table border=\"1\" class=\"dataframe\">\n",
       "  <thead>\n",
       "    <tr style=\"text-align: right;\">\n",
       "      <th></th>\n",
       "      <th>Forecasted Return</th>\n",
       "    </tr>\n",
       "    <tr>\n",
       "      <th>date</th>\n",
       "      <th></th>\n",
       "    </tr>\n",
       "  </thead>\n",
       "  <tbody>\n",
       "    <tr>\n",
       "      <th>2009-06-30</th>\n",
       "      <td>0.046697</td>\n",
       "    </tr>\n",
       "    <tr>\n",
       "      <th>2009-07-31</th>\n",
       "      <td>-0.001041</td>\n",
       "    </tr>\n",
       "    <tr>\n",
       "      <th>2009-08-31</th>\n",
       "      <td>0.005171</td>\n",
       "    </tr>\n",
       "    <tr>\n",
       "      <th>2009-09-30</th>\n",
       "      <td>-0.001909</td>\n",
       "    </tr>\n",
       "    <tr>\n",
       "      <th>2009-10-31</th>\n",
       "      <td>-0.036695</td>\n",
       "    </tr>\n",
       "  </tbody>\n",
       "</table>\n",
       "</div>"
      ],
      "text/plain": [
       "            Forecasted Return\n",
       "date                         \n",
       "2009-06-30           0.046697\n",
       "2009-07-31          -0.001041\n",
       "2009-08-31           0.005171\n",
       "2009-09-30          -0.001909\n",
       "2009-10-31          -0.036695"
      ]
     },
     "metadata": {},
     "output_type": "display_data"
    },
    {
     "data": {
      "text/html": [
       "<div>\n",
       "<style scoped>\n",
       "    .dataframe tbody tr th:only-of-type {\n",
       "        vertical-align: middle;\n",
       "    }\n",
       "\n",
       "    .dataframe tbody tr th {\n",
       "        vertical-align: top;\n",
       "    }\n",
       "\n",
       "    .dataframe thead th {\n",
       "        text-align: right;\n",
       "    }\n",
       "</style>\n",
       "<table border=\"1\" class=\"dataframe\">\n",
       "  <thead>\n",
       "    <tr style=\"text-align: right;\">\n",
       "      <th></th>\n",
       "      <th>Forecasted Return</th>\n",
       "    </tr>\n",
       "    <tr>\n",
       "      <th>date</th>\n",
       "      <th></th>\n",
       "    </tr>\n",
       "  </thead>\n",
       "  <tbody>\n",
       "    <tr>\n",
       "      <th>2023-07-31</th>\n",
       "      <td>0.053407</td>\n",
       "    </tr>\n",
       "    <tr>\n",
       "      <th>2023-08-31</th>\n",
       "      <td>0.003366</td>\n",
       "    </tr>\n",
       "    <tr>\n",
       "      <th>2023-09-30</th>\n",
       "      <td>0.003397</td>\n",
       "    </tr>\n",
       "    <tr>\n",
       "      <th>2023-10-31</th>\n",
       "      <td>-0.079126</td>\n",
       "    </tr>\n",
       "    <tr>\n",
       "      <th>2023-11-30</th>\n",
       "      <td>-0.009729</td>\n",
       "    </tr>\n",
       "  </tbody>\n",
       "</table>\n",
       "</div>"
      ],
      "text/plain": [
       "            Forecasted Return\n",
       "date                         \n",
       "2023-07-31           0.053407\n",
       "2023-08-31           0.003366\n",
       "2023-09-30           0.003397\n",
       "2023-10-31          -0.079126\n",
       "2023-11-30          -0.009729"
      ]
     },
     "metadata": {},
     "output_type": "display_data"
    }
   ],
   "source": [
    "forecasted_rets = (np.array(forecasting.shift(1).loc[:,['Tnote rate','Tnote rate change']]) \n",
    "                   @ np.array(signal_reg.loc[:,['Tnote rate beta','Tnote rate change beta']].T))\n",
    "\n",
    "forecast_ret = (pd.DataFrame(forecasted_rets,columns = ['Forecasted Return'],index= forecasting.index)) \n",
    "\n",
    "forecast_ret['Forecasted Return'] = (forecast_ret['Forecasted Return'] + \n",
    "                                     float(signal_reg['alpha_hat']))*50 + 0.5\n",
    "\n",
    "strat = pd.DataFrame(forecast_ret['Forecasted Return'] * forecasting.loc[:,['USO']]['USO'], \n",
    "                     columns=forecast_ret.columns, \n",
    "                     index=forecast_ret.index).dropna()\n",
    "\n",
    "display(strat.head())\n",
    "\n",
    "display(strat.tail())"
   ]
  },
  {
   "cell_type": "markdown",
   "id": "894db37d",
   "metadata": {},
   "source": [
    "### 3.\n",
    "\n",
    "Calculate the following (annualized) performance metrics for both the passive investment, $r^\\targ$, as well as the strategy implemented in the previous problem, $r^x$.\n",
    "\n",
    "* mean\n",
    "* volatility\n",
    "* max drawdown"
   ]
  },
  {
   "cell_type": "code",
   "execution_count": 22,
   "id": "fed51de0",
   "metadata": {},
   "outputs": [
    {
     "data": {
      "text/html": [
       "<div>\n",
       "<style scoped>\n",
       "    .dataframe tbody tr th:only-of-type {\n",
       "        vertical-align: middle;\n",
       "    }\n",
       "\n",
       "    .dataframe tbody tr th {\n",
       "        vertical-align: top;\n",
       "    }\n",
       "\n",
       "    .dataframe thead th {\n",
       "        text-align: right;\n",
       "    }\n",
       "</style>\n",
       "<table border=\"1\" class=\"dataframe\">\n",
       "  <thead>\n",
       "    <tr style=\"text-align: right;\">\n",
       "      <th></th>\n",
       "      <th>Mean</th>\n",
       "      <th>Volatility</th>\n",
       "      <th>Sharpe Ratio</th>\n",
       "      <th>Max Drawdown</th>\n",
       "    </tr>\n",
       "  </thead>\n",
       "  <tbody>\n",
       "    <tr>\n",
       "      <th>Forecasted Return</th>\n",
       "      <td>0.168447</td>\n",
       "      <td>0.306600</td>\n",
       "      <td>0.549401</td>\n",
       "      <td>-0.653193</td>\n",
       "    </tr>\n",
       "    <tr>\n",
       "      <th>USO</th>\n",
       "      <td>-0.022956</td>\n",
       "      <td>0.356455</td>\n",
       "      <td>-0.064400</td>\n",
       "      <td>-0.947065</td>\n",
       "    </tr>\n",
       "  </tbody>\n",
       "</table>\n",
       "</div>"
      ],
      "text/plain": [
       "                       Mean  Volatility  Sharpe Ratio  Max Drawdown\n",
       "Forecasted Return  0.168447    0.306600      0.549401     -0.653193\n",
       "USO               -0.022956    0.356455     -0.064400     -0.947065"
      ]
     },
     "execution_count": 22,
     "metadata": {},
     "output_type": "execute_result"
    }
   ],
   "source": [
    "strat = strat.merge(forecasting[['USO']], left_index = True, right_index = True)\n",
    "forecast_summary = performance_summary(strat, annualization=12)\n",
    "forecast_summary.loc[:,['Mean','Volatility','Sharpe Ratio','Max Drawdown']]"
   ]
  },
  {
   "cell_type": "markdown",
   "id": "5aad89e5",
   "metadata": {},
   "source": [
    "### 4.\n",
    "\n",
    "#### (7pts)\n",
    "\n",
    "\n",
    "Suppose we are assessing the returns to this active strategy, $r^x$, without knowing how it is generated. \n",
    "\n",
    "Use a regression (with an intercept) to report the optimal hedge ratio of passive $\\targ$ to this active strategy. \n",
    "\n",
    "* Report the hedge ratio, being clear about whether you are going long or short $\\targ$ in order to hedge.\n",
    "\n",
    "* What is the mean return of the hedged active strategy?"
   ]
  },
  {
   "cell_type": "markdown",
   "id": "fcaa4203",
   "metadata": {},
   "source": [
    "### If annualized alpha-hat"
   ]
  },
  {
   "cell_type": "code",
   "execution_count": 23,
   "id": "8e0399df",
   "metadata": {},
   "outputs": [
    {
     "data": {
      "text/html": [
       "<div>\n",
       "<style scoped>\n",
       "    .dataframe tbody tr th:only-of-type {\n",
       "        vertical-align: middle;\n",
       "    }\n",
       "\n",
       "    .dataframe tbody tr th {\n",
       "        vertical-align: top;\n",
       "    }\n",
       "\n",
       "    .dataframe thead th {\n",
       "        text-align: right;\n",
       "    }\n",
       "</style>\n",
       "<table border=\"1\" class=\"dataframe\">\n",
       "  <thead>\n",
       "    <tr style=\"text-align: right;\">\n",
       "      <th></th>\n",
       "      <th>alpha_hat</th>\n",
       "      <th>USO beta</th>\n",
       "      <th>info_ratio</th>\n",
       "      <th>treynor_ratio</th>\n",
       "      <th>R-squared</th>\n",
       "      <th>Tracking Error</th>\n",
       "    </tr>\n",
       "  </thead>\n",
       "  <tbody>\n",
       "    <tr>\n",
       "      <th>Forecasted Return</th>\n",
       "      <td>0.173851</td>\n",
       "      <td>0.235414</td>\n",
       "      <td>0.589537</td>\n",
       "      <td>0.715534</td>\n",
       "      <td>0.074908</td>\n",
       "      <td>0.294893</td>\n",
       "    </tr>\n",
       "  </tbody>\n",
       "</table>\n",
       "</div>"
      ],
      "text/plain": [
       "                   alpha_hat  USO beta  info_ratio  treynor_ratio  R-squared  \\\n",
       "Forecasted Return   0.173851  0.235414    0.589537       0.715534   0.074908   \n",
       "\n",
       "                   Tracking Error  \n",
       "Forecasted Return        0.294893  "
      ]
     },
     "execution_count": 23,
     "metadata": {},
     "output_type": "execute_result"
    }
   ],
   "source": [
    "time_series_regression(strat[['Forecasted Return']], strat['USO'].squeeze(), multiple_factors=False, resid=False, annualization = 12)"
   ]
  },
  {
   "cell_type": "markdown",
   "id": "5d12c6fe",
   "metadata": {},
   "source": [
    "### If not annualized "
   ]
  },
  {
   "cell_type": "code",
   "execution_count": 24,
   "id": "252a1cee",
   "metadata": {},
   "outputs": [
    {
     "data": {
      "text/html": [
       "<div>\n",
       "<style scoped>\n",
       "    .dataframe tbody tr th:only-of-type {\n",
       "        vertical-align: middle;\n",
       "    }\n",
       "\n",
       "    .dataframe tbody tr th {\n",
       "        vertical-align: top;\n",
       "    }\n",
       "\n",
       "    .dataframe thead th {\n",
       "        text-align: right;\n",
       "    }\n",
       "</style>\n",
       "<table border=\"1\" class=\"dataframe\">\n",
       "  <thead>\n",
       "    <tr style=\"text-align: right;\">\n",
       "      <th></th>\n",
       "      <th>alpha_hat</th>\n",
       "      <th>USO beta</th>\n",
       "      <th>info_ratio</th>\n",
       "      <th>treynor_ratio</th>\n",
       "      <th>R-squared</th>\n",
       "      <th>Tracking Error</th>\n",
       "    </tr>\n",
       "  </thead>\n",
       "  <tbody>\n",
       "    <tr>\n",
       "      <th>Forecasted Return</th>\n",
       "      <td>0.014488</td>\n",
       "      <td>0.235414</td>\n",
       "      <td>0.589537</td>\n",
       "      <td>0.059628</td>\n",
       "      <td>0.074908</td>\n",
       "      <td>0.294893</td>\n",
       "    </tr>\n",
       "  </tbody>\n",
       "</table>\n",
       "</div>"
      ],
      "text/plain": [
       "                   alpha_hat  USO beta  info_ratio  treynor_ratio  R-squared  \\\n",
       "Forecasted Return   0.014488  0.235414    0.589537       0.059628   0.074908   \n",
       "\n",
       "                   Tracking Error  \n",
       "Forecasted Return        0.294893  "
      ]
     },
     "execution_count": 24,
     "metadata": {},
     "output_type": "execute_result"
    }
   ],
   "source": [
    "time_series_regression(strat[['Forecasted Return']], strat['USO'].squeeze(), multiple_factors=False, resid=False)"
   ]
  },
  {
   "cell_type": "markdown",
   "id": "23e6c362",
   "metadata": {},
   "source": [
    "Since the USO beta is 0.235, which is positive you need to go short USO to hedge.\n",
    "\n",
    "The mean return of the hedged active strategy (annualized) is 0.174, (unannualized) is 0.0145"
   ]
  },
  {
   "cell_type": "markdown",
   "id": "dd21b75e",
   "metadata": {},
   "source": [
    "### 5.\n",
    "\n",
    "#### (8pts)\n",
    "\n",
    "For the rest of the problem, consider the out-of-sample (OOS) performance of the strategy.\n",
    "\n",
    "Forecast values of $\\targ$ for January 2018 through Dec 2023. (So we are using the data up until January 2018 as “burn-in” data.)\n",
    "* Loop through time, estimating the forecast only using data through time $t$.\n",
    "* At each step, calculate the next OOS forecast, $\\hat{r}^{\\targ}_{t+1}$.\n",
    "\n",
    "Report the first and last 5 values of your OOS forecast, $\\hat{r}^{\\targ}_{t+1}$."
   ]
  },
  {
   "cell_type": "code",
   "execution_count": 25,
   "id": "66276b22",
   "metadata": {},
   "outputs": [
    {
     "data": {
      "text/html": [
       "<div>\n",
       "<style scoped>\n",
       "    .dataframe tbody tr th:only-of-type {\n",
       "        vertical-align: middle;\n",
       "    }\n",
       "\n",
       "    .dataframe tbody tr th {\n",
       "        vertical-align: top;\n",
       "    }\n",
       "\n",
       "    .dataframe thead th {\n",
       "        text-align: right;\n",
       "    }\n",
       "</style>\n",
       "<table border=\"1\" class=\"dataframe\">\n",
       "  <thead>\n",
       "    <tr style=\"text-align: right;\">\n",
       "      <th></th>\n",
       "      <th>OOS Forecast</th>\n",
       "    </tr>\n",
       "    <tr>\n",
       "      <th>date</th>\n",
       "      <th></th>\n",
       "    </tr>\n",
       "  </thead>\n",
       "  <tbody>\n",
       "    <tr>\n",
       "      <th>2018-01-31</th>\n",
       "      <td>-0.007559</td>\n",
       "    </tr>\n",
       "    <tr>\n",
       "      <th>2018-02-28</th>\n",
       "      <td>0.002248</td>\n",
       "    </tr>\n",
       "    <tr>\n",
       "      <th>2018-03-31</th>\n",
       "      <td>-0.005113</td>\n",
       "    </tr>\n",
       "    <tr>\n",
       "      <th>2018-04-30</th>\n",
       "      <td>-0.011960</td>\n",
       "    </tr>\n",
       "    <tr>\n",
       "      <th>2018-05-31</th>\n",
       "      <td>-0.002330</td>\n",
       "    </tr>\n",
       "  </tbody>\n",
       "</table>\n",
       "</div>"
      ],
      "text/plain": [
       "            OOS Forecast\n",
       "date                    \n",
       "2018-01-31     -0.007559\n",
       "2018-02-28      0.002248\n",
       "2018-03-31     -0.005113\n",
       "2018-04-30     -0.011960\n",
       "2018-05-31     -0.002330"
      ]
     },
     "metadata": {},
     "output_type": "display_data"
    },
    {
     "data": {
      "text/html": [
       "<div>\n",
       "<style scoped>\n",
       "    .dataframe tbody tr th:only-of-type {\n",
       "        vertical-align: middle;\n",
       "    }\n",
       "\n",
       "    .dataframe tbody tr th {\n",
       "        vertical-align: top;\n",
       "    }\n",
       "\n",
       "    .dataframe thead th {\n",
       "        text-align: right;\n",
       "    }\n",
       "</style>\n",
       "<table border=\"1\" class=\"dataframe\">\n",
       "  <thead>\n",
       "    <tr style=\"text-align: right;\">\n",
       "      <th></th>\n",
       "      <th>OOS Forecast</th>\n",
       "    </tr>\n",
       "    <tr>\n",
       "      <th>date</th>\n",
       "      <th></th>\n",
       "    </tr>\n",
       "  </thead>\n",
       "  <tbody>\n",
       "    <tr>\n",
       "      <th>2023-07-31</th>\n",
       "      <td>-0.006231</td>\n",
       "    </tr>\n",
       "    <tr>\n",
       "      <th>2023-08-31</th>\n",
       "      <td>-0.006372</td>\n",
       "    </tr>\n",
       "    <tr>\n",
       "      <th>2023-09-30</th>\n",
       "      <td>-0.007037</td>\n",
       "    </tr>\n",
       "    <tr>\n",
       "      <th>2023-10-31</th>\n",
       "      <td>0.019210</td>\n",
       "    </tr>\n",
       "    <tr>\n",
       "      <th>2023-11-30</th>\n",
       "      <td>-0.002345</td>\n",
       "    </tr>\n",
       "  </tbody>\n",
       "</table>\n",
       "</div>"
      ],
      "text/plain": [
       "            OOS Forecast\n",
       "date                    \n",
       "2023-07-31     -0.006231\n",
       "2023-08-31     -0.006372\n",
       "2023-09-30     -0.007037\n",
       "2023-10-31      0.019210\n",
       "2023-11-30     -0.002345"
      ]
     },
     "metadata": {},
     "output_type": "display_data"
    }
   ],
   "source": [
    "factor = forecasting.loc[:,['Tnote rate','Tnote rate change']].shift(1)\n",
    "fund_ret = USO.loc[factor.index[0]:,['USO']]\n",
    "OOS_r2, OOS_reg_params, OOS_forecasts, null_predictions_df = OOS_strat(fund_ret,factor, forecasting.loc[:'2017'].shape[0])\n",
    "OOS_pred = OOS_forecasts.to_frame('OOS Forecast')\n",
    "baseline_pred = null_predictions_df.T.reset_index().set_index('date').rename(columns = {'level_0':'Baseline Forecasts'})\n",
    "\n",
    "\n",
    "display(OOS_pred.head())\n",
    "display(OOS_pred.tail())"
   ]
  },
  {
   "cell_type": "markdown",
   "id": "a7ef8034",
   "metadata": {},
   "source": [
    "### 6. \n",
    "\n",
    "#### (8pts)\n",
    "\n",
    "Report the out-of-sample r-squared, relative to a baseline forecast which is simply the mean of $\\targ$ up to the point the forecast is made.\n",
    "\n",
    "Does the forecast seem effective?"
   ]
  },
  {
   "cell_type": "code",
   "execution_count": 26,
   "id": "70221dba",
   "metadata": {},
   "outputs": [
    {
     "data": {
      "text/html": [
       "<div>\n",
       "<style scoped>\n",
       "    .dataframe tbody tr th:only-of-type {\n",
       "        vertical-align: middle;\n",
       "    }\n",
       "\n",
       "    .dataframe tbody tr th {\n",
       "        vertical-align: top;\n",
       "    }\n",
       "\n",
       "    .dataframe thead th {\n",
       "        text-align: right;\n",
       "    }\n",
       "</style>\n",
       "<table border=\"1\" class=\"dataframe\">\n",
       "  <thead>\n",
       "    <tr style=\"text-align: right;\">\n",
       "      <th></th>\n",
       "      <th>R-Squared</th>\n",
       "    </tr>\n",
       "  </thead>\n",
       "  <tbody>\n",
       "    <tr>\n",
       "      <th>OOS Forecast</th>\n",
       "      <td>-0.004491</td>\n",
       "    </tr>\n",
       "  </tbody>\n",
       "</table>\n",
       "</div>"
      ],
      "text/plain": [
       "              R-Squared\n",
       "OOS Forecast  -0.004491"
      ]
     },
     "execution_count": 26,
     "metadata": {},
     "output_type": "execute_result"
    }
   ],
   "source": [
    "pd.DataFrame([[OOS_r2]], columns = ['R-Squared'], index = ['OOS Forecast'])"
   ]
  },
  {
   "cell_type": "markdown",
   "id": "c2db2957",
   "metadata": {},
   "source": [
    "This forecasting strategy produces a negative OOS r-squared, which indicates our strategy fits the data worse than a horizontal line given by the expanding mean of the sample."
   ]
  },
  {
   "cell_type": "markdown",
   "id": "f598212c",
   "metadata": {},
   "source": [
    "### 7. \n",
    "\n",
    "Report the correlation between \n",
    "* OOS forecast\n",
    "* realized value of $\\targ$.\n",
    "\n",
    "In light of this, how effective does the forecast seem?"
   ]
  },
  {
   "cell_type": "code",
   "execution_count": 27,
   "id": "31199fe9",
   "metadata": {},
   "outputs": [
    {
     "data": {
      "text/html": [
       "<div>\n",
       "<style scoped>\n",
       "    .dataframe tbody tr th:only-of-type {\n",
       "        vertical-align: middle;\n",
       "    }\n",
       "\n",
       "    .dataframe tbody tr th {\n",
       "        vertical-align: top;\n",
       "    }\n",
       "\n",
       "    .dataframe thead th {\n",
       "        text-align: right;\n",
       "    }\n",
       "</style>\n",
       "<table border=\"1\" class=\"dataframe\">\n",
       "  <thead>\n",
       "    <tr style=\"text-align: right;\">\n",
       "      <th></th>\n",
       "      <th>OOS Forecast</th>\n",
       "      <th>USO</th>\n",
       "    </tr>\n",
       "  </thead>\n",
       "  <tbody>\n",
       "    <tr>\n",
       "      <th>OOS Forecast</th>\n",
       "      <td>1.000000</td>\n",
       "      <td>0.031923</td>\n",
       "    </tr>\n",
       "    <tr>\n",
       "      <th>USO</th>\n",
       "      <td>0.031923</td>\n",
       "      <td>1.000000</td>\n",
       "    </tr>\n",
       "  </tbody>\n",
       "</table>\n",
       "</div>"
      ],
      "text/plain": [
       "              OOS Forecast       USO\n",
       "OOS Forecast      1.000000  0.031923\n",
       "USO               0.031923  1.000000"
      ]
     },
     "execution_count": 27,
     "metadata": {},
     "output_type": "execute_result"
    }
   ],
   "source": [
    "merged_OOS_df = OOS_pred.merge(USO.loc[OOS_pred.index], left_index = True, right_index = True)\n",
    "merged_OOS_df.corr()"
   ]
  },
  {
   "cell_type": "code",
   "execution_count": 28,
   "id": "5f5a4787",
   "metadata": {},
   "outputs": [
    {
     "data": {
      "image/png": "[encoded data removed]",
      "text/plain": [
       "<Figure size 1152x432 with 2 Axes>"
      ]
     },
     "metadata": {},
     "output_type": "display_data"
    }
   ],
   "source": [
    "plt.figure(figsize=(16, 6))\n",
    "heatmap = sns.heatmap(merged_OOS_df.corr(), vmin=-0.5, vmax=1, annot=True)\n",
    "heatmap.set_title('Asset Correlation Heatmap', fontdict={'fontsize':12}, pad=12);"
   ]
  },
  {
   "cell_type": "markdown",
   "id": "8b508981",
   "metadata": {},
   "source": [
    "The correlation is fairly low 0.032. This backed up with a negative R-squared value indicates that these signals alone are not effective for forecasting USO."
   ]
  },
  {
   "cell_type": "markdown",
   "id": "7f2bc4d2",
   "metadata": {},
   "source": [
    "### 8.\n",
    "\n",
    "#### (7pts)\n",
    "\n",
    "Convert your OOS forecast to a traded return strategy, using the same allocation rule as in part 2.\n",
    "\n",
    "Report the following performance stats for the OOS forecast strategy.\n",
    "\n",
    "* mean\n",
    "* volatility\n",
    "* max-drawdown\n",
    "\n",
    "Compare these with the passive return, $r^\\targ$ over the same OOS window."
   ]
  },
  {
   "cell_type": "code",
   "execution_count": 29,
   "id": "37795d49",
   "metadata": {},
   "outputs": [
    {
     "data": {
      "text/html": [
       "<div>\n",
       "<style scoped>\n",
       "    .dataframe tbody tr th:only-of-type {\n",
       "        vertical-align: middle;\n",
       "    }\n",
       "\n",
       "    .dataframe tbody tr th {\n",
       "        vertical-align: top;\n",
       "    }\n",
       "\n",
       "    .dataframe thead th {\n",
       "        text-align: right;\n",
       "    }\n",
       "</style>\n",
       "<table border=\"1\" class=\"dataframe\">\n",
       "  <thead>\n",
       "    <tr style=\"text-align: right;\">\n",
       "      <th></th>\n",
       "      <th>Mean</th>\n",
       "      <th>Volatility</th>\n",
       "      <th>Sharpe Ratio</th>\n",
       "      <th>Skewness</th>\n",
       "      <th>Excess Kurtosis</th>\n",
       "      <th>VaR (0.05)</th>\n",
       "      <th>CVaR (0.05)</th>\n",
       "      <th>Min</th>\n",
       "      <th>Max</th>\n",
       "      <th>Max Drawdown</th>\n",
       "      <th>Peak</th>\n",
       "      <th>Bottom</th>\n",
       "      <th>Recovery</th>\n",
       "    </tr>\n",
       "  </thead>\n",
       "  <tbody>\n",
       "    <tr>\n",
       "      <th>USO</th>\n",
       "      <td>0.074152</td>\n",
       "      <td>0.449894</td>\n",
       "      <td>0.164820</td>\n",
       "      <td>-1.459297</td>\n",
       "      <td>5.763732</td>\n",
       "      <td>-0.163233</td>\n",
       "      <td>-0.343372</td>\n",
       "      <td>-0.554497</td>\n",
       "      <td>0.353556</td>\n",
       "      <td>-0.846005</td>\n",
       "      <td>2018-09-30</td>\n",
       "      <td>2020-04-30</td>\n",
       "      <td>NaT</td>\n",
       "    </tr>\n",
       "    <tr>\n",
       "      <th>returns OOS with allocation</th>\n",
       "      <td>0.063566</td>\n",
       "      <td>0.479056</td>\n",
       "      <td>0.132691</td>\n",
       "      <td>-1.455760</td>\n",
       "      <td>18.892554</td>\n",
       "      <td>-0.114446</td>\n",
       "      <td>-0.333559</td>\n",
       "      <td>-0.778430</td>\n",
       "      <td>0.604892</td>\n",
       "      <td>-0.818974</td>\n",
       "      <td>2018-01-31</td>\n",
       "      <td>2020-09-30</td>\n",
       "      <td>NaT</td>\n",
       "    </tr>\n",
       "  </tbody>\n",
       "</table>\n",
       "</div>"
      ],
      "text/plain": [
       "                                 Mean  Volatility  Sharpe Ratio  Skewness  \\\n",
       "USO                          0.074152    0.449894      0.164820 -1.459297   \n",
       "returns OOS with allocation  0.063566    0.479056      0.132691 -1.455760   \n",
       "\n",
       "                             Excess Kurtosis  VaR (0.05)  CVaR (0.05)  \\\n",
       "USO                                 5.763732   -0.163233    -0.343372   \n",
       "returns OOS with allocation        18.892554   -0.114446    -0.333559   \n",
       "\n",
       "                                  Min       Max  Max Drawdown       Peak  \\\n",
       "USO                         -0.554497  0.353556     -0.846005 2018-09-30   \n",
       "returns OOS with allocation -0.778430  0.604892     -0.818974 2018-01-31   \n",
       "\n",
       "                                Bottom Recovery  \n",
       "USO                         2020-04-30      NaT  \n",
       "returns OOS with allocation 2020-09-30      NaT  "
      ]
     },
     "execution_count": 29,
     "metadata": {},
     "output_type": "execute_result"
    }
   ],
   "source": [
    "allocation = merged_OOS_df[['USO']]\n",
    "allocation['allocation for OOS forecast'] = merged_OOS_df['OOS Forecast']*50 + 0.5\n",
    "allocation['returns OOS with allocation'] = allocation['allocation for OOS forecastb'] * merged_OOS_df['USO']\n",
    "allocation[['USO','returns OOS with allocation']]\n",
    "performance_summary(allocation[['USO','returns OOS with allocation']])"
   ]
  },
  {
   "cell_type": "markdown",
   "id": "c94b7a2d",
   "metadata": {},
   "source": [
    "The statistics show that the forecast strategy has slightly lower mean and higher volatility compared to the passive strategy. In terms of max-drawdown, the forecast strategy performs slightly better."
   ]
  },
  {
   "cell_type": "markdown",
   "id": "10f5c9fe",
   "metadata": {},
   "source": [
    "***"
   ]
  },
  {
   "cell_type": "markdown",
   "id": "3699c806",
   "metadata": {},
   "source": [
    "# 4. "
   ]
  },
  {
   "cell_type": "markdown",
   "id": "6e2ef662",
   "metadata": {},
   "source": [
    "We examine FX carry for trading the Mexican peso $\\frn$.\n",
    "* Find the FX and risk-free rate data for this problem on sheet `fx_carry`. As before, these are spot FX prices quoted as USD per $\\frn$.\n",
    "* SOFR is the risk-free rate on USD, and $\\frnrate$ is the risk-free rate for $\\frn$.\n",
    "* As in Homework 8, the data is provided such that any row’s date, $t$, is reporting $S_t$ and $r^f_{t,t+1}$.\n",
    "That is, both of these are known at time t."
   ]
  },
  {
   "cell_type": "markdown",
   "id": "5873845c",
   "metadata": {},
   "source": [
    "### 1.\n",
    "#### (3pts)\n",
    "\n",
    "Transform the data to **log** FX prices and **log** interest rates, just as we did in Homework 8.\n",
    "\n",
    "$$\\begin{align}\n",
    "\\fxspot_t & \\equiv \\ln\\left(\\FXspot_t\\right)\\\\[3pt]\n",
    "\\rflogusd_{\\wintt} & \\equiv \\ln\\left(1+r^{\\text{USD}}_{\\wintt}\\right)\\\\[3pt]\n",
    "\\rflogfrn_{\\wintt} & \\equiv \\ln\\left(1+r^{\\frn}_{\\wintt}\\right)\\\\\n",
    "\\end{align}$$\n",
    "\n",
    "\n",
    "Display the mean of all three series."
   ]
  },
  {
   "cell_type": "code",
   "execution_count": 21,
   "metadata": {},
   "outputs": [
    {
     "data": {
      "text/html": [
       "<div>\n",
       "<style scoped>\n",
       "    .dataframe tbody tr th:only-of-type {\n",
       "        vertical-align: middle;\n",
       "    }\n",
       "\n",
       "    .dataframe tbody tr th {\n",
       "        vertical-align: top;\n",
       "    }\n",
       "\n",
       "    .dataframe thead th {\n",
       "        text-align: right;\n",
       "    }\n",
       "</style>\n",
       "<table border=\"1\" class=\"dataframe\">\n",
       "  <thead>\n",
       "    <tr style=\"text-align: right;\">\n",
       "      <th></th>\n",
       "      <th>MXN</th>\n",
       "      <th>SOFR</th>\n",
       "      <th>MXSTR</th>\n",
       "    </tr>\n",
       "  </thead>\n",
       "  <tbody>\n",
       "    <tr>\n",
       "      <th>Mean</th>\n",
       "      <td>-2.981256</td>\n",
       "      <td>0.000072</td>\n",
       "      <td>0.000291</td>\n",
       "    </tr>\n",
       "  </tbody>\n",
       "</table>\n",
       "</div>"
      ],
      "text/plain": [
       "           MXN      SOFR     MXSTR\n",
       "Mean -2.981256  0.000072  0.000291"
      ]
     },
     "execution_count": 21,
     "metadata": {},
     "output_type": "execute_result"
    }
   ],
   "source": [
    "log_fx_data = np.log(1 + fx_data)\n",
    "log_fx_data['MXN'] = np.log(fx_data['MXN']).fillna(method='ffill')\n",
    "log_fx_data.mean().to_frame(\"Mean\").T"
   ]
  },
  {
   "cell_type": "markdown",
   "id": "9c7fda89",
   "metadata": {},
   "source": [
    "### 2.\n",
    "\n",
    "Calculate the excess log return to a USD investor of holding $\\frn$. Report the following **annualized** stats...\n",
    "* Mean\n",
    "* Volatility\n",
    "* Sharpe ratio.\n",
    "\n",
    "Assume there are 252 reported days per year for pursposes of annnualization."
   ]
  },
  {
   "cell_type": "code",
   "execution_count": 9,
   "metadata": {},
   "outputs": [],
   "source": [
    "fx_ret = log_fx_data[\"MXSTR\"].shift(1) - log_fx_data[\"SOFR\"].shift(1) + log_fx_data[\"MXN\"].diff()"
   ]
  },
  {
   "cell_type": "code",
   "execution_count": 16,
   "metadata": {},
   "outputs": [
    {
     "data": {
      "text/plain": [
       "0.06670778753543485"
      ]
     },
     "execution_count": 16,
     "metadata": {},
     "output_type": "execute_result"
    }
   ],
   "source": [
    "excess_log_ret.mean() * 252"
   ]
  },
  {
   "cell_type": "code",
   "execution_count": 22,
   "metadata": {},
   "outputs": [
    {
     "data": {
      "text/html": [
       "<div>\n",
       "<style scoped>\n",
       "    .dataframe tbody tr th:only-of-type {\n",
       "        vertical-align: middle;\n",
       "    }\n",
       "\n",
       "    .dataframe tbody tr th {\n",
       "        vertical-align: top;\n",
       "    }\n",
       "\n",
       "    .dataframe thead th {\n",
       "        text-align: right;\n",
       "    }\n",
       "</style>\n",
       "<table border=\"1\" class=\"dataframe\">\n",
       "  <thead>\n",
       "    <tr style=\"text-align: right;\">\n",
       "      <th></th>\n",
       "      <th>Excess log return</th>\n",
       "    </tr>\n",
       "  </thead>\n",
       "  <tbody>\n",
       "    <tr>\n",
       "      <th>Mean</th>\n",
       "      <td>0.063510</td>\n",
       "    </tr>\n",
       "    <tr>\n",
       "      <th>Std</th>\n",
       "      <td>0.127973</td>\n",
       "    </tr>\n",
       "    <tr>\n",
       "      <th>Sharpe</th>\n",
       "      <td>0.496278</td>\n",
       "    </tr>\n",
       "  </tbody>\n",
       "</table>\n",
       "</div>"
      ],
      "text/plain": [
       "        Excess log return\n",
       "Mean             0.063510\n",
       "Std              0.127973\n",
       "Sharpe           0.496278"
      ]
     },
     "execution_count": 22,
     "metadata": {},
     "output_type": "execute_result"
    }
   ],
   "source": [
    "log_fx_data['MXN_diff'] = log_fx_data['MXN'].diff().shift(-1)\n",
    "excess_log_ret = log_fx_data['MXN_diff'] - (log_fx_data['SOFR'] - log_fx_data['MXSTR'])\n",
    "res = [excess_log_ret.mean() * 252, excess_log_ret.std() * np.sqrt(252), excess_log_ret.mean() / excess_log_ret.std() * np.sqrt(252)]\n",
    "res = pd.DataFrame(res, index=['Mean', 'Std', 'Sharpe'], columns=['Excess log return'])\n",
    "res"
   ]
  },
  {
   "cell_type": "markdown",
   "id": "27a92552",
   "metadata": {},
   "source": [
    "### 3. \n",
    "\n",
    "Over the sample, was it better to be long or short $\\frn$ relative to USD?\n",
    "* Did the interest spread help on average?\n",
    "* Did the USD appreciate or depreciate relative to $\\frn$ over the sample?"
   ]
  },
  {
   "cell_type": "code",
   "execution_count": 23,
   "metadata": {},
   "outputs": [
    {
     "data": {
      "text/html": [
       "<div>\n",
       "<style scoped>\n",
       "    .dataframe tbody tr th:only-of-type {\n",
       "        vertical-align: middle;\n",
       "    }\n",
       "\n",
       "    .dataframe tbody tr th {\n",
       "        vertical-align: top;\n",
       "    }\n",
       "\n",
       "    .dataframe thead th {\n",
       "        text-align: right;\n",
       "    }\n",
       "</style>\n",
       "<table border=\"1\" class=\"dataframe\">\n",
       "  <thead>\n",
       "    <tr style=\"text-align: right;\">\n",
       "      <th></th>\n",
       "      <th>Annualized</th>\n",
       "    </tr>\n",
       "  </thead>\n",
       "  <tbody>\n",
       "    <tr>\n",
       "      <th>Excess log return</th>\n",
       "      <td>0.063510</td>\n",
       "    </tr>\n",
       "    <tr>\n",
       "      <th>Spot Change</th>\n",
       "      <td>0.008424</td>\n",
       "    </tr>\n",
       "    <tr>\n",
       "      <th>Interest Spread</th>\n",
       "      <td>0.055090</td>\n",
       "    </tr>\n",
       "  </tbody>\n",
       "</table>\n",
       "</div>"
      ],
      "text/plain": [
       "                   Annualized\n",
       "Excess log return    0.063510\n",
       "Spot Change          0.008424\n",
       "Interest Spread      0.055090"
      ]
     },
     "execution_count": 23,
     "metadata": {},
     "output_type": "execute_result"
    }
   ],
   "source": [
    "res = [excess_log_ret.mean()*252, log_fx_data['MXN_diff'].mean()*252, -(log_fx_data['SOFR'] - log_fx_data['MXSTR']).mean() * 252]\n",
    "res = pd.DataFrame(res, index=['Excess log return', 'Spot Change', 'Interest Spread'], columns=['Annualized'])\n",
    "res"
   ]
  },
  {
   "cell_type": "markdown",
   "metadata": {},
   "source": [
    "<span style='color:red'>\n",
    "\n",
    "**Solution**\n",
    "\n",
    "- It is better to long on MXN since the excess log return is positive. \n",
    "- The interest spread mainly consists of the excess return, compared on the average fx return.\n",
    "- USD depreciated relative to MXN over the time since spot return is positive.\n",
    "\n",
    "</span>"
   ]
  },
  {
   "cell_type": "markdown",
   "id": "761c41d6",
   "metadata": {},
   "source": [
    "### 4.\n",
    "\n",
    "#### (7pts)\n",
    "\n",
    "Forecast the growth of the FX rate using the interest-rate differential:\n",
    "\n",
    "$$\\fxspot_{t+1} - \\fxspot_t = \\alpha + \\beta\\left(\\rflogusd_{\\wintt} - \\rflogfrn_{\\wintt}\\right) + \\epsilon_{t+1}$$\n",
    "\n",
    "Report the following OLS stats, (no need to annualize or scale them.)\n",
    "* $\\alpha$\n",
    "* $\\beta$\n",
    "* r-squared"
   ]
  },
  {
   "cell_type": "code",
   "execution_count": 24,
   "metadata": {},
   "outputs": [
    {
     "data": {
      "text/html": [
       "<div>\n",
       "<style scoped>\n",
       "    .dataframe tbody tr th:only-of-type {\n",
       "        vertical-align: middle;\n",
       "    }\n",
       "\n",
       "    .dataframe tbody tr th {\n",
       "        vertical-align: top;\n",
       "    }\n",
       "\n",
       "    .dataframe thead th {\n",
       "        text-align: right;\n",
       "    }\n",
       "</style>\n",
       "<table border=\"1\" class=\"dataframe\">\n",
       "  <thead>\n",
       "    <tr style=\"text-align: right;\">\n",
       "      <th></th>\n",
       "      <th>alpha</th>\n",
       "      <th>Beta</th>\n",
       "      <th>R-squared</th>\n",
       "    </tr>\n",
       "  </thead>\n",
       "  <tbody>\n",
       "    <tr>\n",
       "      <th>OLS stats</th>\n",
       "      <td>0.001136</td>\n",
       "      <td>5.045095</td>\n",
       "      <td>0.000361</td>\n",
       "    </tr>\n",
       "  </tbody>\n",
       "</table>\n",
       "</div>"
      ],
      "text/plain": [
       "              alpha      Beta  R-squared\n",
       "OLS stats  0.001136  5.045095   0.000361"
      ]
     },
     "execution_count": 24,
     "metadata": {},
     "output_type": "execute_result"
    }
   ],
   "source": [
    "model = sm.OLS(log_fx_data['MXN_diff'], sm.add_constant(log_fx_data['SOFR'] - log_fx_data['MXSTR']), missing = 'drop').fit()\n",
    "res = [model.params['const'], model.params[0], model.rsquared]\n",
    "res = pd.DataFrame(res, index = ['alpha', 'Beta', 'R-squared'], columns = ['OLS stats']).T\n",
    "res"
   ]
  },
  {
   "cell_type": "markdown",
   "id": "a1d0f192",
   "metadata": {},
   "source": [
    "### 5. \n",
    "\n",
    "If we assume the Uncovered Interest Parity to hold true, what would you expect to be true of the regression estimates?"
   ]
  },
  {
   "cell_type": "markdown",
   "metadata": {},
   "source": [
    "<span style='color:red'>\n",
    "\n",
    "**Solution**\n",
    "\n",
    "UIP assmes that the change in the spot rate is equal to the interest rate differential. Thus, we would expect $\\alpha$ to be zero and $\\beta$ to be one. However, we have no reason to expect the r-squared to be high or low.\n",
    "\n",
    "Regarding $\\alpha$ and $\\beta$, one that is more important is beta is 1, as nonzero alpha might indicate a static premium.\n",
    "\n",
    "</span>"
   ]
  },
  {
   "cell_type": "markdown",
   "id": "95519689",
   "metadata": {},
   "source": [
    "### 6.\n",
    "\n",
    "Based on the regression results, if we observe an increase in the interest rate on USD relative to $\\frn$, should we expect the USD to get stronger (appreciate) or weaker (depreciate)?"
   ]
  },
  {
   "cell_type": "markdown",
   "metadata": {},
   "source": [
    "<span style='color:red'>\n",
    "\n",
    "**Solution**\n",
    "\n",
    "We expact USD to get weaker compared to MXN. Since the beta is positive, increase in the interest rate on USD relative to MXN predicts positive increase of spot rate in the future. Increase of spot rate indicates depreciation of USD.\n",
    "\n",
    "</span>"
   ]
  },
  {
   "cell_type": "markdown",
   "id": "90454892",
   "metadata": {},
   "source": [
    "### 7.\n",
    "\n",
    "If the risk free rates in $\\frn$ increase relative to risk-free rates in USD, do we expect the forward exchange rate to be higher than the spot exchange rate?"
   ]
  },
  {
   "cell_type": "markdown",
   "metadata": {},
   "source": [
    "<span style='color:red'>\n",
    "\n",
    "**Solution**\n",
    "\n",
    "Using Covered Interest Parity $f_t^s-s_t=r_{t, t+1}^{f, \\$}-r_{t, t+1}^{f, €}$, we expect forward exchange rate to be lower relative to the spot exchange.\n",
    "\n",
    "</span>"
   ]
  },
  {
   "cell_type": "markdown",
   "id": "b972e164",
   "metadata": {},
   "source": [
    "### 8.\n",
    "\n",
    "Do you think the estimated forecast impact of rates on currency returns would be larger over an annual horizon instead of a daily horizon? Why?"
   ]
  },
  {
   "cell_type": "code",
   "execution_count": 30,
   "metadata": {},
   "outputs": [
    {
     "data": {
      "text/html": [
       "<div>\n",
       "<style scoped>\n",
       "    .dataframe tbody tr th:only-of-type {\n",
       "        vertical-align: middle;\n",
       "    }\n",
       "\n",
       "    .dataframe tbody tr th {\n",
       "        vertical-align: top;\n",
       "    }\n",
       "\n",
       "    .dataframe thead th {\n",
       "        text-align: right;\n",
       "    }\n",
       "</style>\n",
       "<table border=\"1\" class=\"dataframe\">\n",
       "  <thead>\n",
       "    <tr style=\"text-align: right;\">\n",
       "      <th></th>\n",
       "      <th>Spread</th>\n",
       "      <th>Spread Diff</th>\n",
       "    </tr>\n",
       "  </thead>\n",
       "  <tbody>\n",
       "    <tr>\n",
       "      <th>Autocorrelation</th>\n",
       "      <td>0.982451</td>\n",
       "      <td>-0.23388</td>\n",
       "    </tr>\n",
       "  </tbody>\n",
       "</table>\n",
       "</div>"
      ],
      "text/plain": [
       "                   Spread  Spread Diff\n",
       "Autocorrelation  0.982451     -0.23388"
      ]
     },
     "execution_count": 30,
     "metadata": {},
     "output_type": "execute_result"
    }
   ],
   "source": [
    "res = []\n",
    "spread = (log_fx_data['SOFR'] - log_fx_data['MXSTR'])\n",
    "res.append(spread.autocorr())\n",
    "res.append(spread.diff().autocorr())\n",
    "res = pd.DataFrame(res, index = ['Spread', 'Spread Diff'], columns = ['Autocorrelation']).T\n",
    "res"
   ]
  },
  {
   "cell_type": "markdown",
   "id": "3f26b0e1",
   "metadata": {},
   "source": [
    "<span style='color:red'>\n",
    "\n",
    "**Solution**\n",
    "\n",
    "With class 7 and GMO, we learned signals with high serial correlation have more power over longer horizons. The interest rate (or the spread between SOFR and MXSTR) is highly serially correlated, whereas the change in the interest rate is not. Thus, we expect the interest rate may have more effect over longer horizons, as the effect accumulate over the long time.\n",
    "\n",
    "</span>"
   ]
  },
  {
   "cell_type": "markdown",
   "id": "8ce6faac",
   "metadata": {},
   "source": [
    "***"
   ]
  }
 ],
 "metadata": {
  "hide_input": false,
  "kernelspec": {
   "display_name": "Python 3 (ipykernel)",
   "language": "python",
   "name": "python3"
  },
  "language_info": {
   "codemirror_mode": {
    "name": "ipython",
    "version": 3
   },
   "file_extension": ".py",
   "mimetype": "text/x-python",
   "name": "python",
   "nbconvert_exporter": "python",
   "pygments_lexer": "ipython3",
   "version": "3.10.13"
  }
 },
 "nbformat": 4,
 "nbformat_minor": 5
}
