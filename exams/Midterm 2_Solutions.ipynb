{
 "cells": [
  {
   "cell_type": "markdown",
   "id": "73bae98b",
   "metadata": {},
   "source": [
    "# **<span style=\"color:red\">Midterm 2 Solutions</span>**\n",
    "\n",
    "## FINM 36700 - 2023\n",
    "\n",
    "### UChicago Financial Mathematics\n",
    "\n",
    "* Mark Hendricks\n",
    "* hendricks@uchicago.edu"
   ]
  },
  {
   "cell_type": "markdown",
   "id": "d885739a",
   "metadata": {},
   "source": [
    "# Instructions"
   ]
  },
  {
   "cell_type": "markdown",
   "id": "bad166b6",
   "metadata": {},
   "source": [
    "## Please note the following:\n",
    "\n",
    "Points\n",
    "* The exam is 100 points.\n",
    "* You have 120 minutes to complete the exam.\n",
    "* For every minute late you submit the exam, you will lose one point.\n",
    "\n",
    "\n",
    "Submission\n",
    "* You will upload your solution to the `Midterm 2` assignment on Canvas, where you downloaded this. (Be sure to **submit** on Canvas, not just **save** on Canvas.\n",
    "* Your submission should be readable, (the graders can understand your answers,) and it should **include all code used in your analysis in a file format that the code can be executed.** \n",
    "\n",
    "Rules\n",
    "* The exam is open-material, closed-communication.\n",
    "* You do not need to cite material from the course github repo--you are welcome to use the code posted there without citation.\n",
    "\n",
    "Advice\n",
    "* If you find any question to be unclear, state your interpretation and proceed. We will only answer questions of interpretation if there is a typo, error, etc.\n",
    "* The exam will be graded for partial credit."
   ]
  },
  {
   "cell_type": "markdown",
   "id": "3c2196da",
   "metadata": {},
   "source": [
    "## Data\n",
    "\n",
    "**All data files are found in the class github repo, in the `data` folder.**\n",
    "\n",
    "This exam makes use of the following data files:\n",
    "* `midterm_2_data.xlsx`\n",
    "\n",
    "This file has sheets for...\n",
    "* `info` - names and descriptions of each factor\n",
    "* `factors (excess returns)` - excess returns on several factors\n",
    "* `portfolios (excess returns)` - excess returns on industry portfolios\n",
    "* `risk-free rate` - risk-free rates over time\n",
    "\n",
    "Note the data is **monthly** so any annualizations should use `12` months in a year."
   ]
  },
  {
   "cell_type": "markdown",
   "id": "b27119f0",
   "metadata": {},
   "source": [
    "## Scoring\n",
    "\n",
    "| Problem | Points |\n",
    "|---------|--------|\n",
    "| 1       | 30     |\n",
    "| 2       | 35     |\n",
    "| 3       | 20     |\n",
    "| 4       | 15     |"
   ]
  },
  {
   "cell_type": "markdown",
   "id": "76923e7a",
   "metadata": {},
   "source": [
    "### Each numbered question is worth 5 points unless otherwise specified."
   ]
  },
  {
   "cell_type": "markdown",
   "id": "90a45965",
   "metadata": {},
   "source": [
    "### Notation\n",
    "(Hidden LaTeX commands)\n",
    "\n",
    "$$\\newcommand{\\betamkt}{\\beta^{i,\\text{MKT}}}$$\n",
    "$$\\newcommand{\\betahml}{\\beta^{i,\\text{HML}}}$$\n",
    "$$\\newcommand{\\betaumd}{\\beta^{i,\\text{UMD}}}$$\n",
    "$$\\newcommand{\\Eri}{E\\left[\\tilde{r}^{i}\\right]}$$\n",
    "$$\\newcommand{\\Emkt}{E\\left[\\tilde{r}^{\\text{MKT}}\\right]}$$\n",
    "$$\\newcommand{\\Ehml}{E\\left[\\tilde{r}^{\\text{HML}}\\right]}$$\n",
    "$$\\newcommand{\\Eumd}{E\\left[\\tilde{r}^{\\text{UMD}}\\right]}$$"
   ]
  },
  {
   "cell_type": "markdown",
   "id": "49ca0c77",
   "metadata": {},
   "source": [
    "# 1. Short Answer"
   ]
  },
  {
   "cell_type": "markdown",
   "id": "8c67de3f",
   "metadata": {},
   "source": [
    "#### No Data Needed\n",
    "\n",
    "These problems do not require any data file. Rather, analyze them conceptually. "
   ]
  },
  {
   "cell_type": "markdown",
   "id": "a1cd5cb5",
   "metadata": {},
   "source": [
    "## 1.\n",
    "\n",
    "Suppose that we find a set of factors that perfectly hedge any asset. Will these factors work as a linear factor pricing model? \n",
    "\n",
    "<font color='red'>\n",
    "\n",
    "Yes. From the Lecture 5 slides, we have that under no arbitrage, if $\\tilde{r}^p$ is perfectly replicated by the return factors, $x$, then by taking expectation of both sides we have a linear factor pricing model.\n",
    "\n",
    "We can also argue this from the law of one price (LOOP). If $\\tilde{r}^p$ is perfectly replicated by the return factors, $x$, then the LOOP implies that the price of the asset is the same as the price of the factors (with linear scaling), and therefore we have a pricing model.\n",
    "\n",
    "\n",
    "</font>"
   ]
  },
  {
   "cell_type": "markdown",
   "id": "0e388366",
   "metadata": {},
   "source": [
    "## 2.\n",
    "\n",
    "If the Fama-French 3-factor model fit perfectly, would the Treynor ratio be equal for every asset?\n",
    "\n",
    "<font color='red'>\n",
    "No. The key distinction here is that if we fit **only** the CAPM, then yes, as there is only the univariate Market beta. However, the 3-factor models has a **multivariate** market beta, which will not be the same as the one in the univariate case. Thus, even if the 3-factor model fits with a particular market premium, this will not be inferred from the Treynor ratio.\n",
    "</font>"
   ]
  },
  {
   "cell_type": "markdown",
   "id": "ac263208",
   "metadata": {},
   "source": [
    "## 3.\n",
    "\n",
    "Suppose the CAPM fits perfectly. Then assets which have higher time-series r-squared metrics on the market factor will have higher Sharpe ratios.\n",
    "\n",
    "<font color='red'>\n",
    "True. We saw that if the CAPM holds, every asset's Sharpe ratio equals the market Sharpe ratio scaled by correlation between the asset and the market. Thus, the higher the correlation, the higher the Sharpe ratio.\n",
    "\n",
    "Note: r-squared being irrelevant to whether the pricing model fits is a seperate issue.\n",
    "\n",
    "False is also a reasonable answer, **if and only if** the following reason is given:\n",
    "\n",
    "$$\n",
    "\\textrm{SR}^i = (\\rho_{i,\\textrm{MKT}}) \\cdot \\textrm{SR}^{\\textrm{MKT}} \\;\\;\\;\\; R^2 = \\rho_{i,\\textrm{MKT}}^2\n",
    "$$\n",
    "Note that this relationship only holds with the CAPM (since it is a univariate model). Then, since $R^2$ must be non-negative, but $\\rho_{i,\\textrm{MKT}}$ can be negative, then if an asset has a negative correlation with the market, then the Sharpe ratio will be negative, but the $R^2$ will be positive. Thus, the statement is false.\n",
    "\n",
    "</font>"
   ]
  },
  {
   "cell_type": "markdown",
   "id": "b330921f",
   "metadata": {},
   "source": [
    "## 4.\n",
    "\n",
    "Based on the case, what are two ways DFA hopes to generate attractive returns for investors?\n",
    "\n",
    "<font color='red'>\n",
    "Broad range of answers accepted.\n",
    "\n",
    "- Taking advantage of factor premium, regardless of whether the factors are already known, or if they are rational or irrational.\n",
    "- Minimizing transaction costs through block trades.\n",
    "- Minimizing counterparty risk by not trading with investors who previously sold them \"bad\" small cap stocks.\n",
    "- Tax optimization.\n",
    "\n",
    "</font>"
   ]
  },
  {
   "cell_type": "markdown",
   "id": "10a99258",
   "metadata": {},
   "source": [
    "## 5.\n",
    "\n",
    "We analyzed a strategy similar to \"AQR's Momentum Funds\" (mutual funds.) We found this implementation had much higher returns than the momentum factor of Fama French. What was a major drawback to this construction?\n",
    "\n",
    "<font color='red'>\n",
    "The fund had a much higher mean return and Sharpe ratio, but it was **long-only**. This caused it to have a correlation to the market of over 90%, and a high market beta. Thus, it had a significant amount of market risk, compared to long-short strategies which, in theory, have zero market beta.\n",
    "</font>"
   ]
  },
  {
   "cell_type": "markdown",
   "id": "80972ba5",
   "metadata": {},
   "source": [
    "## 6.\n",
    "\n",
    "From our analysis, momentum has had a negative mean return since 2009. Is this evidence against momentum as a pricing factor? Explain why this is a problem or why it is not a problem.\n",
    "\n",
    "<font color='red'>\n",
    "The size of the momentum factor premium is not a challenge to a pricing model. You could fix this by just defining the factor in an opposite manner, for example: instead of a \"value\" factor, you could instead define a \"growth\" factor, which is just the opposite of the value factor. The mathematics would remain the same, but the interpretation would be different.\n",
    "\n",
    "</font>"
   ]
  },
  {
   "cell_type": "markdown",
   "id": "b2088cf5",
   "metadata": {},
   "source": [
    "***"
   ]
  },
  {
   "cell_type": "code",
   "execution_count": 2,
   "metadata": {},
   "outputs": [],
   "source": [
    "import pandas as pd\n",
    "import numpy as np\n",
    "import matplotlib.pyplot as plt\n",
    "import seaborn as sns\n",
    "from scipy.stats import norm\n",
    "import statsmodels.api as sm\n",
    "import scipy.stats as stats\n",
    "import arch\n",
    "import warnings\n",
    "warnings.filterwarnings(\"ignore\")\n",
    "from arch import arch_model\n",
    "from arch.univariate import GARCH, EWMAVariance\n",
    "sns.set_theme()\n",
    "\n",
    "def time_series_regression(portfolio, factors, FF3F = False, resid = False):\n",
    "    \n",
    "    ff_report = pd.DataFrame(index=portfolio.columns)\n",
    "    bm_residuals = pd.DataFrame(columns=portfolio.columns)\n",
    "\n",
    "    rhs = sm.add_constant(factors)\n",
    "\n",
    "    for portf in portfolio.columns:\n",
    "        lhs = portfolio[portf]\n",
    "        res = sm.OLS(lhs, rhs, missing='drop').fit()\n",
    "        ff_report.loc[portf, 'alpha_hat'] = res.params['const'] \n",
    "        ff_report.loc[portf, 'Market beta'] = res.params[1]\n",
    "        if FF3F:\n",
    "            ff_report.loc[portf, 'Value beta'] = res.params[2] \n",
    "            ff_report.loc[portf, 'Momentum beta'] = res.params[3]\n",
    "            \n",
    "        ff_report.loc[portf, 'info_ratio'] = np.sqrt(12) * res.params['const'] / res.resid.std()\n",
    "        ff_report.loc[portf, 'treynor_ratio'] = 12 * portfolio[portf].mean() / res.params[1]\n",
    "        ff_report.loc[portf, 'R-squared'] = res.rsquared\n",
    "        ff_report.loc[portf, 'Tracking Error'] = (res.resid.std()*np.sqrt(12))\n",
    "\n",
    "        if resid:\n",
    "            bm_residuals[portf] = res.resid\n",
    "            \n",
    "            \n",
    "        \n",
    "    if resid:\n",
    "        return bm_residuals\n",
    "        \n",
    "    return ff_report\n",
    "\n",
    "factors = pd.read_excel('../data/midterm_2_data.xlsx', sheet_name = 'factors (excess returns)').set_index('Date')\n",
    "portfolio = pd.read_excel('../data/midterm_2_data.xlsx', sheet_name = 'portfolios (excess returns)').set_index('Date')"
   ]
  },
  {
   "cell_type": "markdown",
   "id": "1e2dd553",
   "metadata": {},
   "source": [
    "# 2. Linear Factor Pricing Models (LFPMs)"
   ]
  },
  {
   "cell_type": "markdown",
   "id": "e365d69b",
   "metadata": {},
   "source": [
    "This problem tests the following LFPM:\n",
    "\n",
    "$$\\begin{align}\n",
    "\\Eri = \\betamkt \\Emkt + \\betahml \\Ehml + \\betaumd \\Eumd\n",
    "\\end{align}$$"
   ]
  },
  {
   "cell_type": "markdown",
   "id": "d46838be",
   "metadata": {},
   "source": [
    "## 1.\n",
    "\n",
    "### (8 pts)\n",
    "\n",
    "Estimate the **time-series (TS)** test of this pricing model. \n",
    "\n",
    "For each asset, report the following statistics:\n",
    "* annualized alpha\n",
    "* betas\n",
    "* r-squared"
   ]
  },
  {
   "cell_type": "code",
   "execution_count": 3,
   "metadata": {},
   "outputs": [
    {
     "data": {
      "text/html": [
       "<div>\n",
       "<style scoped>\n",
       "    .dataframe tbody tr th:only-of-type {\n",
       "        vertical-align: middle;\n",
       "    }\n",
       "\n",
       "    .dataframe tbody tr th {\n",
       "        vertical-align: top;\n",
       "    }\n",
       "\n",
       "    .dataframe thead th {\n",
       "        text-align: right;\n",
       "    }\n",
       "</style>\n",
       "<table border=\"1\" class=\"dataframe\">\n",
       "  <thead>\n",
       "    <tr style=\"text-align: right;\">\n",
       "      <th></th>\n",
       "      <th>alpha_hat</th>\n",
       "      <th>Market beta</th>\n",
       "      <th>Value beta</th>\n",
       "      <th>Momentum beta</th>\n",
       "      <th>R-squared</th>\n",
       "    </tr>\n",
       "  </thead>\n",
       "  <tbody>\n",
       "    <tr>\n",
       "      <th>NoDur</th>\n",
       "      <td>0.029253</td>\n",
       "      <td>0.739522</td>\n",
       "      <td>0.204580</td>\n",
       "      <td>0.049333</td>\n",
       "      <td>0.617919</td>\n",
       "    </tr>\n",
       "    <tr>\n",
       "      <th>Durbl</th>\n",
       "      <td>0.010734</td>\n",
       "      <td>1.271865</td>\n",
       "      <td>0.173595</td>\n",
       "      <td>-0.320023</td>\n",
       "      <td>0.613493</td>\n",
       "    </tr>\n",
       "    <tr>\n",
       "      <th>Manuf</th>\n",
       "      <td>-0.000996</td>\n",
       "      <td>1.049482</td>\n",
       "      <td>0.197462</td>\n",
       "      <td>-0.036704</td>\n",
       "      <td>0.870268</td>\n",
       "    </tr>\n",
       "    <tr>\n",
       "      <th>Enrgy</th>\n",
       "      <td>-0.015117</td>\n",
       "      <td>0.992222</td>\n",
       "      <td>0.637006</td>\n",
       "      <td>0.075170</td>\n",
       "      <td>0.465602</td>\n",
       "    </tr>\n",
       "    <tr>\n",
       "      <th>HiTec</th>\n",
       "      <td>0.028207</td>\n",
       "      <td>1.154959</td>\n",
       "      <td>-0.637135</td>\n",
       "      <td>-0.140638</td>\n",
       "      <td>0.829498</td>\n",
       "    </tr>\n",
       "    <tr>\n",
       "      <th>Telcm</th>\n",
       "      <td>0.003506</td>\n",
       "      <td>0.837326</td>\n",
       "      <td>0.094363</td>\n",
       "      <td>-0.084518</td>\n",
       "      <td>0.588052</td>\n",
       "    </tr>\n",
       "    <tr>\n",
       "      <th>Shops</th>\n",
       "      <td>0.026739</td>\n",
       "      <td>0.946928</td>\n",
       "      <td>-0.042222</td>\n",
       "      <td>-0.015005</td>\n",
       "      <td>0.742161</td>\n",
       "    </tr>\n",
       "    <tr>\n",
       "      <th>Hlth</th>\n",
       "      <td>0.031862</td>\n",
       "      <td>0.757605</td>\n",
       "      <td>-0.119928</td>\n",
       "      <td>0.074058</td>\n",
       "      <td>0.580514</td>\n",
       "    </tr>\n",
       "    <tr>\n",
       "      <th>Utils</th>\n",
       "      <td>0.013710</td>\n",
       "      <td>0.527879</td>\n",
       "      <td>0.353033</td>\n",
       "      <td>0.108622</td>\n",
       "      <td>0.342654</td>\n",
       "    </tr>\n",
       "    <tr>\n",
       "      <th>Other</th>\n",
       "      <td>-0.019780</td>\n",
       "      <td>1.115433</td>\n",
       "      <td>0.426753</td>\n",
       "      <td>-0.048678</td>\n",
       "      <td>0.910098</td>\n",
       "    </tr>\n",
       "  </tbody>\n",
       "</table>\n",
       "</div>"
      ],
      "text/plain": [
       "       alpha_hat  Market beta  Value beta  Momentum beta  R-squared\n",
       "NoDur   0.029253     0.739522    0.204580       0.049333   0.617919\n",
       "Durbl   0.010734     1.271865    0.173595      -0.320023   0.613493\n",
       "Manuf  -0.000996     1.049482    0.197462      -0.036704   0.870268\n",
       "Enrgy  -0.015117     0.992222    0.637006       0.075170   0.465602\n",
       "HiTec   0.028207     1.154959   -0.637135      -0.140638   0.829498\n",
       "Telcm   0.003506     0.837326    0.094363      -0.084518   0.588052\n",
       "Shops   0.026739     0.946928   -0.042222      -0.015005   0.742161\n",
       "Hlth    0.031862     0.757605   -0.119928       0.074058   0.580514\n",
       "Utils   0.013710     0.527879    0.353033       0.108622   0.342654\n",
       "Other  -0.019780     1.115433    0.426753      -0.048678   0.910098"
      ]
     },
     "execution_count": 3,
     "metadata": {},
     "output_type": "execute_result"
    }
   ],
   "source": [
    "ts_FF = time_series_regression(portfolio, factors,True)\n",
    "ts_FF['alpha_hat']*=12\n",
    "ts_FF[['alpha_hat','Market beta', 'Value beta','Momentum beta','R-squared']]"
   ]
  },
  {
   "cell_type": "markdown",
   "id": "dc6533a1",
   "metadata": {},
   "source": [
    "## 2.\n",
    "\n",
    "### (7pts)\n",
    "\n",
    "Estimate the **cross-sectional (CS)** test of the pricing model. \n",
    "\n",
    "Include an intercept in your cross-sectional test.\n",
    "\n",
    "Report the\n",
    "* annualized intercept\n",
    "* annualized regression coefficients\n",
    "* r-squared"
   ]
  },
  {
   "cell_type": "code",
   "execution_count": 8,
   "metadata": {},
   "outputs": [
    {
     "data": {
      "text/html": [
       "<div>\n",
       "<style scoped>\n",
       "    .dataframe tbody tr th:only-of-type {\n",
       "        vertical-align: middle;\n",
       "    }\n",
       "\n",
       "    .dataframe tbody tr th {\n",
       "        vertical-align: top;\n",
       "    }\n",
       "\n",
       "    .dataframe thead th {\n",
       "        text-align: right;\n",
       "    }\n",
       "</style>\n",
       "<table border=\"1\" class=\"dataframe\">\n",
       "  <thead>\n",
       "    <tr style=\"text-align: right;\">\n",
       "      <th></th>\n",
       "      <th>Mean Portfolio excess returns</th>\n",
       "    </tr>\n",
       "  </thead>\n",
       "  <tbody>\n",
       "    <tr>\n",
       "      <th>Market regression coefficient</th>\n",
       "      <td>0.031992</td>\n",
       "    </tr>\n",
       "    <tr>\n",
       "      <th>Value regression coefficients</th>\n",
       "      <td>-0.015767</td>\n",
       "    </tr>\n",
       "    <tr>\n",
       "      <th>Momentum regression coefficients</th>\n",
       "      <td>0.030301</td>\n",
       "    </tr>\n",
       "  </tbody>\n",
       "</table>\n",
       "</div>"
      ],
      "text/plain": [
       "                                  Mean Portfolio excess returns\n",
       "Market regression coefficient                          0.031992\n",
       "Value regression coefficients                         -0.015767\n",
       "Momentum regression coefficients                       0.030301"
      ]
     },
     "metadata": {},
     "output_type": "display_data"
    },
    {
     "data": {
      "text/html": [
       "<div>\n",
       "<style scoped>\n",
       "    .dataframe tbody tr th:only-of-type {\n",
       "        vertical-align: middle;\n",
       "    }\n",
       "\n",
       "    .dataframe tbody tr th {\n",
       "        vertical-align: top;\n",
       "    }\n",
       "\n",
       "    .dataframe thead th {\n",
       "        text-align: right;\n",
       "    }\n",
       "</style>\n",
       "<table border=\"1\" class=\"dataframe\">\n",
       "  <thead>\n",
       "    <tr style=\"text-align: right;\">\n",
       "      <th></th>\n",
       "      <th>Mean Portfolio excess returns</th>\n",
       "    </tr>\n",
       "  </thead>\n",
       "  <tbody>\n",
       "    <tr>\n",
       "      <th>Annualized Intercept</th>\n",
       "      <td>0.063716</td>\n",
       "    </tr>\n",
       "    <tr>\n",
       "      <th>Market regression coefficient</th>\n",
       "      <td>0.031992</td>\n",
       "    </tr>\n",
       "    <tr>\n",
       "      <th>Value regression coefficients</th>\n",
       "      <td>-0.015767</td>\n",
       "    </tr>\n",
       "    <tr>\n",
       "      <th>Momentum regression coefficients</th>\n",
       "      <td>0.030301</td>\n",
       "    </tr>\n",
       "    <tr>\n",
       "      <th>R-squared</th>\n",
       "      <td>0.366198</td>\n",
       "    </tr>\n",
       "  </tbody>\n",
       "</table>\n",
       "</div>"
      ],
      "text/plain": [
       "                                  Mean Portfolio excess returns\n",
       "Annualized Intercept                                   0.063716\n",
       "Market regression coefficient                          0.031992\n",
       "Value regression coefficients                         -0.015767\n",
       "Momentum regression coefficients                       0.030301\n",
       "R-squared                                              0.366198"
      ]
     },
     "metadata": {},
     "output_type": "display_data"
    }
   ],
   "source": [
    "mean_portfolios = (portfolio.mean()*12).to_frame('Mean Portfolio excess returns')\n",
    "CS = time_series_regression(mean_portfolios, ts_FF.loc[:,['Market beta', 'Value beta','Momentum beta']], True)\n",
    "CS.columns = ['Annualized Intercept','Market regression coefficient','Value regression coefficients',\n",
    "            'Momentum regression coefficients','info_ratio','treynor_ratio','R-squared','Tracking Error']\n",
    "\n",
    "display(CS[['Market regression coefficient','Value regression coefficients',\n",
    "    'Momentum regression coefficients']].T)\n",
    "display(CS[['Annualized Intercept','Market regression coefficient','Value regression coefficients',\n",
    "    'Momentum regression coefficients','R-squared']].T)"
   ]
  },
  {
   "cell_type": "markdown",
   "id": "00229c3e",
   "metadata": {},
   "source": [
    "## 3.\n",
    "\n",
    "Report the annualized factor premia (expected excess returns of the three factors) as implied by each of the TS and CS estimations."
   ]
  },
  {
   "cell_type": "code",
   "execution_count": 9,
   "metadata": {},
   "outputs": [
    {
     "data": {
      "text/html": [
       "<div>\n",
       "<style scoped>\n",
       "    .dataframe tbody tr th:only-of-type {\n",
       "        vertical-align: middle;\n",
       "    }\n",
       "\n",
       "    .dataframe tbody tr th {\n",
       "        vertical-align: top;\n",
       "    }\n",
       "\n",
       "    .dataframe thead th {\n",
       "        text-align: right;\n",
       "    }\n",
       "</style>\n",
       "<table border=\"1\" class=\"dataframe\">\n",
       "  <thead>\n",
       "    <tr style=\"text-align: right;\">\n",
       "      <th></th>\n",
       "      <th>MKT Premia</th>\n",
       "      <th>HML Premia</th>\n",
       "      <th>UMD Premia</th>\n",
       "    </tr>\n",
       "  </thead>\n",
       "  <tbody>\n",
       "    <tr>\n",
       "      <th>TS</th>\n",
       "      <td>0.083853</td>\n",
       "      <td>0.025028</td>\n",
       "      <td>0.061692</td>\n",
       "    </tr>\n",
       "    <tr>\n",
       "      <th>CS</th>\n",
       "      <td>0.031992</td>\n",
       "      <td>-0.015767</td>\n",
       "      <td>0.030301</td>\n",
       "    </tr>\n",
       "  </tbody>\n",
       "</table>\n",
       "</div>"
      ],
      "text/plain": [
       "   MKT Premia HML Premia UMD Premia\n",
       "TS   0.083853   0.025028   0.061692\n",
       "CS   0.031992  -0.015767   0.030301"
      ]
     },
     "execution_count": 9,
     "metadata": {},
     "output_type": "execute_result"
    }
   ],
   "source": [
    "factor_premia = pd.DataFrame(index = ['TS','CS'], columns = ['MKT Premia','HML Premia','UMD Premia'])\n",
    "factor_premia.loc['TS',:] = (factors.mean()*12).values\n",
    "factor_premia.loc['CS',:] = CS[['Market regression coefficient','Value regression coefficients',\n",
    "    'Momentum regression coefficients']].values           \n",
    "factor_premia"
   ]
  },
  {
   "cell_type": "markdown",
   "id": "0e7bd84e",
   "metadata": {},
   "source": [
    "## 4.\n",
    "\n",
    "Use the r-squared statistics from the TS and CS tests above to assess whether these factors are effective for decomposition and/or pricing.\n",
    "\n",
    "Be specific as to how the r-squared statistics from the TS and CS tests impact your conclusions."
   ]
  },
  {
   "cell_type": "markdown",
   "metadata": {},
   "source": [
    "<font color='red'>\n",
    "\n",
    "Nothing could be said about the R-Squared for the time-series case as in the TimeSeries test we do not care about high R-Squared. Thus, the average R-Squared statistic would be unrestricted. For the Cross-sectional test, we want ideally the R-squared to be 1.0, as we expect the factors to explain all of the expected returns of the portfolios. Since the r-squared in CS is not 1.0, there are some other factors that need to be included to perfectly explain the returns for all the assets. \n",
    "\n",
    "</font>"
   ]
  },
  {
   "cell_type": "markdown",
   "id": "b77f03ec",
   "metadata": {},
   "source": [
    "## 5.\n",
    "\n",
    "Report the annualized pricing mean absolute error (MAE) implied by each of the TS and CS estimations."
   ]
  },
  {
   "cell_type": "code",
   "execution_count": 10,
   "metadata": {},
   "outputs": [
    {
     "data": {
      "text/html": [
       "<div>\n",
       "<style scoped>\n",
       "    .dataframe tbody tr th:only-of-type {\n",
       "        vertical-align: middle;\n",
       "    }\n",
       "\n",
       "    .dataframe tbody tr th {\n",
       "        vertical-align: top;\n",
       "    }\n",
       "\n",
       "    .dataframe thead th {\n",
       "        text-align: right;\n",
       "    }\n",
       "</style>\n",
       "<table border=\"1\" class=\"dataframe\">\n",
       "  <thead>\n",
       "    <tr style=\"text-align: right;\">\n",
       "      <th></th>\n",
       "      <th>MAE (%)</th>\n",
       "    </tr>\n",
       "  </thead>\n",
       "  <tbody>\n",
       "    <tr>\n",
       "      <th>TS</th>\n",
       "      <td>0.017990</td>\n",
       "    </tr>\n",
       "    <tr>\n",
       "      <th>CS</th>\n",
       "      <td>0.007915</td>\n",
       "    </tr>\n",
       "  </tbody>\n",
       "</table>\n",
       "</div>"
      ],
      "text/plain": [
       "     MAE (%)\n",
       "TS  0.017990\n",
       "CS  0.007915"
      ]
     },
     "execution_count": 10,
     "metadata": {},
     "output_type": "execute_result"
    }
   ],
   "source": [
    "resid = time_series_regression(mean_portfolios, ts_FF.loc[:,['Market beta', 'Value beta','Momentum beta']], False, True)\n",
    "mae = pd.DataFrame([(((ts_FF['alpha_hat']).abs().mean()))], columns = ['MAE (%)'], index = ['TS'])\n",
    "mae.loc['CS'] = abs(resid).mean()[0]\n",
    "mae"
   ]
  },
  {
   "cell_type": "markdown",
   "id": "3d1b0493",
   "metadata": {},
   "source": [
    "## 6.\n",
    "\n",
    "Which asset has the highest premium as implied by the TS estimation? And as implied by the CS estimation? (For the latter, feel free to include the cross-sectional intercept.)"
   ]
  },
  {
   "cell_type": "code",
   "execution_count": 11,
   "metadata": {},
   "outputs": [
    {
     "data": {
      "text/html": [
       "<div>\n",
       "<style scoped>\n",
       "    .dataframe tbody tr th:only-of-type {\n",
       "        vertical-align: middle;\n",
       "    }\n",
       "\n",
       "    .dataframe tbody tr th {\n",
       "        vertical-align: top;\n",
       "    }\n",
       "\n",
       "    .dataframe thead th {\n",
       "        text-align: right;\n",
       "    }\n",
       "</style>\n",
       "<table border=\"1\" class=\"dataframe\">\n",
       "  <thead>\n",
       "    <tr style=\"text-align: right;\">\n",
       "      <th></th>\n",
       "      <th>TS Predicted Premium</th>\n",
       "    </tr>\n",
       "  </thead>\n",
       "  <tbody>\n",
       "    <tr>\n",
       "      <th>Enrgy</th>\n",
       "      <td>0.103782</td>\n",
       "    </tr>\n",
       "  </tbody>\n",
       "</table>\n",
       "</div>"
      ],
      "text/plain": [
       "       TS Predicted Premium\n",
       "Enrgy              0.103782"
      ]
     },
     "execution_count": 11,
     "metadata": {},
     "output_type": "execute_result"
    }
   ],
   "source": [
    "ts = ts_FF.copy()\n",
    "ts = ts.rename(columns={'Market beta':'MKT','Value beta':'HML','Momentum beta':'UMD'})\n",
    "((factors.mean()*12)[['MKT','HML','UMD']] * ts[['MKT','HML','UMD']]).sum(axis =1).to_frame('TS Predicted Premium').nlargest(1, 'TS Predicted Premium')"
   ]
  },
  {
   "cell_type": "code",
   "execution_count": 12,
   "metadata": {},
   "outputs": [
    {
     "data": {
      "text/html": [
       "<div>\n",
       "<style scoped>\n",
       "    .dataframe tbody tr th:only-of-type {\n",
       "        vertical-align: middle;\n",
       "    }\n",
       "\n",
       "    .dataframe tbody tr th {\n",
       "        vertical-align: top;\n",
       "    }\n",
       "\n",
       "    .dataframe thead th {\n",
       "        text-align: right;\n",
       "    }\n",
       "</style>\n",
       "<table border=\"1\" class=\"dataframe\">\n",
       "  <thead>\n",
       "    <tr style=\"text-align: right;\">\n",
       "      <th></th>\n",
       "      <th>CS Predicted Premium without intercept</th>\n",
       "    </tr>\n",
       "  </thead>\n",
       "  <tbody>\n",
       "    <tr>\n",
       "      <th>HiTec</th>\n",
       "      <td>0.042734</td>\n",
       "    </tr>\n",
       "  </tbody>\n",
       "</table>\n",
       "</div>"
      ],
      "text/plain": [
       "       CS Predicted Premium without intercept\n",
       "HiTec                                0.042734"
      ]
     },
     "execution_count": 12,
     "metadata": {},
     "output_type": "execute_result"
    }
   ],
   "source": [
    "cs = CS.copy()\n",
    "cs = cs.rename(columns= {'Market regression coefficient':'MKT','Value regression coefficients':'HML',\n",
    "                        'Momentum regression coefficients':'UMD'})\n",
    "(ts[['MKT','HML','UMD']] * cs[['MKT','HML','UMD']].values[0]).sum(axis=1).nlargest(1).to_frame('CS Predicted Premium without intercept')"
   ]
  },
  {
   "cell_type": "code",
   "execution_count": 13,
   "metadata": {},
   "outputs": [
    {
     "data": {
      "text/html": [
       "<div>\n",
       "<style scoped>\n",
       "    .dataframe tbody tr th:only-of-type {\n",
       "        vertical-align: middle;\n",
       "    }\n",
       "\n",
       "    .dataframe tbody tr th {\n",
       "        vertical-align: top;\n",
       "    }\n",
       "\n",
       "    .dataframe thead th {\n",
       "        text-align: right;\n",
       "    }\n",
       "</style>\n",
       "<table border=\"1\" class=\"dataframe\">\n",
       "  <thead>\n",
       "    <tr style=\"text-align: right;\">\n",
       "      <th></th>\n",
       "      <th>CS Predicted Premium with intercept</th>\n",
       "    </tr>\n",
       "  </thead>\n",
       "  <tbody>\n",
       "    <tr>\n",
       "      <th>HiTec</th>\n",
       "      <td>0.10645</td>\n",
       "    </tr>\n",
       "  </tbody>\n",
       "</table>\n",
       "</div>"
      ],
      "text/plain": [
       "       CS Predicted Premium with intercept\n",
       "HiTec                              0.10645"
      ]
     },
     "execution_count": 13,
     "metadata": {},
     "output_type": "execute_result"
    }
   ],
   "source": [
    "predicted_cs = cs['Annualized Intercept'][0] + (ts[['MKT','HML','UMD']] * cs[['MKT','HML','UMD']].values[0]).sum(axis=1)\n",
    "(predicted_cs).nlargest(1).to_frame('CS Predicted Premium with intercept')"
   ]
  },
  {
   "cell_type": "markdown",
   "id": "8bade179",
   "metadata": {},
   "source": [
    "***"
   ]
  },
  {
   "cell_type": "markdown",
   "id": "541542b3",
   "metadata": {},
   "source": [
    "# 3. Additional Analysis"
   ]
  },
  {
   "cell_type": "markdown",
   "id": "5392fb74",
   "metadata": {},
   "source": [
    "## 1. \n",
    "\n",
    "Consider the three-factor pricing model above. How can we assess whether all three factors are useful in this pricing model? \n",
    "\n",
    "Specifically, discuss whether the previously estimated regression betas would be informative. If not, what other statistic could we calculate?\n",
    "\n",
    "<font color='red'>\n",
    "We, unfortunately are unable to determine this by looking at the betas alone. That is, the betas are not informative in terms of usefulness of a specific factor; but rather when taken together they are informative in terms of the usefulness of the **entire** model.\n",
    "\n",
    "The way to estimate if a given factor is useful would be to construct the tangency portfolio of the factors, and then look at the individual weights. Then, the factor with the largest weight would be the most useful, and the factor with the smallest weight would be the least useful.\n",
    "</font>"
   ]
  },
  {
   "cell_type": "markdown",
   "id": "fa3ac152",
   "metadata": {},
   "source": [
    "## 2.\n",
    "\n",
    "Suppose we are testing the 3-factor model above, and now we want to allow for time-varying betas.\n",
    "\n",
    "How could we test the model while allowing for this?\n",
    "\n",
    "Be specific about the number of regressions we would run and the nature of these regressions.\n",
    "\n",
    "<font color='red'>\n",
    "This comes from Fama-MacBeth at the end of Lecture 4. \n",
    "\n",
    "1. Estimate a the time-series regression using a rolling window or other methods, we want an estimate of $\\beta_{t}^i$, that is, the beta for asset $i$ at time $t$.\n",
    "2. Run a cross-sectional regression for each time, $t$. That is, calculate the cross-section regression using the $\\beta_{t}$, for each time $t$. We do this to calculate $\\lambda$ and $v$.\n",
    "3. We can then take the sample means of each of the estimates to get the final estimates of $\\lambda$ and $v$.\n",
    "\n",
    "Let's assume we are using t-window rolling regression. For TS regression we have N * (T - t+1) regressions where N is the number of assets and T is the total number of time periods. For CS regression we have (T-t+1) regression for each of the time periods. Thus, the total number of regressions is (N + 1) * (T - t+1)\n",
    "\n",
    "</font>"
   ]
  },
  {
   "cell_type": "markdown",
   "id": "9ab0f4d8",
   "metadata": {},
   "source": [
    "## 3.\n",
    "\n",
    "State one advantage and one disadvantage of using the CS estimation as opposed to the TS estimation in fitting the LFPM to the data.\n",
    "\n",
    "<font color='red'>\n",
    "CS estimation has the advantage of fitting the model better, as we are able to adjust the factor premia (factor premia is now a free parameter).\n",
    "\n",
    "The disadvantage is that the factor premia are estimated in CS, meaning that the estimated factor premia could be completely different to the factor premia estimated using historical data.\n",
    "\n",
    "</font>"
   ]
  },
  {
   "cell_type": "markdown",
   "id": "569b26de",
   "metadata": {},
   "source": [
    "## 4.\n",
    "\n",
    "Suppose we are investing in just the assets included in our data set. We want to implement a momentum strategy.\n",
    "\n",
    "Relative to the momentum strategies we studied, do you expect this strategy would have higher or lower...\n",
    "* mean\n",
    "* volatility\n",
    "\n",
    "Explain.\n",
    "\n",
    "<font color='red'>\n",
    "We only have 10 assets! Therefore, we would expect to have a much, much lower mean, as statistically speaking, there won't be the big winners and big losers that momentum relies on. That is, if our universe was 1000 securities, we'd expect to have much more extreme winners and losers in the tails than if we only had 10. Since momentum relies on these big winners and losers, then we would expect to have a much lower mean. We need extremes.\n",
    "\n",
    "Either higher or lower vol is correct.\n",
    "\n",
    "Higher vol: less diversification, since we are only investing in 10 assets.\n",
    "\n",
    "Lower vol: the 10 assets are themselves portfolios, meaning that we are already diversified!\n",
    "\n",
    "Overall, this strategy is a bad approach; we need to take extremes, and 10 assets make that very difficult.\n",
    "\n",
    "</font>"
   ]
  },
  {
   "cell_type": "markdown",
   "id": "f8cb7a14",
   "metadata": {},
   "source": [
    "***"
   ]
  },
  {
   "cell_type": "markdown",
   "id": "5731f1b5",
   "metadata": {},
   "source": [
    "# 4. Returns Over Time"
   ]
  },
  {
   "cell_type": "markdown",
   "id": "235a43b4",
   "metadata": {},
   "source": [
    "## 1.\n",
    "\n",
    "If Barnstable’s assumptions hold, (log iid returns, normally distributed,) then in what sense is an investment safer in the long-run? And in what sense is it riskier in the long-run?\n",
    "\n",
    "<font color='red'>\n",
    "\n",
    "Sharpe ratio scales with time, meaning that in the long-run we would expect to have a higher Sharpe, and thus it would be a safer investment. Additionally, we'll have lower standard error of average returns.\n",
    "\n",
    "Riskier because volatility also scales with time! That means our cumulative returns will have higher volatility (despite a higher Sharpe) and thus they could be considered riskier in the long run. We also have parameter uncertainty, meaning that we are less certain about the parameters in the long run, so we have \"model risk\" in the long run.\n",
    "\n",
    "</font>"
   ]
  },
  {
   "cell_type": "markdown",
   "id": "1a33a9ad",
   "metadata": {},
   "source": [
    "## 2. \n",
    "\n",
    "### (10pts)\n",
    "\n",
    "Data \n",
    "* Make use of the `risk-free rate` tab.\n",
    "* Construct the **total** factor returns by adding the risk-free rate to the excess `MKT` and `HML` factor returns.\n",
    "\n",
    "Assumptions\n",
    "* The total returns are lognormally distributed and iid. \n",
    "\n",
    "Report the probability that `MKT` will outperform `HML` over the following 5 years.\n",
    "\n",
    "<font color='red'>\n",
    "First, we assume log-returns of MKT and HML are iid multivariate normal.\n",
    "\n",
    "We want\n",
    "\n",
    "$$P\\left(\\Pi_{t=1}^{60} (1+r_t^{MKT}) > \\Pi_{t=1}^{60} (1+r_t^{HML})\\right)$$\n",
    "\n",
    "Denote log-return $\\mathrm{r} = \\log(1+r)$ and let $\\mathrm{r}^P = \\mathrm{r}^{MKT} - \\mathrm{r}^{HML}$.\n",
    "\n",
    "\n",
    "\n",
    "$$\n",
    "\\begin{aligned}\n",
    "P\\left(\\Pi_{t=1}^{60} (1+r_t^{MKT}) > \\Pi_{t=1}^{60} (1+r_t^{HML})\\right) \n",
    "&= P\\left(\\sum_{t=1}^{60} \\mathrm{r}_t^{MKT} > \\sum_{t=1}^{60} \\mathrm{r}_t^{HML}\\right) \\\\\n",
    "&= P\\left(\\sum_{t=1}^{60} (\\mathrm{r}_t^{MKT} - \\mathrm{r}_t^{HML}) > 0 \\right) \\\\\n",
    "&= P\\left(\\sum_{t=1}^{60} \\mathrm{r}_t^{P} > 0 \\right) \\\\\n",
    "&= P\\left(\\bar{\\mathrm{r}}_t^{P} > 0 \\right) \\\\\n",
    "&= 1- \\Phi\\left(\\sqrt{60}\\frac{-\\mu}{\\sigma}\\right) = \\Phi\\left(\\sqrt{60}\\frac{\\mu}{\\sigma}\\right)\n",
    "\\end{aligned}\n",
    "$$\n",
    "\n",
    "The last equation comes from\n",
    "\n",
    "$$\\bar{\\mathrm{r}}^P \\sim \\mathcal{N}\\left(\\mu, \\frac{1}{60}\\sigma^2\\right)$$\n",
    "\n",
    "where\n",
    "\n",
    "$$\\mu = \\mu_{MKT} - \\mu_{HML}$$ \n",
    "$$\\sigma^2 = \\sigma_{MKT}^2 + \\sigma_{HML}^2 - 2\\sigma_{MKT, HML}$$\n",
    "\n",
    "or can directly calculate $\\mu$ and $\\sigma$ from the spread between the two.\n",
    "\n",
    "In case of using annualized $\\mu$ and $\\sigma$, the distribution should be the average of 5 years of annualized returns\n",
    "$$\\bar{\\mathrm{r}}_{annual}^P \\sim \\mathcal{N}\\left(12\\mu, \\frac{12}{5}\\sigma^2\\right)$$\n",
    "\n",
    "\n",
    "$$\n",
    "\\Phi\\left(\\frac{12\\mu}{\\sqrt{12/5}\\sigma}\\right) = \\Phi\\left(\\sqrt{60}\\frac{\\mu}{\\sigma}\\right)\n",
    "$$\n",
    "\n",
    "Which is equivalent to the above.\n",
    "\n",
    "</font>"
   ]
  },
  {
   "cell_type": "code",
   "execution_count": 2,
   "metadata": {},
   "outputs": [
    {
     "data": {
      "text/plain": [
       "0.71"
      ]
     },
     "execution_count": 2,
     "metadata": {},
     "output_type": "execute_result"
    }
   ],
   "source": [
    "import pandas as pd\n",
    "import numpy as np\n",
    "from scipy.stats import norm\n",
    "\n",
    "data = pd.read_excel(\"../data/midterm_2_data.xlsx\", sheet_name=None)\n",
    "\n",
    "sheets = list(data.keys())\n",
    "factors = data[sheets[1]].set_index('Date')\n",
    "ports = data[sheets[2]].set_index('Date')\n",
    "rf = data[sheets[3]].set_index('Date')\n",
    "\n",
    "\n",
    "# Method one\n",
    "total_log_ret = np.log(1 + factors.apply(lambda x: x +rf['RF']))\n",
    "\n",
    "spread = total_log_ret['MKT'] - total_log_ret['HML']\n",
    "mu, sigma = spread.mean(), spread.std()\n",
    "\n",
    "prob = 1 - norm.cdf(0, mu, sigma/np.sqrt(60))\n",
    "prob.round(2)"
   ]
  },
  {
   "cell_type": "code",
   "execution_count": 3,
   "metadata": {},
   "outputs": [
    {
     "data": {
      "text/plain": [
       "0.71"
      ]
     },
     "execution_count": 3,
     "metadata": {},
     "output_type": "execute_result"
    }
   ],
   "source": [
    "# Method two\n",
    "spread = total_log_ret['MKT'] - total_log_ret['HML']\n",
    "mu, sigma = spread.mean() * 12, spread.std() * np.sqrt(12)\n",
    "\n",
    "prob = 1 - norm.cdf(0, mu, sigma/np.sqrt(5))\n",
    "prob.round(2)"
   ]
  }
 ],
 "metadata": {
  "hide_input": false,
  "kernelspec": {
   "display_name": "Python 3 (ipykernel)",
   "language": "python",
   "name": "python3"
  },
  "language_info": {
   "codemirror_mode": {
    "name": "ipython",
    "version": 3
   },
   "file_extension": ".py",
   "mimetype": "text/x-python",
   "name": "python",
   "nbconvert_exporter": "python",
   "pygments_lexer": "ipython3",
   "version": "3.11.4"
  }
 },
 "nbformat": 4,
 "nbformat_minor": 5
}
