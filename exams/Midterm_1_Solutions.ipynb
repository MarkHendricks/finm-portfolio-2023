{
 "cells": [
  {
   "cell_type": "markdown",
   "id": "29b2f936",
   "metadata": {},
   "source": [
    "# Midterm 1\n",
    "\n",
    "## FINM 36700 - 2023\n",
    "\n",
    "### UChicago Financial Mathematics\n",
    "\n",
    "* Mark Hendricks\n",
    "* hendricks@uchicago.edu\n",
    "\n",
    "---\n",
    "\n",
    "Sections 1 & 4.\n",
    "\n",
    "* Tobias Rodriguez del Pozo\n",
    "* tobiasdelpozo@uchicago.edu\n",
    "\n",
    "Section 2.\n",
    "\n",
    "* Mani Sawhney\n",
    "* msawhn2@uchicago.edu\n",
    "\n",
    "Section 3.\n",
    "\n",
    "* Younghun Lee\n",
    "* hun@uchicago.edu"
   ]
  },
  {
   "cell_type": "markdown",
   "id": "af28e7fd",
   "metadata": {},
   "source": [
    "# Instructions"
   ]
  },
  {
   "cell_type": "markdown",
   "id": "a4dd63ff",
   "metadata": {},
   "source": [
    "## Please note the following:\n",
    "\n",
    "Points\n",
    "* The exam is 100 points.\n",
    "* You have 120 minutes to complete the exam.\n",
    "* For every minute late you submit the exam, you will lose one point.\n",
    "Final Exam\n",
    "\n",
    "Submission\n",
    "* You will upload your solution to the `Midterm 1` assignment on Canvas, where you downloaded this. (Be sure to **submit** on Canvas, not just **save** on Canvas.\n",
    "* Your submission should be readable, (the graders can understand your answers,) and it should **include all code used in your analysis in a file format that the code can be executed.** \n",
    "\n",
    "Rules\n",
    "* The exam is open-material, closed-communication.\n",
    "* You do not need to cite material from the course github repo--you are welcome to use the code posted there without citation.\n",
    "\n",
    "Advice\n",
    "* If you find any question to be unclear, state your interpretation and proceed. We will only answer questions of interpretation if there is a typo, error, etc.\n",
    "* The exam will be graded for partial credit."
   ]
  },
  {
   "cell_type": "markdown",
   "id": "1960a3c5",
   "metadata": {},
   "source": [
    "## Data\n",
    "\n",
    "**All data files are found in the class github repo, in the `data` folder.**\n",
    "\n",
    "This exam makes use of the following data files:\n",
    "* `midterm_data_1.xlsx`\n",
    "\n",
    "This file has sheets for...\n",
    "* `info` - names of each stock ticker\n",
    "* `excess returns` - weekly excess returns on several stocks\n",
    "* `SPY` - weekly excess returns on SPY\n",
    "\n",
    "Note the data is **weekly** so any annualizations should use `52` weeks in a year."
   ]
  },
  {
   "cell_type": "markdown",
   "id": "336f6568",
   "metadata": {},
   "source": [
    "#### If useful\n",
    "here is code to load in the data."
   ]
  },
  {
   "cell_type": "markdown",
   "id": "738aec64",
   "metadata": {},
   "source": [
    "## Imports"
   ]
  },
  {
   "cell_type": "code",
   "execution_count": 1,
   "id": "0015b7a4",
   "metadata": {},
   "outputs": [],
   "source": [
    "import pandas as pd\n",
    "import numpy as np\n",
    "import seaborn as sns\n",
    "import statsmodels.api as sm\n",
    "import scipy.stats as stats\n",
    "import warnings\n",
    "warnings.filterwarnings(\"ignore\")\n",
    "\n",
    "import sys\n",
    "sys.path.append('../cmds/')\n",
    "import TA_utils as ta\n",
    "\n",
    "sns.set_theme()"
   ]
  },
  {
   "cell_type": "markdown",
   "id": "5092662b",
   "metadata": {},
   "source": [
    "## Helper Functions\n",
    "\n",
    "### Performance Summary"
   ]
  },
  {
   "cell_type": "code",
   "execution_count": 2,
   "id": "e3f6a71c",
   "metadata": {},
   "outputs": [],
   "source": [
    "def performance_summary(return_data, annualization = 12):\n",
    "    \"\"\" \n",
    "        Returns the Performance Stats for given set of returns\n",
    "        Inputs: \n",
    "            return_data - DataFrame with Date index and Monthly Returns for different assets/strategies.\n",
    "        Output:\n",
    "            summary_stats - DataFrame with annualized mean return, vol, sharpe ratio. Skewness, Excess Kurtosis, Var (0.5) and\n",
    "                            CVaR (0.5) and drawdown based on monthly returns. \n",
    "    \"\"\"\n",
    "    summary_stats = return_data.mean().to_frame('Mean').apply(lambda x: x*annualization)\n",
    "    summary_stats['Volatility'] = return_data.std().apply(lambda x: x*np.sqrt(annualization))\n",
    "    summary_stats['Sharpe Ratio'] = summary_stats['Mean']/summary_stats['Volatility']\n",
    "    \n",
    "    summary_stats['Skewness'] = return_data.skew()\n",
    "    summary_stats['Excess Kurtosis'] = return_data.kurtosis()\n",
    "    summary_stats['VaR (0.05)'] = return_data.quantile(.05, axis = 0)\n",
    "    summary_stats['CVaR (0.05)'] = return_data[return_data <= return_data.quantile(.05, axis = 0)].mean()\n",
    "    summary_stats['Min'] = return_data.min()\n",
    "    summary_stats['Max'] = return_data.max()\n",
    "    \n",
    "    wealth_index = 1000*(1+return_data).cumprod()\n",
    "    previous_peaks = wealth_index.cummax()\n",
    "    drawdowns = (wealth_index - previous_peaks)/previous_peaks\n",
    "\n",
    "    summary_stats['Max Drawdown'] = drawdowns.min()\n",
    "    summary_stats['Peak'] = [previous_peaks[col][:drawdowns[col].idxmin()].idxmax() for col in previous_peaks.columns]\n",
    "    summary_stats['Bottom'] = drawdowns.idxmin()\n",
    "    \n",
    "    recovery_date = []\n",
    "    for col in wealth_index.columns:\n",
    "        prev_max = previous_peaks[col][:drawdowns[col].idxmin()].max()\n",
    "        recovery_wealth = pd.DataFrame([wealth_index[col][drawdowns[col].idxmin():]]).T\n",
    "        recovery_date.append(recovery_wealth[recovery_wealth[col] >= prev_max].index.min())\n",
    "    summary_stats['Recovery'] = recovery_date\n",
    "    \n",
    "    return summary_stats"
   ]
  },
  {
   "cell_type": "markdown",
   "id": "0a6634c0",
   "metadata": {},
   "source": [
    "### Time-series Regression"
   ]
  },
  {
   "cell_type": "code",
   "execution_count": 3,
   "id": "3174f4de",
   "metadata": {},
   "outputs": [],
   "source": [
    "def time_series_regression(portfolio, factors, FF3F = False, resid = False):\n",
    "    \n",
    "    ff_report = pd.DataFrame(index=portfolio.columns)\n",
    "    bm_residuals = pd.DataFrame(columns=portfolio.columns)\n",
    "\n",
    "    rhs = sm.add_constant(factors)\n",
    "\n",
    "    for portf in portfolio.columns:\n",
    "        lhs = portfolio[portf]\n",
    "        res = sm.OLS(lhs, rhs, missing='drop').fit()\n",
    "        ff_report.loc[portf, 'alpha_hat'] = res.params['const'] * 12\n",
    "        ff_report.loc[portf, 'beta_mkt'] = res.params[1]\n",
    "        if FF3F:\n",
    "            ff_report.loc[portf, 'Size beta'] = res.params[2] \n",
    "            ff_report.loc[portf, 'Value beta'] = res.params[3]\n",
    "            \n",
    "        ff_report.loc[portf, 'info_ratio'] = np.sqrt(12) * res.params['const'] / res.resid.std()\n",
    "        ff_report.loc[portf, 'treynor_ratio'] = 12 * portfolio[portf].mean() / res.params[1]\n",
    "        ff_report.loc[portf, 'R-squared'] = res.rsquared\n",
    "        ff_report.loc[portf, 'Tracking Error'] = (res.resid.std()*np.sqrt(12))\n",
    "\n",
    "        if resid:\n",
    "            bm_residuals[portf] = res.resid\n",
    "            \n",
    "            \n",
    "        \n",
    "    if resid:\n",
    "        return bm_residuals\n",
    "        \n",
    "    return ff_report"
   ]
  },
  {
   "cell_type": "markdown",
   "id": "ec8dcb78",
   "metadata": {},
   "source": [
    "### Tangency Weights"
   ]
  },
  {
   "cell_type": "code",
   "execution_count": 4,
   "id": "75d0a27d",
   "metadata": {},
   "outputs": [],
   "source": [
    "def tangency_weights(returns, cov_mat = 1):\n",
    "    \n",
    "    if cov_mat ==1:\n",
    "        cov_inv = np.linalg.inv((returns.cov()*12))\n",
    "    else:\n",
    "        cov = returns.cov()\n",
    "        covmat_diag = np.diag(np.diag((cov)))\n",
    "        covmat = cov_mat * cov + (1-cov_mat) * covmat_diag\n",
    "        cov_inv = np.linalg.inv((covmat*12))  \n",
    "        \n",
    "    ones = np.ones(returns.columns[1:].shape) \n",
    "    mu = returns.mean()*12\n",
    "    scaling = 1/(np.transpose(ones) @ cov_inv @ mu)\n",
    "    tangent_return = scaling*(cov_inv @ mu) \n",
    "    tangency_wts = pd.DataFrame(index = returns.columns[1:], data = tangent_return, columns = ['Tangent Weights'] )\n",
    "        \n",
    "    return tangency_wts"
   ]
  },
  {
   "cell_type": "markdown",
   "id": "8a88a97d",
   "metadata": {},
   "source": [
    "### Global-Minimum Variance Weights"
   ]
  },
  {
   "cell_type": "code",
   "execution_count": 5,
   "id": "d27d8666",
   "metadata": {},
   "outputs": [],
   "source": [
    "def gmv_weights(tot_returns):\n",
    "    \n",
    "    ones = np.ones(tot_returns.columns[1:].shape)\n",
    "    cov = tot_returns.cov()*12\n",
    "    cov_inv = np.linalg.inv(cov)\n",
    "    scaling = 1/(np.transpose(ones) @ cov_inv @ ones)\n",
    "    gmv_tot = scaling * cov_inv @ ones\n",
    "    gmv_wts = pd.DataFrame(index = tot_returns.columns[1:], data = gmv_tot, columns = ['GMV Weights'] )\n",
    "\n",
    "    \n",
    "    return gmv_wts\n"
   ]
  },
  {
   "cell_type": "markdown",
   "id": "9c7e95fe",
   "metadata": {},
   "source": [
    "### Mean-Variance Portfolio"
   ]
  },
  {
   "cell_type": "code",
   "execution_count": 6,
   "id": "cd5555a7",
   "metadata": {},
   "outputs": [],
   "source": [
    "def mv_portfolio(target_ret, tot_returns):\n",
    "    \n",
    "    mu_tan = tot_returns.mean() @ tangency_weights(tot_returns, cov_mat = 1)\n",
    "    mu_gmv = tot_returns.mean() @ gmv_weights(tot_returns)\n",
    "    \n",
    "    delta = (target_ret - mu_gmv[0])/(mu_tan[0] - mu_gmv[0])\n",
    "    mv_weights = (delta * tangency_weights(tot_returns, cov_mat = 1)).values + ((1-delta)*gmv_weights(tot_returns)).values\n",
    "    \n",
    "    MV = pd.DataFrame(index = tot_returns.columns[1:], data = mv_weights, columns = ['MV Weights'] )\n",
    "    MV['tangency weights'] =  tangency_weights(tot_returns, cov_mat = 1).values\n",
    "    MV['GMV weights'] =   gmv_weights(tot_returns).values\n",
    "\n",
    "\n",
    "    return MV\n"
   ]
  },
  {
   "cell_type": "markdown",
   "id": "1ae11010",
   "metadata": {},
   "source": [
    "## Reading the data"
   ]
  },
  {
   "cell_type": "code",
   "execution_count": 7,
   "id": "344abdac",
   "metadata": {},
   "outputs": [],
   "source": [
    "FILEIN = '../data/midterm_1_data.xlsx'\n",
    "sheet_exrets = 'excess returns'\n",
    "sheet_spy = 'spy'\n",
    "\n",
    "retsx = pd.read_excel(FILEIN, sheet_name=sheet_exrets).set_index('date')\n",
    "spy = pd.read_excel(FILEIN, sheet_name=sheet_spy).set_index('date')"
   ]
  },
  {
   "cell_type": "markdown",
   "id": "d0af33e1",
   "metadata": {},
   "source": [
    "## Scoring\n",
    "\n",
    "| Problem | Points |\n",
    "|---------|--------|\n",
    "| 1       | 20     |\n",
    "| 2       | 35     |\n",
    "| 3       | 30     |\n",
    "| 4       | 15     |"
   ]
  },
  {
   "cell_type": "markdown",
   "id": "c158c236",
   "metadata": {},
   "source": [
    "### Each numbered question is worth 5 points."
   ]
  },
  {
   "cell_type": "markdown",
   "id": "362090a7",
   "metadata": {},
   "source": [
    "### Notation\n",
    "(Hidden LaTeX commands)\n",
    "\n",
    "$$\\newcommand{\\mux}{\\tilde{\\boldsymbol{\\mu}}}$$\n",
    "$$\\newcommand{\\wtan}{\\boldsymbol{\\text{w}}^{\\text{tan}}}$$\n",
    "$$\\newcommand{\\wtarg}{\\boldsymbol{\\text{w}}^{\\text{port}}}$$\n",
    "$$\\newcommand{\\mutarg}{\\tilde{\\boldsymbol{\\mu}}^{\\text{port}}}$$\n",
    "$$\\newcommand{\\wEW}{\\boldsymbol{\\text{w}}^{\\text{EW}}}$$\n",
    "$$\\newcommand{\\wRP}{\\boldsymbol{\\text{w}}^{\\text{RP}}}$$\n",
    "$$\\newcommand{\\wREG}{\\boldsymbol{\\text{w}}^{\\text{REG}}}$$"
   ]
  },
  {
   "cell_type": "markdown",
   "id": "40926a81",
   "metadata": {},
   "source": [
    "# 1. Short Answer"
   ]
  },
  {
   "cell_type": "markdown",
   "id": "d29c0d60",
   "metadata": {},
   "source": [
    "### No Data Needed\n",
    "\n",
    "These problem does not require any data file. Rather, analyze the situation conceptually, based on the information below. "
   ]
  },
  {
   "cell_type": "markdown",
   "id": "d086f971",
   "metadata": {},
   "source": [
    "## 1\n",
    "\n",
    "In what sense was ProShares `HDG` successful in hedging the `HFRI`, and in what sense was it unsuccessful in tracking the `HFRI`?\n",
    "\n",
    "<font color='red'>\n",
    "\n",
    "HDG is succesful in matchin the return variation of HFRI, as evidenced by the high correlation/R^2 between the two. However, it is unsuccessful in delivering high returns to investors, as evidenced by the low Sharpe ratio compared to HFRI. \n",
    "\n",
    "That is, it matches the variation well but not the mean return.\n",
    "\n",
    "</font>"
   ]
  },
  {
   "cell_type": "markdown",
   "id": "081ddf91",
   "metadata": {},
   "source": [
    "## 2\n",
    "\n",
    "We discussed multiple ways of calculating Value-at-Risk (VaR). What are the tradeoffs between using the normal distribution formula versus a directly empirical approach?\n",
    "\n",
    "<font color='red'>\n",
    "\n",
    "Benefits of normal distribution:\n",
    "- **Statistical power**; you can get a better estimate with less data, and you can get a better estimate of extreme events.\n",
    "- Good way to compare and quote VaR.\n",
    "\n",
    "But:\n",
    "- **Bad for modeling tails as we already know that skewness and kurtosis from returns are very different from the normal distribution.**\n",
    "- Assums i.i.d. returns.\n",
    "\n",
    "Benefits of empirical approach:\n",
    "- No assumptions about the distribution of returns.\n",
    "- \"Data driven\" approach.\n",
    "- Ease of implementation.\n",
    "\n",
    "But:\n",
    "- Requires a lot of data to get a good estimate for extreme events (e.g. 0.1\\% VaR).\n",
    "- Also assumes i.i.d. returns.\n",
    "\n",
    "</font>"
   ]
  },
  {
   "cell_type": "markdown",
   "id": "ea8b7e68",
   "metadata": {},
   "source": [
    "## 3\n",
    "\n",
    "Did we find that **TIPS** have been useful in expanding the mean-variance frontier in the past? Did we conclude they might be useful in the future? Explain.\n",
    "\n",
    "<font color='red'>\n",
    "\n",
    "TIPS have not been particularly useful in expanding the MV frontier in the past. Recall from C.1. -- [link](https://github.com/MarkHendricks/finm-portfolio-2023/blob/main/discussions/C.1.%20Harvard%20Endowment.ipynb) -- that by dropping TIPS from the investment set, we barely see an impact on the weights for the other assets, and that it has a negligible result of portfolio performance. \n",
    "\n",
    "In the future, they may be useful, since as we also saw, adjusting the performance of TIPS upwards just by 1 standard error causes a big change in the allocations and performance of the portfolio. That means that if TIPS began to perform better, then they would be useful in expanding the MV frontier. However, when we read the case, we see that Harvard ***already*** has a treasury portfolio, and so I would argue that TIPS should just be added to that existing portfolio, and are not sufficiently different to be considered their own asset class.\n",
    "\n",
    "</font>"
   ]
  },
  {
   "cell_type": "markdown",
   "id": "ea97348b",
   "metadata": {},
   "source": [
    "## 4.\n",
    "\n",
    "What aspect of the classic mean-variance optimization approach leads to extreme answers? How did regularization help with this issue?\n",
    "\n",
    "<font color='red'>\n",
    "\n",
    "The classic MV approach leads to extreme answers because of the instability of the inverted covariance matrix for correlated assets. That is, if the covariance matrix is nearly singular (caused by high correlations), then the inverse of the covariance matrix will be unstable, and the weights will be extreme.\n",
    "\n",
    "Additionally, we saw that the weights are not only extreme in the base case, but they are also unstable. For example, we saw in C.1 -- [link](https://github.com/MarkHendricks/finm-portfolio-2023/blob/main/discussions/C.1.%20Harvard%20Endowment.ipynb) -- that just a 0.0012 change in monthly returns for TIPs leads to a large change in tangency portfolio weights.\n",
    "\n",
    "Regularization helps with this issue as it makes the covariance matrix more stable, specifically by making is less singular. This is because we are (for example in HW1), taking the average of the observed covariance matrix with the diagonalized one. This shrinks the off-diagonal elements, which makes the matrix less singular, and thus more stable when we invert it -- leading to more stable tangency portfolio weights. Ridge and LASSO shrink the betas and achieve a similar goal\n",
    "\n",
    "</font>"
   ]
  },
  {
   "cell_type": "markdown",
   "id": "55e42346",
   "metadata": {},
   "source": [
    "***"
   ]
  },
  {
   "cell_type": "markdown",
   "id": "2d66389e",
   "metadata": {},
   "source": [
    "# 2. Allocation\n"
   ]
  },
  {
   "cell_type": "markdown",
   "id": "68b67603",
   "metadata": {},
   "source": [
    "Consider a mean-variance optimization of **excess** returns provided in `midterm_1_data.xlsx.`"
   ]
  },
  {
   "cell_type": "markdown",
   "id": "ebe496df",
   "metadata": {},
   "source": [
    "## 1. \n",
    "\n",
    "Report the following **annualized** statistics:\n",
    "* mean\n",
    "* volatility\n",
    "* Sharpe ratio\n",
    "\n",
    "Which assets have the highest / lowest Sharpe ratios?"
   ]
  },
  {
   "cell_type": "code",
   "execution_count": 8,
   "id": "2bd50872",
   "metadata": {},
   "outputs": [
    {
     "data": {
      "text/html": [
       "<div>\n",
       "<style scoped>\n",
       "    .dataframe tbody tr th:only-of-type {\n",
       "        vertical-align: middle;\n",
       "    }\n",
       "\n",
       "    .dataframe tbody tr th {\n",
       "        vertical-align: top;\n",
       "    }\n",
       "\n",
       "    .dataframe thead th {\n",
       "        text-align: right;\n",
       "    }\n",
       "</style>\n",
       "<table border=\"1\" class=\"dataframe\">\n",
       "  <thead>\n",
       "    <tr style=\"text-align: right;\">\n",
       "      <th></th>\n",
       "      <th>Mean</th>\n",
       "      <th>Volatility</th>\n",
       "      <th>Sharpe Ratio</th>\n",
       "      <th>Skewness</th>\n",
       "      <th>Excess Kurtosis</th>\n",
       "      <th>VaR (0.05)</th>\n",
       "      <th>CVaR (0.05)</th>\n",
       "      <th>Min</th>\n",
       "      <th>Max</th>\n",
       "      <th>Max Drawdown</th>\n",
       "      <th>Peak</th>\n",
       "      <th>Bottom</th>\n",
       "      <th>Recovery</th>\n",
       "    </tr>\n",
       "  </thead>\n",
       "  <tbody>\n",
       "    <tr>\n",
       "      <th>AAPL</th>\n",
       "      <td>0.319421</td>\n",
       "      <td>0.283883</td>\n",
       "      <td>1.125183</td>\n",
       "      <td>-0.334342</td>\n",
       "      <td>2.672198</td>\n",
       "      <td>-0.052313</td>\n",
       "      <td>-0.085612</td>\n",
       "      <td>-0.190566</td>\n",
       "      <td>0.143562</td>\n",
       "      <td>-0.372094</td>\n",
       "      <td>2018-10-05</td>\n",
       "      <td>2019-01-04</td>\n",
       "      <td>2019-11-08</td>\n",
       "    </tr>\n",
       "    <tr>\n",
       "      <th>MSFT</th>\n",
       "      <td>0.288087</td>\n",
       "      <td>0.240206</td>\n",
       "      <td>1.199334</td>\n",
       "      <td>-0.359175</td>\n",
       "      <td>1.737189</td>\n",
       "      <td>-0.049366</td>\n",
       "      <td>-0.071559</td>\n",
       "      <td>-0.150492</td>\n",
       "      <td>0.104231</td>\n",
       "      <td>-0.299537</td>\n",
       "      <td>2020-02-14</td>\n",
       "      <td>2020-03-20</td>\n",
       "      <td>2020-07-03</td>\n",
       "    </tr>\n",
       "    <tr>\n",
       "      <th>AMZN</th>\n",
       "      <td>0.239457</td>\n",
       "      <td>0.310389</td>\n",
       "      <td>0.771474</td>\n",
       "      <td>-0.210630</td>\n",
       "      <td>1.746315</td>\n",
       "      <td>-0.061868</td>\n",
       "      <td>-0.096065</td>\n",
       "      <td>-0.151901</td>\n",
       "      <td>0.156111</td>\n",
       "      <td>-0.468127</td>\n",
       "      <td>2021-07-09</td>\n",
       "      <td>2023-01-06</td>\n",
       "      <td>NaT</td>\n",
       "    </tr>\n",
       "    <tr>\n",
       "      <th>NVDA</th>\n",
       "      <td>0.650658</td>\n",
       "      <td>0.468096</td>\n",
       "      <td>1.390011</td>\n",
       "      <td>0.425676</td>\n",
       "      <td>2.244417</td>\n",
       "      <td>-0.083805</td>\n",
       "      <td>-0.119446</td>\n",
       "      <td>-0.210199</td>\n",
       "      <td>0.332580</td>\n",
       "      <td>-0.592344</td>\n",
       "      <td>2021-11-19</td>\n",
       "      <td>2022-10-14</td>\n",
       "      <td>2023-05-19</td>\n",
       "    </tr>\n",
       "    <tr>\n",
       "      <th>GOOGL</th>\n",
       "      <td>0.193328</td>\n",
       "      <td>0.274217</td>\n",
       "      <td>0.705020</td>\n",
       "      <td>0.041986</td>\n",
       "      <td>1.143573</td>\n",
       "      <td>-0.055729</td>\n",
       "      <td>-0.078408</td>\n",
       "      <td>-0.135524</td>\n",
       "      <td>0.149258</td>\n",
       "      <td>-0.348297</td>\n",
       "      <td>2022-03-25</td>\n",
       "      <td>2023-01-06</td>\n",
       "      <td>NaT</td>\n",
       "    </tr>\n",
       "    <tr>\n",
       "      <th>TSLA</th>\n",
       "      <td>0.569728</td>\n",
       "      <td>0.607026</td>\n",
       "      <td>0.938556</td>\n",
       "      <td>0.441455</td>\n",
       "      <td>1.527376</td>\n",
       "      <td>-0.122519</td>\n",
       "      <td>-0.155313</td>\n",
       "      <td>-0.284957</td>\n",
       "      <td>0.334897</td>\n",
       "      <td>-0.682185</td>\n",
       "      <td>2021-11-05</td>\n",
       "      <td>2023-01-06</td>\n",
       "      <td>NaT</td>\n",
       "    </tr>\n",
       "    <tr>\n",
       "      <th>XOM</th>\n",
       "      <td>0.124196</td>\n",
       "      <td>0.311613</td>\n",
       "      <td>0.398557</td>\n",
       "      <td>0.097936</td>\n",
       "      <td>3.129459</td>\n",
       "      <td>-0.061685</td>\n",
       "      <td>-0.097340</td>\n",
       "      <td>-0.175338</td>\n",
       "      <td>0.184173</td>\n",
       "      <td>-0.671435</td>\n",
       "      <td>2016-12-16</td>\n",
       "      <td>2020-03-20</td>\n",
       "      <td>2022-03-11</td>\n",
       "    </tr>\n",
       "  </tbody>\n",
       "</table>\n",
       "</div>"
      ],
      "text/plain": [
       "           Mean  Volatility  Sharpe Ratio  Skewness  Excess Kurtosis  \\\n",
       "AAPL   0.319421    0.283883      1.125183 -0.334342         2.672198   \n",
       "MSFT   0.288087    0.240206      1.199334 -0.359175         1.737189   \n",
       "AMZN   0.239457    0.310389      0.771474 -0.210630         1.746315   \n",
       "NVDA   0.650658    0.468096      1.390011  0.425676         2.244417   \n",
       "GOOGL  0.193328    0.274217      0.705020  0.041986         1.143573   \n",
       "TSLA   0.569728    0.607026      0.938556  0.441455         1.527376   \n",
       "XOM    0.124196    0.311613      0.398557  0.097936         3.129459   \n",
       "\n",
       "       VaR (0.05)  CVaR (0.05)       Min       Max  Max Drawdown       Peak  \\\n",
       "AAPL    -0.052313    -0.085612 -0.190566  0.143562     -0.372094 2018-10-05   \n",
       "MSFT    -0.049366    -0.071559 -0.150492  0.104231     -0.299537 2020-02-14   \n",
       "AMZN    -0.061868    -0.096065 -0.151901  0.156111     -0.468127 2021-07-09   \n",
       "NVDA    -0.083805    -0.119446 -0.210199  0.332580     -0.592344 2021-11-19   \n",
       "GOOGL   -0.055729    -0.078408 -0.135524  0.149258     -0.348297 2022-03-25   \n",
       "TSLA    -0.122519    -0.155313 -0.284957  0.334897     -0.682185 2021-11-05   \n",
       "XOM     -0.061685    -0.097340 -0.175338  0.184173     -0.671435 2016-12-16   \n",
       "\n",
       "          Bottom   Recovery  \n",
       "AAPL  2019-01-04 2019-11-08  \n",
       "MSFT  2020-03-20 2020-07-03  \n",
       "AMZN  2023-01-06        NaT  \n",
       "NVDA  2022-10-14 2023-05-19  \n",
       "GOOGL 2023-01-06        NaT  \n",
       "TSLA  2023-01-06        NaT  \n",
       "XOM   2020-03-20 2022-03-11  "
      ]
     },
     "execution_count": 8,
     "metadata": {},
     "output_type": "execute_result"
    }
   ],
   "source": [
    "summary_stats_retsx = performance_summary(retsx, 52)\n",
    "summary_stats_retsx"
   ]
  },
  {
   "cell_type": "code",
   "execution_count": 9,
   "id": "7942ebec",
   "metadata": {},
   "outputs": [
    {
     "name": "stdout",
     "output_type": "stream",
     "text": [
      "The asset with the best Sharpe ratio is: \n"
     ]
    },
    {
     "data": {
      "text/html": [
       "<div>\n",
       "<style scoped>\n",
       "    .dataframe tbody tr th:only-of-type {\n",
       "        vertical-align: middle;\n",
       "    }\n",
       "\n",
       "    .dataframe tbody tr th {\n",
       "        vertical-align: top;\n",
       "    }\n",
       "\n",
       "    .dataframe thead th {\n",
       "        text-align: right;\n",
       "    }\n",
       "</style>\n",
       "<table border=\"1\" class=\"dataframe\">\n",
       "  <thead>\n",
       "    <tr style=\"text-align: right;\">\n",
       "      <th></th>\n",
       "      <th>Sharpe Ratio</th>\n",
       "    </tr>\n",
       "  </thead>\n",
       "  <tbody>\n",
       "    <tr>\n",
       "      <th>NVDA</th>\n",
       "      <td>1.390011</td>\n",
       "    </tr>\n",
       "  </tbody>\n",
       "</table>\n",
       "</div>"
      ],
      "text/plain": [
       "      Sharpe Ratio\n",
       "NVDA      1.390011"
      ]
     },
     "metadata": {},
     "output_type": "display_data"
    },
    {
     "name": "stdout",
     "output_type": "stream",
     "text": [
      "The asset with the worst Sharpe ratio is: \n"
     ]
    },
    {
     "data": {
      "text/html": [
       "<div>\n",
       "<style scoped>\n",
       "    .dataframe tbody tr th:only-of-type {\n",
       "        vertical-align: middle;\n",
       "    }\n",
       "\n",
       "    .dataframe tbody tr th {\n",
       "        vertical-align: top;\n",
       "    }\n",
       "\n",
       "    .dataframe thead th {\n",
       "        text-align: right;\n",
       "    }\n",
       "</style>\n",
       "<table border=\"1\" class=\"dataframe\">\n",
       "  <thead>\n",
       "    <tr style=\"text-align: right;\">\n",
       "      <th></th>\n",
       "      <th>Sharpe Ratio</th>\n",
       "    </tr>\n",
       "  </thead>\n",
       "  <tbody>\n",
       "    <tr>\n",
       "      <th>XOM</th>\n",
       "      <td>0.398557</td>\n",
       "    </tr>\n",
       "  </tbody>\n",
       "</table>\n",
       "</div>"
      ],
      "text/plain": [
       "     Sharpe Ratio\n",
       "XOM      0.398557"
      ]
     },
     "metadata": {},
     "output_type": "display_data"
    }
   ],
   "source": [
    "print(\"The asset with the best Sharpe ratio is: \")\n",
    "display(summary_stats_retsx[summary_stats_retsx['Sharpe Ratio'] == summary_stats_retsx['Sharpe Ratio'].max()][['Sharpe Ratio']])\n",
    "print(\"The asset with the worst Sharpe ratio is: \")\n",
    "display(summary_stats_retsx[summary_stats_retsx['Sharpe Ratio'] == summary_stats_retsx['Sharpe Ratio'].min()][['Sharpe Ratio']])"
   ]
  },
  {
   "cell_type": "markdown",
   "id": "2f091c84",
   "metadata": {},
   "source": [
    "## 2.\n",
    "\n",
    "Report the weights of the tangency portfolio.\n",
    "\n",
    "Also report the Sharpe ratio achieved by the tangency portfolio over this sample."
   ]
  },
  {
   "cell_type": "code",
   "execution_count": 10,
   "id": "55d989ff",
   "metadata": {},
   "outputs": [
    {
     "data": {
      "text/html": [
       "<div>\n",
       "<style scoped>\n",
       "    .dataframe tbody tr th:only-of-type {\n",
       "        vertical-align: middle;\n",
       "    }\n",
       "\n",
       "    .dataframe tbody tr th {\n",
       "        vertical-align: top;\n",
       "    }\n",
       "\n",
       "    .dataframe thead th {\n",
       "        text-align: right;\n",
       "    }\n",
       "</style>\n",
       "<table border=\"1\" class=\"dataframe\">\n",
       "  <thead>\n",
       "    <tr style=\"text-align: right;\">\n",
       "      <th></th>\n",
       "      <th>Tangent Weights</th>\n",
       "    </tr>\n",
       "  </thead>\n",
       "  <tbody>\n",
       "    <tr>\n",
       "      <th>AAPL</th>\n",
       "      <td>0.322605</td>\n",
       "    </tr>\n",
       "    <tr>\n",
       "      <th>MSFT</th>\n",
       "      <td>0.787496</td>\n",
       "    </tr>\n",
       "    <tr>\n",
       "      <th>AMZN</th>\n",
       "      <td>-0.228607</td>\n",
       "    </tr>\n",
       "    <tr>\n",
       "      <th>NVDA</th>\n",
       "      <td>0.495996</td>\n",
       "    </tr>\n",
       "    <tr>\n",
       "      <th>GOOGL</th>\n",
       "      <td>-0.502721</td>\n",
       "    </tr>\n",
       "    <tr>\n",
       "      <th>TSLA</th>\n",
       "      <td>0.105975</td>\n",
       "    </tr>\n",
       "    <tr>\n",
       "      <th>XOM</th>\n",
       "      <td>0.019257</td>\n",
       "    </tr>\n",
       "  </tbody>\n",
       "</table>\n",
       "</div>"
      ],
      "text/plain": [
       "       Tangent Weights\n",
       "AAPL          0.322605\n",
       "MSFT          0.787496\n",
       "AMZN         -0.228607\n",
       "NVDA          0.495996\n",
       "GOOGL        -0.502721\n",
       "TSLA          0.105975\n",
       "XOM           0.019257"
      ]
     },
     "execution_count": 10,
     "metadata": {},
     "output_type": "execute_result"
    }
   ],
   "source": [
    "w_t = tangency_weights(retsx.reset_index(), cov_mat = 1)\n",
    "w_t"
   ]
  },
  {
   "cell_type": "code",
   "execution_count": 11,
   "id": "61d21934",
   "metadata": {},
   "outputs": [
    {
     "data": {
      "text/html": [
       "<div>\n",
       "<style scoped>\n",
       "    .dataframe tbody tr th:only-of-type {\n",
       "        vertical-align: middle;\n",
       "    }\n",
       "\n",
       "    .dataframe tbody tr th {\n",
       "        vertical-align: top;\n",
       "    }\n",
       "\n",
       "    .dataframe thead th {\n",
       "        text-align: right;\n",
       "    }\n",
       "</style>\n",
       "<table border=\"1\" class=\"dataframe\">\n",
       "  <thead>\n",
       "    <tr style=\"text-align: right;\">\n",
       "      <th></th>\n",
       "      <th>Mean</th>\n",
       "      <th>Volatility</th>\n",
       "      <th>Sharpe Ratio</th>\n",
       "      <th>Skewness</th>\n",
       "      <th>Excess Kurtosis</th>\n",
       "      <th>VaR (0.05)</th>\n",
       "      <th>CVaR (0.05)</th>\n",
       "      <th>Min</th>\n",
       "      <th>Max</th>\n",
       "      <th>Max Drawdown</th>\n",
       "      <th>Peak</th>\n",
       "      <th>Bottom</th>\n",
       "      <th>Recovery</th>\n",
       "    </tr>\n",
       "  </thead>\n",
       "  <tbody>\n",
       "    <tr>\n",
       "      <th>Tangent Weights</th>\n",
       "      <td>0.563474</td>\n",
       "      <td>0.358351</td>\n",
       "      <td>1.572409</td>\n",
       "      <td>0.00438</td>\n",
       "      <td>1.899066</td>\n",
       "      <td>-0.063723</td>\n",
       "      <td>-0.096174</td>\n",
       "      <td>-0.223741</td>\n",
       "      <td>0.193774</td>\n",
       "      <td>-0.383571</td>\n",
       "      <td>2018-09-14</td>\n",
       "      <td>2019-01-04</td>\n",
       "      <td>2019-11-08</td>\n",
       "    </tr>\n",
       "  </tbody>\n",
       "</table>\n",
       "</div>"
      ],
      "text/plain": [
       "                     Mean  Volatility  Sharpe Ratio  Skewness  \\\n",
       "Tangent Weights  0.563474    0.358351      1.572409   0.00438   \n",
       "\n",
       "                 Excess Kurtosis  VaR (0.05)  CVaR (0.05)       Min       Max  \\\n",
       "Tangent Weights         1.899066   -0.063723    -0.096174 -0.223741  0.193774   \n",
       "\n",
       "                 Max Drawdown       Peak     Bottom   Recovery  \n",
       "Tangent Weights     -0.383571 2018-09-14 2019-01-04 2019-11-08  "
      ]
     },
     "execution_count": 11,
     "metadata": {},
     "output_type": "execute_result"
    }
   ],
   "source": [
    "w_tan_summary_statistics = performance_summary(retsx @ w_t , 52)\n",
    "w_tan_summary_statistics"
   ]
  },
  {
   "cell_type": "markdown",
   "id": "eb1bab65",
   "metadata": {},
   "source": [
    "## 3.\n",
    "\n",
    "* What weight is given to the asset with the lowest Sharpe ratio?\n",
    "* What Sharpe ratio does the lowest (most negative) weight asset have?\n",
    "\n",
    "Explain. Support your answer with evidence."
   ]
  },
  {
   "cell_type": "code",
   "execution_count": 12,
   "id": "07e9054f",
   "metadata": {},
   "outputs": [
    {
     "name": "stdout",
     "output_type": "stream",
     "text": [
      "The weight given to the asset XOM with the lowest Sharpe ratio is 0.01925660795370571\n",
      "The Sharpe ratio assigned to GOOGL - most negative weight is 0.7050198542160366\n"
     ]
    }
   ],
   "source": [
    "lowest_SR_asset = summary_stats_retsx[summary_stats_retsx['Sharpe Ratio'] == summary_stats_retsx['Sharpe Ratio'].min()][['Sharpe Ratio']].index[0]\n",
    "negative_wt_asset = w_t.idxmin()[0]\n",
    "SR_neg_wt = summary_stats_retsx.loc[negative_wt_asset]['Sharpe Ratio']\n",
    "\n",
    "print(\"The weight given to the asset {} with the lowest Sharpe ratio is {}\".format(lowest_SR_asset, w_t.loc[lowest_SR_asset][0]))\n",
    "print(\"The Sharpe ratio assigned to {} - most negative weight is {}\".format(negative_wt_asset,SR_neg_wt))"
   ]
  },
  {
   "cell_type": "markdown",
   "id": "131963d5",
   "metadata": {},
   "source": [
    "## 4.\n",
    "\n",
    "Let's examine the out-of-sample performance.\n",
    "\n",
    "Calculate and report the following three allocations using only data through the end of 2022:\n",
    "* tangency portfolio\n",
    "* equally weighted portfolio\n",
    "* a regularized approach, with a new formula shown below\n",
    "\n",
    "where\n",
    "$$\\wEW_i = \\frac{1}{n}$$\n",
    "\n",
    "$$\\wREG \\sim \\widehat{\\Sigma}^{-1}\\mux$$\n",
    "\n",
    "$$\\widehat{\\Sigma} = \\frac{\\Sigma + \\boldsymbol{2}\\,\\Sigma_D}{\\boldsymbol{3}}$$\n",
    "where $\\Sigma_D$ denotes a *diagonal* matrix of the security variances, with zeros in the off-diagonals."
   ]
  },
  {
   "cell_type": "code",
   "execution_count": 13,
   "id": "e3f72235",
   "metadata": {},
   "outputs": [
    {
     "data": {
      "text/html": [
       "<div>\n",
       "<style scoped>\n",
       "    .dataframe tbody tr th:only-of-type {\n",
       "        vertical-align: middle;\n",
       "    }\n",
       "\n",
       "    .dataframe tbody tr th {\n",
       "        vertical-align: top;\n",
       "    }\n",
       "\n",
       "    .dataframe thead th {\n",
       "        text-align: right;\n",
       "    }\n",
       "</style>\n",
       "<table border=\"1\" class=\"dataframe\">\n",
       "  <thead>\n",
       "    <tr style=\"text-align: right;\">\n",
       "      <th></th>\n",
       "      <th>tangency</th>\n",
       "      <th>equal weights</th>\n",
       "      <th>regularized</th>\n",
       "    </tr>\n",
       "  </thead>\n",
       "  <tbody>\n",
       "    <tr>\n",
       "      <th>AAPL</th>\n",
       "      <td>0.310565</td>\n",
       "      <td>0.142857</td>\n",
       "      <td>0.237267</td>\n",
       "    </tr>\n",
       "    <tr>\n",
       "      <th>MSFT</th>\n",
       "      <td>1.073114</td>\n",
       "      <td>0.142857</td>\n",
       "      <td>0.330835</td>\n",
       "    </tr>\n",
       "    <tr>\n",
       "      <th>AMZN</th>\n",
       "      <td>-0.259080</td>\n",
       "      <td>0.142857</td>\n",
       "      <td>0.047178</td>\n",
       "    </tr>\n",
       "    <tr>\n",
       "      <th>NVDA</th>\n",
       "      <td>0.380133</td>\n",
       "      <td>0.142857</td>\n",
       "      <td>0.196774</td>\n",
       "    </tr>\n",
       "    <tr>\n",
       "      <th>GOOGL</th>\n",
       "      <td>-0.751548</td>\n",
       "      <td>0.142857</td>\n",
       "      <td>0.011382</td>\n",
       "    </tr>\n",
       "    <tr>\n",
       "      <th>TSLA</th>\n",
       "      <td>0.101559</td>\n",
       "      <td>0.142857</td>\n",
       "      <td>0.090170</td>\n",
       "    </tr>\n",
       "    <tr>\n",
       "      <th>XOM</th>\n",
       "      <td>0.145257</td>\n",
       "      <td>0.142857</td>\n",
       "      <td>0.086393</td>\n",
       "    </tr>\n",
       "  </tbody>\n",
       "</table>\n",
       "</div>"
      ],
      "text/plain": [
       "       tangency  equal weights  regularized\n",
       "AAPL   0.310565       0.142857     0.237267\n",
       "MSFT   1.073114       0.142857     0.330835\n",
       "AMZN  -0.259080       0.142857     0.047178\n",
       "NVDA   0.380133       0.142857     0.196774\n",
       "GOOGL -0.751548       0.142857     0.011382\n",
       "TSLA   0.101559       0.142857     0.090170\n",
       "XOM    0.145257       0.142857     0.086393"
      ]
     },
     "execution_count": 13,
     "metadata": {},
     "output_type": "execute_result"
    }
   ],
   "source": [
    "retsx_IS = retsx.loc[:'2022']\n",
    "retsx_OOS = retsx.loc['2023':]\n",
    "\n",
    "\n",
    "wts = pd.DataFrame(index = retsx_IS.columns, columns = ['tangency','equal weights',\n",
    "                                                        'regularized'])\n",
    "\n",
    "\n",
    "wts.loc[:,'tangency'] = tangency_weights(retsx_IS.reset_index(), cov_mat = 1).values\n",
    "wts.loc[:,'equal weights'] = 1/len(retsx_IS.columns)\n",
    "wts.loc[:,'regularized'] = tangency_weights(retsx_IS.reset_index(), cov_mat = (1/3)).values\n",
    "\n",
    "wts"
   ]
  },
  {
   "cell_type": "code",
   "execution_count": 14,
   "id": "dbce5211",
   "metadata": {},
   "outputs": [
    {
     "data": {
      "text/html": [
       "<div>\n",
       "<style scoped>\n",
       "    .dataframe tbody tr th:only-of-type {\n",
       "        vertical-align: middle;\n",
       "    }\n",
       "\n",
       "    .dataframe tbody tr th {\n",
       "        vertical-align: top;\n",
       "    }\n",
       "\n",
       "    .dataframe thead th {\n",
       "        text-align: right;\n",
       "    }\n",
       "</style>\n",
       "<table border=\"1\" class=\"dataframe\">\n",
       "  <thead>\n",
       "    <tr style=\"text-align: right;\">\n",
       "      <th></th>\n",
       "      <th>tangency</th>\n",
       "      <th>equal weights</th>\n",
       "      <th>regularized</th>\n",
       "    </tr>\n",
       "  </thead>\n",
       "  <tbody>\n",
       "    <tr>\n",
       "      <th>AAPL</th>\n",
       "      <td>0.002818</td>\n",
       "      <td>0.000806</td>\n",
       "      <td>0.001486</td>\n",
       "    </tr>\n",
       "    <tr>\n",
       "      <th>MSFT</th>\n",
       "      <td>0.009739</td>\n",
       "      <td>0.000806</td>\n",
       "      <td>0.002071</td>\n",
       "    </tr>\n",
       "    <tr>\n",
       "      <th>AMZN</th>\n",
       "      <td>-0.002351</td>\n",
       "      <td>0.000806</td>\n",
       "      <td>0.000295</td>\n",
       "    </tr>\n",
       "    <tr>\n",
       "      <th>NVDA</th>\n",
       "      <td>0.003450</td>\n",
       "      <td>0.000806</td>\n",
       "      <td>0.001232</td>\n",
       "    </tr>\n",
       "    <tr>\n",
       "      <th>GOOGL</th>\n",
       "      <td>-0.006820</td>\n",
       "      <td>0.000806</td>\n",
       "      <td>0.000071</td>\n",
       "    </tr>\n",
       "    <tr>\n",
       "      <th>TSLA</th>\n",
       "      <td>0.000922</td>\n",
       "      <td>0.000806</td>\n",
       "      <td>0.000565</td>\n",
       "    </tr>\n",
       "    <tr>\n",
       "      <th>XOM</th>\n",
       "      <td>0.001318</td>\n",
       "      <td>0.000806</td>\n",
       "      <td>0.000541</td>\n",
       "    </tr>\n",
       "  </tbody>\n",
       "</table>\n",
       "</div>"
      ],
      "text/plain": [
       "       tangency  equal weights  regularized\n",
       "AAPL   0.002818       0.000806     0.001486\n",
       "MSFT   0.009739       0.000806     0.002071\n",
       "AMZN  -0.002351       0.000806     0.000295\n",
       "NVDA   0.003450       0.000806     0.001232\n",
       "GOOGL -0.006820       0.000806     0.000071\n",
       "TSLA   0.000922       0.000806     0.000565\n",
       "XOM    0.001318       0.000806     0.000541"
      ]
     },
     "execution_count": 14,
     "metadata": {},
     "output_type": "execute_result"
    }
   ],
   "source": [
    "wts_scaled = wts.copy()\n",
    "wts_scaled *= (retsx_IS.mean()@wts_scaled)\n",
    "\n",
    "wts_scaled"
   ]
  },
  {
   "cell_type": "code",
   "execution_count": 15,
   "id": "11b3ef34",
   "metadata": {},
   "outputs": [
    {
     "data": {
      "text/html": [
       "<div>\n",
       "<style scoped>\n",
       "    .dataframe tbody tr th:only-of-type {\n",
       "        vertical-align: middle;\n",
       "    }\n",
       "\n",
       "    .dataframe tbody tr th {\n",
       "        vertical-align: top;\n",
       "    }\n",
       "\n",
       "    .dataframe thead th {\n",
       "        text-align: right;\n",
       "    }\n",
       "</style>\n",
       "<table border=\"1\" class=\"dataframe\">\n",
       "  <thead>\n",
       "    <tr style=\"text-align: right;\">\n",
       "      <th></th>\n",
       "      <th>Mean</th>\n",
       "      <th>Volatility</th>\n",
       "      <th>Sharpe Ratio</th>\n",
       "      <th>Skewness</th>\n",
       "      <th>Excess Kurtosis</th>\n",
       "      <th>VaR (0.05)</th>\n",
       "      <th>CVaR (0.05)</th>\n",
       "      <th>Min</th>\n",
       "      <th>Max</th>\n",
       "      <th>Max Drawdown</th>\n",
       "      <th>Peak</th>\n",
       "      <th>Bottom</th>\n",
       "      <th>Recovery</th>\n",
       "    </tr>\n",
       "  </thead>\n",
       "  <tbody>\n",
       "    <tr>\n",
       "      <th>tangency</th>\n",
       "      <td>0.471913</td>\n",
       "      <td>0.331179</td>\n",
       "      <td>1.424947</td>\n",
       "      <td>-0.120732</td>\n",
       "      <td>3.033074</td>\n",
       "      <td>-0.055151</td>\n",
       "      <td>-0.092073</td>\n",
       "      <td>-0.231313</td>\n",
       "      <td>0.195057</td>\n",
       "      <td>-0.373375</td>\n",
       "      <td>2020-02-14</td>\n",
       "      <td>2020-03-20</td>\n",
       "      <td>2020-06-05</td>\n",
       "    </tr>\n",
       "    <tr>\n",
       "      <th>equal weights</th>\n",
       "      <td>0.293432</td>\n",
       "      <td>0.260804</td>\n",
       "      <td>1.125106</td>\n",
       "      <td>-0.297489</td>\n",
       "      <td>1.712386</td>\n",
       "      <td>-0.052046</td>\n",
       "      <td>-0.075865</td>\n",
       "      <td>-0.153175</td>\n",
       "      <td>0.112469</td>\n",
       "      <td>-0.353207</td>\n",
       "      <td>2020-02-14</td>\n",
       "      <td>2020-03-20</td>\n",
       "      <td>2020-06-05</td>\n",
       "    </tr>\n",
       "    <tr>\n",
       "      <th>regularized</th>\n",
       "      <td>0.325593</td>\n",
       "      <td>0.260874</td>\n",
       "      <td>1.248085</td>\n",
       "      <td>-0.366472</td>\n",
       "      <td>1.902271</td>\n",
       "      <td>-0.049572</td>\n",
       "      <td>-0.076368</td>\n",
       "      <td>-0.161853</td>\n",
       "      <td>0.109635</td>\n",
       "      <td>-0.342349</td>\n",
       "      <td>2020-02-14</td>\n",
       "      <td>2020-03-20</td>\n",
       "      <td>2020-06-05</td>\n",
       "    </tr>\n",
       "  </tbody>\n",
       "</table>\n",
       "</div>"
      ],
      "text/plain": [
       "                   Mean  Volatility  Sharpe Ratio  Skewness  Excess Kurtosis  \\\n",
       "tangency       0.471913    0.331179      1.424947 -0.120732         3.033074   \n",
       "equal weights  0.293432    0.260804      1.125106 -0.297489         1.712386   \n",
       "regularized    0.325593    0.260874      1.248085 -0.366472         1.902271   \n",
       "\n",
       "               VaR (0.05)  CVaR (0.05)       Min       Max  Max Drawdown  \\\n",
       "tangency        -0.055151    -0.092073 -0.231313  0.195057     -0.373375   \n",
       "equal weights   -0.052046    -0.075865 -0.153175  0.112469     -0.353207   \n",
       "regularized     -0.049572    -0.076368 -0.161853  0.109635     -0.342349   \n",
       "\n",
       "                    Peak     Bottom   Recovery  \n",
       "tangency      2020-02-14 2020-03-20 2020-06-05  \n",
       "equal weights 2020-02-14 2020-03-20 2020-06-05  \n",
       "regularized   2020-02-14 2020-03-20 2020-06-05  "
      ]
     },
     "execution_count": 15,
     "metadata": {},
     "output_type": "execute_result"
    }
   ],
   "source": [
    "performance_summary(retsx_IS @ wts, 52)"
   ]
  },
  {
   "cell_type": "code",
   "execution_count": 16,
   "id": "9d2dc4e8",
   "metadata": {},
   "outputs": [
    {
     "data": {
      "text/html": [
       "<div>\n",
       "<style scoped>\n",
       "    .dataframe tbody tr th:only-of-type {\n",
       "        vertical-align: middle;\n",
       "    }\n",
       "\n",
       "    .dataframe tbody tr th {\n",
       "        vertical-align: top;\n",
       "    }\n",
       "\n",
       "    .dataframe thead th {\n",
       "        text-align: right;\n",
       "    }\n",
       "</style>\n",
       "<table border=\"1\" class=\"dataframe\">\n",
       "  <thead>\n",
       "    <tr style=\"text-align: right;\">\n",
       "      <th></th>\n",
       "      <th>Mean</th>\n",
       "      <th>Volatility</th>\n",
       "      <th>Sharpe Ratio</th>\n",
       "      <th>Skewness</th>\n",
       "      <th>Excess Kurtosis</th>\n",
       "      <th>VaR (0.05)</th>\n",
       "      <th>CVaR (0.05)</th>\n",
       "      <th>Min</th>\n",
       "      <th>Max</th>\n",
       "      <th>Max Drawdown</th>\n",
       "      <th>Peak</th>\n",
       "      <th>Bottom</th>\n",
       "      <th>Recovery</th>\n",
       "    </tr>\n",
       "  </thead>\n",
       "  <tbody>\n",
       "    <tr>\n",
       "      <th>tangency</th>\n",
       "      <td>0.004283</td>\n",
       "      <td>0.003006</td>\n",
       "      <td>1.424947</td>\n",
       "      <td>-0.120732</td>\n",
       "      <td>3.033074</td>\n",
       "      <td>-0.000501</td>\n",
       "      <td>-0.000836</td>\n",
       "      <td>-0.002099</td>\n",
       "      <td>0.001770</td>\n",
       "      <td>-0.003842</td>\n",
       "      <td>2020-02-14</td>\n",
       "      <td>2020-03-20</td>\n",
       "      <td>2020-05-08</td>\n",
       "    </tr>\n",
       "    <tr>\n",
       "      <th>equal weights</th>\n",
       "      <td>0.001656</td>\n",
       "      <td>0.001472</td>\n",
       "      <td>1.125106</td>\n",
       "      <td>-0.297489</td>\n",
       "      <td>1.712386</td>\n",
       "      <td>-0.000294</td>\n",
       "      <td>-0.000428</td>\n",
       "      <td>-0.000864</td>\n",
       "      <td>0.000635</td>\n",
       "      <td>-0.002299</td>\n",
       "      <td>2020-02-14</td>\n",
       "      <td>2020-03-20</td>\n",
       "      <td>2020-06-05</td>\n",
       "    </tr>\n",
       "    <tr>\n",
       "      <th>regularized</th>\n",
       "      <td>0.002039</td>\n",
       "      <td>0.001633</td>\n",
       "      <td>1.248085</td>\n",
       "      <td>-0.366472</td>\n",
       "      <td>1.902271</td>\n",
       "      <td>-0.000310</td>\n",
       "      <td>-0.000478</td>\n",
       "      <td>-0.001013</td>\n",
       "      <td>0.000686</td>\n",
       "      <td>-0.002449</td>\n",
       "      <td>2020-02-14</td>\n",
       "      <td>2020-03-20</td>\n",
       "      <td>2020-06-05</td>\n",
       "    </tr>\n",
       "  </tbody>\n",
       "</table>\n",
       "</div>"
      ],
      "text/plain": [
       "                   Mean  Volatility  Sharpe Ratio  Skewness  Excess Kurtosis  \\\n",
       "tangency       0.004283    0.003006      1.424947 -0.120732         3.033074   \n",
       "equal weights  0.001656    0.001472      1.125106 -0.297489         1.712386   \n",
       "regularized    0.002039    0.001633      1.248085 -0.366472         1.902271   \n",
       "\n",
       "               VaR (0.05)  CVaR (0.05)       Min       Max  Max Drawdown  \\\n",
       "tangency        -0.000501    -0.000836 -0.002099  0.001770     -0.003842   \n",
       "equal weights   -0.000294    -0.000428 -0.000864  0.000635     -0.002299   \n",
       "regularized     -0.000310    -0.000478 -0.001013  0.000686     -0.002449   \n",
       "\n",
       "                    Peak     Bottom   Recovery  \n",
       "tangency      2020-02-14 2020-03-20 2020-05-08  \n",
       "equal weights 2020-02-14 2020-03-20 2020-06-05  \n",
       "regularized   2020-02-14 2020-03-20 2020-06-05  "
      ]
     },
     "execution_count": 16,
     "metadata": {},
     "output_type": "execute_result"
    }
   ],
   "source": [
    "performance_summary(retsx_IS @ wts_scaled, 52)"
   ]
  },
  {
   "cell_type": "markdown",
   "id": "f9255bdd",
   "metadata": {},
   "source": [
    "## 5.\n",
    "\n",
    "Report the out-of-sample (2023) performance of all three portfolios in terms of annualized mean, vol, and Sharpe."
   ]
  },
  {
   "cell_type": "code",
   "execution_count": 17,
   "id": "60d07e62",
   "metadata": {},
   "outputs": [
    {
     "data": {
      "text/html": [
       "<div>\n",
       "<style scoped>\n",
       "    .dataframe tbody tr th:only-of-type {\n",
       "        vertical-align: middle;\n",
       "    }\n",
       "\n",
       "    .dataframe tbody tr th {\n",
       "        vertical-align: top;\n",
       "    }\n",
       "\n",
       "    .dataframe thead th {\n",
       "        text-align: right;\n",
       "    }\n",
       "</style>\n",
       "<table border=\"1\" class=\"dataframe\">\n",
       "  <thead>\n",
       "    <tr style=\"text-align: right;\">\n",
       "      <th></th>\n",
       "      <th>Mean</th>\n",
       "      <th>Volatility</th>\n",
       "      <th>Sharpe Ratio</th>\n",
       "      <th>Skewness</th>\n",
       "      <th>Excess Kurtosis</th>\n",
       "      <th>VaR (0.05)</th>\n",
       "      <th>CVaR (0.05)</th>\n",
       "      <th>Min</th>\n",
       "      <th>Max</th>\n",
       "      <th>Max Drawdown</th>\n",
       "      <th>Peak</th>\n",
       "      <th>Bottom</th>\n",
       "      <th>Recovery</th>\n",
       "    </tr>\n",
       "  </thead>\n",
       "  <tbody>\n",
       "    <tr>\n",
       "      <th>tangency</th>\n",
       "      <td>1.204709</td>\n",
       "      <td>0.443716</td>\n",
       "      <td>2.715043</td>\n",
       "      <td>-0.122475</td>\n",
       "      <td>0.000357</td>\n",
       "      <td>-0.080687</td>\n",
       "      <td>-0.102946</td>\n",
       "      <td>-0.110876</td>\n",
       "      <td>0.135754</td>\n",
       "      <td>-0.110876</td>\n",
       "      <td>2023-05-05</td>\n",
       "      <td>2023-05-12</td>\n",
       "      <td>2023-05-26</td>\n",
       "    </tr>\n",
       "    <tr>\n",
       "      <th>equal weights</th>\n",
       "      <td>0.955133</td>\n",
       "      <td>0.246953</td>\n",
       "      <td>3.867668</td>\n",
       "      <td>-0.181519</td>\n",
       "      <td>1.026404</td>\n",
       "      <td>-0.035760</td>\n",
       "      <td>-0.056245</td>\n",
       "      <td>-0.069187</td>\n",
       "      <td>0.094587</td>\n",
       "      <td>-0.069187</td>\n",
       "      <td>2023-03-03</td>\n",
       "      <td>2023-03-10</td>\n",
       "      <td>2023-03-31</td>\n",
       "    </tr>\n",
       "    <tr>\n",
       "      <th>regularized</th>\n",
       "      <td>1.013509</td>\n",
       "      <td>0.250254</td>\n",
       "      <td>4.049917</td>\n",
       "      <td>-0.160608</td>\n",
       "      <td>0.400467</td>\n",
       "      <td>-0.041306</td>\n",
       "      <td>-0.055730</td>\n",
       "      <td>-0.060332</td>\n",
       "      <td>0.088543</td>\n",
       "      <td>-0.060332</td>\n",
       "      <td>2023-03-03</td>\n",
       "      <td>2023-03-10</td>\n",
       "      <td>2023-03-24</td>\n",
       "    </tr>\n",
       "  </tbody>\n",
       "</table>\n",
       "</div>"
      ],
      "text/plain": [
       "                   Mean  Volatility  Sharpe Ratio  Skewness  Excess Kurtosis  \\\n",
       "tangency       1.204709    0.443716      2.715043 -0.122475         0.000357   \n",
       "equal weights  0.955133    0.246953      3.867668 -0.181519         1.026404   \n",
       "regularized    1.013509    0.250254      4.049917 -0.160608         0.400467   \n",
       "\n",
       "               VaR (0.05)  CVaR (0.05)       Min       Max  Max Drawdown  \\\n",
       "tangency        -0.080687    -0.102946 -0.110876  0.135754     -0.110876   \n",
       "equal weights   -0.035760    -0.056245 -0.069187  0.094587     -0.069187   \n",
       "regularized     -0.041306    -0.055730 -0.060332  0.088543     -0.060332   \n",
       "\n",
       "                    Peak     Bottom   Recovery  \n",
       "tangency      2023-05-05 2023-05-12 2023-05-26  \n",
       "equal weights 2023-03-03 2023-03-10 2023-03-31  \n",
       "regularized   2023-03-03 2023-03-10 2023-03-24  "
      ]
     },
     "execution_count": 17,
     "metadata": {},
     "output_type": "execute_result"
    }
   ],
   "source": [
    "performance_summary(retsx_OOS @ wts, 52)"
   ]
  },
  {
   "cell_type": "code",
   "execution_count": 18,
   "id": "713d5864",
   "metadata": {},
   "outputs": [
    {
     "data": {
      "text/html": [
       "<div>\n",
       "<style scoped>\n",
       "    .dataframe tbody tr th:only-of-type {\n",
       "        vertical-align: middle;\n",
       "    }\n",
       "\n",
       "    .dataframe tbody tr th {\n",
       "        vertical-align: top;\n",
       "    }\n",
       "\n",
       "    .dataframe thead th {\n",
       "        text-align: right;\n",
       "    }\n",
       "</style>\n",
       "<table border=\"1\" class=\"dataframe\">\n",
       "  <thead>\n",
       "    <tr style=\"text-align: right;\">\n",
       "      <th></th>\n",
       "      <th>Mean</th>\n",
       "      <th>Volatility</th>\n",
       "      <th>Sharpe Ratio</th>\n",
       "      <th>Skewness</th>\n",
       "      <th>Excess Kurtosis</th>\n",
       "      <th>VaR (0.05)</th>\n",
       "      <th>CVaR (0.05)</th>\n",
       "      <th>Min</th>\n",
       "      <th>Max</th>\n",
       "      <th>Max Drawdown</th>\n",
       "      <th>Peak</th>\n",
       "      <th>Bottom</th>\n",
       "      <th>Recovery</th>\n",
       "    </tr>\n",
       "  </thead>\n",
       "  <tbody>\n",
       "    <tr>\n",
       "      <th>tangency</th>\n",
       "      <td>0.010933</td>\n",
       "      <td>0.004027</td>\n",
       "      <td>2.715043</td>\n",
       "      <td>-0.122475</td>\n",
       "      <td>0.000357</td>\n",
       "      <td>-0.000732</td>\n",
       "      <td>-0.000934</td>\n",
       "      <td>-0.001006</td>\n",
       "      <td>0.001232</td>\n",
       "      <td>-0.001006</td>\n",
       "      <td>2023-05-05</td>\n",
       "      <td>2023-05-12</td>\n",
       "      <td>2023-05-26</td>\n",
       "    </tr>\n",
       "    <tr>\n",
       "      <th>equal weights</th>\n",
       "      <td>0.005390</td>\n",
       "      <td>0.001394</td>\n",
       "      <td>3.867668</td>\n",
       "      <td>-0.181519</td>\n",
       "      <td>1.026404</td>\n",
       "      <td>-0.000202</td>\n",
       "      <td>-0.000317</td>\n",
       "      <td>-0.000390</td>\n",
       "      <td>0.000534</td>\n",
       "      <td>-0.000390</td>\n",
       "      <td>2023-03-03</td>\n",
       "      <td>2023-03-10</td>\n",
       "      <td>2023-03-31</td>\n",
       "    </tr>\n",
       "    <tr>\n",
       "      <th>regularized</th>\n",
       "      <td>0.006346</td>\n",
       "      <td>0.001567</td>\n",
       "      <td>4.049917</td>\n",
       "      <td>-0.160608</td>\n",
       "      <td>0.400467</td>\n",
       "      <td>-0.000259</td>\n",
       "      <td>-0.000349</td>\n",
       "      <td>-0.000378</td>\n",
       "      <td>0.000554</td>\n",
       "      <td>-0.000378</td>\n",
       "      <td>2023-03-03</td>\n",
       "      <td>2023-03-10</td>\n",
       "      <td>2023-03-24</td>\n",
       "    </tr>\n",
       "  </tbody>\n",
       "</table>\n",
       "</div>"
      ],
      "text/plain": [
       "                   Mean  Volatility  Sharpe Ratio  Skewness  Excess Kurtosis  \\\n",
       "tangency       0.010933    0.004027      2.715043 -0.122475         0.000357   \n",
       "equal weights  0.005390    0.001394      3.867668 -0.181519         1.026404   \n",
       "regularized    0.006346    0.001567      4.049917 -0.160608         0.400467   \n",
       "\n",
       "               VaR (0.05)  CVaR (0.05)       Min       Max  Max Drawdown  \\\n",
       "tangency        -0.000732    -0.000934 -0.001006  0.001232     -0.001006   \n",
       "equal weights   -0.000202    -0.000317 -0.000390  0.000534     -0.000390   \n",
       "regularized     -0.000259    -0.000349 -0.000378  0.000554     -0.000378   \n",
       "\n",
       "                    Peak     Bottom   Recovery  \n",
       "tangency      2023-05-05 2023-05-12 2023-05-26  \n",
       "equal weights 2023-03-03 2023-03-10 2023-03-31  \n",
       "regularized   2023-03-03 2023-03-10 2023-03-24  "
      ]
     },
     "execution_count": 18,
     "metadata": {},
     "output_type": "execute_result"
    }
   ],
   "source": [
    "performance_summary(retsx_OOS @ wts_scaled, 52)"
   ]
  },
  {
   "cell_type": "markdown",
   "id": "f65554c5",
   "metadata": {},
   "source": [
    "## 6.\n",
    "\n",
    "Imagine just for this problem that this data is for **total** returns, not excess returns.\n",
    "\n",
    "Report the weights of the global-minimum-variance portfolio."
   ]
  },
  {
   "cell_type": "code",
   "execution_count": 19,
   "id": "b470f167",
   "metadata": {},
   "outputs": [
    {
     "data": {
      "text/html": [
       "<div>\n",
       "<style scoped>\n",
       "    .dataframe tbody tr th:only-of-type {\n",
       "        vertical-align: middle;\n",
       "    }\n",
       "\n",
       "    .dataframe tbody tr th {\n",
       "        vertical-align: top;\n",
       "    }\n",
       "\n",
       "    .dataframe thead th {\n",
       "        text-align: right;\n",
       "    }\n",
       "</style>\n",
       "<table border=\"1\" class=\"dataframe\">\n",
       "  <thead>\n",
       "    <tr style=\"text-align: right;\">\n",
       "      <th></th>\n",
       "      <th>GMV Weights</th>\n",
       "    </tr>\n",
       "  </thead>\n",
       "  <tbody>\n",
       "    <tr>\n",
       "      <th>AAPL</th>\n",
       "      <td>0.206231</td>\n",
       "    </tr>\n",
       "    <tr>\n",
       "      <th>MSFT</th>\n",
       "      <td>0.491250</td>\n",
       "    </tr>\n",
       "    <tr>\n",
       "      <th>AMZN</th>\n",
       "      <td>0.160866</td>\n",
       "    </tr>\n",
       "    <tr>\n",
       "      <th>NVDA</th>\n",
       "      <td>-0.119168</td>\n",
       "    </tr>\n",
       "    <tr>\n",
       "      <th>GOOGL</th>\n",
       "      <td>0.011378</td>\n",
       "    </tr>\n",
       "    <tr>\n",
       "      <th>TSLA</th>\n",
       "      <td>-0.046927</td>\n",
       "    </tr>\n",
       "    <tr>\n",
       "      <th>XOM</th>\n",
       "      <td>0.296369</td>\n",
       "    </tr>\n",
       "  </tbody>\n",
       "</table>\n",
       "</div>"
      ],
      "text/plain": [
       "       GMV Weights\n",
       "AAPL      0.206231\n",
       "MSFT      0.491250\n",
       "AMZN      0.160866\n",
       "NVDA     -0.119168\n",
       "GOOGL     0.011378\n",
       "TSLA     -0.046927\n",
       "XOM       0.296369"
      ]
     },
     "execution_count": 19,
     "metadata": {},
     "output_type": "execute_result"
    }
   ],
   "source": [
    "gmv_weights(retsx.reset_index())"
   ]
  },
  {
   "cell_type": "markdown",
   "id": "8b41a996",
   "metadata": {},
   "source": [
    "## 7.\n",
    "\n",
    "To target a mean return of 0.005%, would you be long or short this global minimum variance portfolio?"
   ]
  },
  {
   "cell_type": "code",
   "execution_count": 15,
   "id": "38323852",
   "metadata": {},
   "outputs": [
    {
     "data": {
      "text/html": [
       "<div>\n",
       "<style scoped>\n",
       "    .dataframe tbody tr th:only-of-type {\n",
       "        vertical-align: middle;\n",
       "    }\n",
       "\n",
       "    .dataframe tbody tr th {\n",
       "        vertical-align: top;\n",
       "    }\n",
       "\n",
       "    .dataframe thead th {\n",
       "        text-align: right;\n",
       "    }\n",
       "</style>\n",
       "<table border=\"1\" class=\"dataframe\">\n",
       "  <thead>\n",
       "    <tr style=\"text-align: right;\">\n",
       "      <th></th>\n",
       "      <th>Mean</th>\n",
       "    </tr>\n",
       "  </thead>\n",
       "  <tbody>\n",
       "    <tr>\n",
       "      <th>Tangent Weights</th>\n",
       "      <td>0.563474</td>\n",
       "    </tr>\n",
       "  </tbody>\n",
       "</table>\n",
       "</div>"
      ],
      "text/plain": [
       "                     Mean\n",
       "Tangent Weights  0.563474"
      ]
     },
     "execution_count": 15,
     "metadata": {},
     "output_type": "execute_result"
    }
   ],
   "source": [
    "w_tan_summary_statistics[['Mean']]"
   ]
  },
  {
   "cell_type": "markdown",
   "id": "71a7c32e",
   "metadata": {},
   "source": [
    "<font color='red'>\n",
    "If the target mean is above the tangency mean, we must short the GMV. If target mean is below tangency mean, then we long the GMV. In this case, we are long the GMV\n",
    "</font>"
   ]
  },
  {
   "cell_type": "markdown",
   "id": "30cdbfa9",
   "metadata": {},
   "source": [
    "***"
   ]
  },
  {
   "cell_type": "markdown",
   "id": "a34d9fbd",
   "metadata": {},
   "source": [
    "# 3. Performance"
   ]
  },
  {
   "cell_type": "markdown",
   "id": "426af123",
   "metadata": {},
   "source": [
    "## 1. \n",
    "\n",
    "Report the following performance metrics of excess returns for Tesla (`TSLA`).\n",
    "* skewness\n",
    "* kurtosis\n",
    "\n",
    "You are not annualizing any of these stats.\n",
    "\n",
    "What do these metrics indicate about the nature of the returns?"
   ]
  },
  {
   "cell_type": "code",
   "execution_count": 21,
   "id": "2a49a59b",
   "metadata": {},
   "outputs": [
    {
     "data": {
      "text/plain": [
       "skew        0.441455\n",
       "kurtosis    1.527376\n",
       "Name: TSLA, dtype: float64"
      ]
     },
     "execution_count": 21,
     "metadata": {},
     "output_type": "execute_result"
    }
   ],
   "source": [
    "retsx['TSLA'].agg(['skew', 'kurtosis'])"
   ]
  },
  {
   "cell_type": "markdown",
   "id": "cec5e057",
   "metadata": {},
   "source": [
    "<font color='red'>\n",
    "\n",
    "- The returns are positively skewed. This indicates more big positive returns than negative returns.\n",
    "- The returns are leptokurtic, such that it has heavier tails. This implies that outsized returns are more frequent than a normal distribution\n",
    "\n",
    "</font>"
   ]
  },
  {
   "cell_type": "markdown",
   "id": "877253fc",
   "metadata": {},
   "source": [
    "## 2. \n",
    "\n",
    "Report the maximum drawdown for `TSLA` over the sample.\n",
    "* Ignore that your data is in excess returns rather than total returns.\n",
    "* Simply proceed with the excess return data for this calculation."
   ]
  },
  {
   "cell_type": "code",
   "execution_count": 22,
   "id": "d035fa91",
   "metadata": {},
   "outputs": [
    {
     "data": {
      "text/plain": [
       "-0.6821852296331565"
      ]
     },
     "execution_count": 22,
     "metadata": {},
     "output_type": "execute_result"
    }
   ],
   "source": [
    "wealth = (1 + retsx).cumprod()\n",
    "wealth_max = wealth.cummax()\n",
    "drawdown = wealth / wealth_max - 1\n",
    "max_drawdown = drawdown.min()\n",
    "max_drawdown['TSLA']"
   ]
  },
  {
   "cell_type": "markdown",
   "id": "20d77a74",
   "metadata": {},
   "source": [
    "## 3.\n",
    "\n",
    "For `TSLA`, calculate the following metrics, relative to `SPY`:\n",
    "* market beta\n",
    "* alpha\n",
    "* sortino ratio\n",
    "\n",
    "Annualize alpha and sortino ratio."
   ]
  },
  {
   "cell_type": "code",
   "execution_count": 23,
   "id": "789452ca",
   "metadata": {},
   "outputs": [
    {
     "data": {
      "text/html": [
       "<div>\n",
       "<style scoped>\n",
       "    .dataframe tbody tr th:only-of-type {\n",
       "        vertical-align: middle;\n",
       "    }\n",
       "\n",
       "    .dataframe tbody tr th {\n",
       "        vertical-align: top;\n",
       "    }\n",
       "\n",
       "    .dataframe thead th {\n",
       "        text-align: right;\n",
       "    }\n",
       "</style>\n",
       "<table border=\"1\" class=\"dataframe\">\n",
       "  <thead>\n",
       "    <tr style=\"text-align: right;\">\n",
       "      <th></th>\n",
       "      <th>Alpha</th>\n",
       "      <th>Beta</th>\n",
       "      <th>Sortino Ratio</th>\n",
       "      <th>Information Ratio</th>\n",
       "      <th>Treynor Ratio</th>\n",
       "    </tr>\n",
       "  </thead>\n",
       "  <tbody>\n",
       "    <tr>\n",
       "      <th>Summary</th>\n",
       "      <td>0.30947</td>\n",
       "      <td>1.776825</td>\n",
       "      <td>1.642329</td>\n",
       "      <td>0.596055</td>\n",
       "      <td>0.320644</td>\n",
       "    </tr>\n",
       "  </tbody>\n",
       "</table>\n",
       "</div>"
      ],
      "text/plain": [
       "           Alpha      Beta  Sortino Ratio  Information Ratio  Treynor Ratio\n",
       "Summary  0.30947  1.776825       1.642329           0.596055       0.320644"
      ]
     },
     "execution_count": 23,
     "metadata": {},
     "output_type": "execute_result"
    }
   ],
   "source": [
    "model = sm.OLS(retsx['TSLA'], sm.add_constant(spy), missing = 'drop').fit()\n",
    "summary = model.params.to_frame('Summary').T\n",
    "summary.columns = ['Alpha', 'Beta']\n",
    "summary['Sortino Ratio'] = retsx['TSLA'].mean() / retsx['TSLA'][retsx['TSLA'] < 0].std() * np.sqrt(52)\n",
    "summary['Information Ratio'] = summary['Alpha'] / model.resid.std() * np.sqrt(52)\n",
    "summary['Treynor Ratio'] = retsx['TSLA'].mean() / summary['Beta'] * 52\n",
    "summary['Alpha'] = summary['Alpha'] * 52\n",
    "summary"
   ]
  },
  {
   "cell_type": "markdown",
   "id": "bc7919b2",
   "metadata": {},
   "source": [
    "## 4.\n",
    "\n",
    "Continuing with `TSLA`, calculate the full-sample, 5th-percentile CVaR.\n",
    "* Use the `normal` formula, assuming mean returns are zero.\n",
    "* Use the full-sample volatility.\n",
    "\n",
    "Use the entire sample to calculate a single CVaR number. "
   ]
  },
  {
   "cell_type": "code",
   "execution_count": 24,
   "id": "cbbf2d4b",
   "metadata": {},
   "outputs": [
    {
     "data": {
      "text/plain": [
       "-0.17217191106804958"
      ]
     },
     "execution_count": 24,
     "metadata": {},
     "output_type": "execute_result"
    }
   ],
   "source": [
    "cvar = -stats.norm.pdf(1.65) / 0.05 * retsx['TSLA'].std()\n",
    "cvar"
   ]
  },
  {
   "cell_type": "markdown",
   "id": "94065e1d",
   "metadata": {},
   "source": [
    "## 5.\n",
    "\n",
    "Now calculate the 5th-percentile, one-period ahead, **VaR** for `TSLA`.\n",
    "\n",
    "Here, calculate the running series of VaR estimates.\n",
    "\n",
    "Again, \n",
    "* use the normal formula, with mean zero.\n",
    "\n",
    "But now, use the rolling volatility, based on \n",
    "* rolling window or $m=52$ weeks.\n",
    "\n",
    "Report the final 5 values of your calculated VaR series."
   ]
  },
  {
   "cell_type": "code",
   "execution_count": 25,
   "id": "a9f316fe",
   "metadata": {},
   "outputs": [
    {
     "data": {
      "text/plain": [
       "date\n",
       "2023-06-16   -0.157886\n",
       "2023-06-23   -0.157712\n",
       "2023-06-30   -0.155459\n",
       "2023-07-07   -0.153663\n",
       "2023-07-14   -0.152046\n",
       "Name: TSLA, dtype: float64"
      ]
     },
     "execution_count": 25,
     "metadata": {},
     "output_type": "execute_result"
    }
   ],
   "source": [
    "var = -1.65 * retsx['TSLA'].rolling(52).std().shift(1).dropna()\n",
    "var.tail()"
   ]
  },
  {
   "cell_type": "code",
   "execution_count": 26,
   "id": "26351604",
   "metadata": {},
   "outputs": [
    {
     "data": {
      "text/plain": [
       "date\n",
       "2023-06-16   -0.156624\n",
       "2023-06-23   -0.156740\n",
       "2023-06-30   -0.154200\n",
       "2023-07-07   -0.152694\n",
       "2023-07-14   -0.150967\n",
       "Name: TSLA, dtype: float64"
      ]
     },
     "execution_count": 26,
     "metadata": {},
     "output_type": "execute_result"
    }
   ],
   "source": [
    "rol_vol_tsla = np.sqrt((retsx['TSLA']**2).rolling(52).mean().shift())\n",
    "VaR_rol_tsla = -1.65 * rol_vol_tsla.dropna()\n",
    "VaR_rol_tsla.tail(5)"
   ]
  },
  {
   "cell_type": "markdown",
   "id": "25a30cac",
   "metadata": {},
   "source": [
    "## 6. \n",
    "\n",
    "Calculate the out-of-sample **hit ratio** for your VaR series reported in your previous answer."
   ]
  },
  {
   "cell_type": "code",
   "execution_count": 27,
   "id": "b67bbd5f",
   "metadata": {},
   "outputs": [
    {
     "data": {
      "text/plain": [
       "0.05588235294117647"
      ]
     },
     "execution_count": 27,
     "metadata": {},
     "output_type": "execute_result"
    }
   ],
   "source": [
    "(retsx['TSLA'].loc[var.index] < var).mean()"
   ]
  },
  {
   "cell_type": "code",
   "execution_count": 28,
   "id": "bf30ca04",
   "metadata": {},
   "outputs": [
    {
     "data": {
      "text/plain": [
       "0.05588235294117647"
      ]
     },
     "execution_count": 28,
     "metadata": {},
     "output_type": "execute_result"
    }
   ],
   "source": [
    "(retsx['TSLA'].loc[VaR_rol_tsla.index] < VaR_rol_tsla).mean()"
   ]
  },
  {
   "cell_type": "markdown",
   "id": "efee2bb2",
   "metadata": {},
   "source": [
    "***"
   ]
  },
  {
   "cell_type": "markdown",
   "id": "f3820d1b",
   "metadata": {},
   "source": [
    "# 4. Hedging"
   ]
  },
  {
   "cell_type": "markdown",
   "id": "b559f9a9",
   "metadata": {},
   "source": [
    "## 1. \n",
    "\n",
    "Consider the following scenario: you are holding a \\$100 million long position in `NVDA`. You wish to hedge the position using some combination of \n",
    "* `AAPL`\n",
    "* `AMZN`\n",
    "* `GOOGL`\n",
    "* `MSFT`\n",
    "\n",
    "Report the positions you would hold of those 4 securities for an optimal hedge.\n",
    "\n",
    "Note:\n",
    "* In the regression estimation, include an intercept.\n",
    "* Use the full-sample regression. No need to worry about in-sample versus out-of-sample."
   ]
  },
  {
   "cell_type": "code",
   "execution_count": 29,
   "id": "937ca89c",
   "metadata": {},
   "outputs": [
    {
     "data": {
      "text/html": [
       "<style type=\"text/css\">\n",
       "</style>\n",
       "<table id=\"T_1c758\">\n",
       "  <thead>\n",
       "    <tr>\n",
       "      <th class=\"blank level0\" >&nbsp;</th>\n",
       "      <th id=\"T_1c758_level0_col0\" class=\"col_heading level0 col0\" >NVDA</th>\n",
       "    </tr>\n",
       "  </thead>\n",
       "  <tbody>\n",
       "    <tr>\n",
       "      <th id=\"T_1c758_level0_row0\" class=\"row_heading level0 row0\" >AAPL </th>\n",
       "      <td id=\"T_1c758_row0_col0\" class=\"data row0 col0\" >$-34,168,649</td>\n",
       "    </tr>\n",
       "    <tr>\n",
       "      <th id=\"T_1c758_level0_row1\" class=\"row_heading level0 row1\" >AMZN </th>\n",
       "      <td id=\"T_1c758_row1_col0\" class=\"data row1 col0\" >$-41,725,986</td>\n",
       "    </tr>\n",
       "    <tr>\n",
       "      <th id=\"T_1c758_level0_row2\" class=\"row_heading level0 row2\" >GOOGL </th>\n",
       "      <td id=\"T_1c758_row2_col0\" class=\"data row2 col0\" >$784,795</td>\n",
       "    </tr>\n",
       "    <tr>\n",
       "      <th id=\"T_1c758_level0_row3\" class=\"row_heading level0 row3\" >MSFT </th>\n",
       "      <td id=\"T_1c758_row3_col0\" class=\"data row3 col0\" >$-58,789,673</td>\n",
       "    </tr>\n",
       "    <tr>\n",
       "      <th id=\"T_1c758_level0_row4\" class=\"row_heading level0 row4\" >Total</th>\n",
       "      <td id=\"T_1c758_row4_col0\" class=\"data row4 col0\" >$-133,899,513</td>\n",
       "    </tr>\n",
       "  </tbody>\n",
       "</table>\n"
      ],
      "text/plain": [
       "<pandas.io.formats.style.Styler at 0x286596620>"
      ]
     },
     "execution_count": 29,
     "metadata": {},
     "output_type": "execute_result"
    }
   ],
   "source": [
    "regr = ta.calc_multivariate_regression(retsx['NVDA'], retsx[['AAPL', 'AMZN', 'GOOGL', 'MSFT']], intercept=True, adj=52)\n",
    "\n",
    "betas = regr.loc[:, regr.columns.str.contains('Beta')].T\n",
    "\n",
    "exposure = betas * -100_000_000\n",
    "exposure.index = exposure.index.str.replace('Beta', '')\n",
    "exposure.loc['Total'] = exposure.sum()\n",
    "exposure.style.format('${:,.0f}')"
   ]
  },
  {
   "cell_type": "markdown",
   "id": "6127f366",
   "metadata": {},
   "source": [
    "## 2.\n",
    "\n",
    "How well does the hedge do? Cite a regression statistic to support your answer.\n",
    "\n",
    "Also estimate the volatility of the basis, (epsilon.)"
   ]
  },
  {
   "cell_type": "code",
   "execution_count": 30,
   "id": "52680d6b",
   "metadata": {},
   "outputs": [
    {
     "data": {
      "text/html": [
       "<div>\n",
       "<style scoped>\n",
       "    .dataframe tbody tr th:only-of-type {\n",
       "        vertical-align: middle;\n",
       "    }\n",
       "\n",
       "    .dataframe tbody tr th {\n",
       "        vertical-align: top;\n",
       "    }\n",
       "\n",
       "    .dataframe thead th {\n",
       "        text-align: right;\n",
       "    }\n",
       "</style>\n",
       "<table border=\"1\" class=\"dataframe\">\n",
       "  <thead>\n",
       "    <tr style=\"text-align: right;\">\n",
       "      <th></th>\n",
       "      <th>NVDA</th>\n",
       "    </tr>\n",
       "  </thead>\n",
       "  <tbody>\n",
       "    <tr>\n",
       "      <th>R-Squared</th>\n",
       "      <td>0.458168</td>\n",
       "    </tr>\n",
       "    <tr>\n",
       "      <th>Tracking Error</th>\n",
       "      <td>0.344562</td>\n",
       "    </tr>\n",
       "  </tbody>\n",
       "</table>\n",
       "</div>"
      ],
      "text/plain": [
       "                    NVDA\n",
       "R-Squared       0.458168\n",
       "Tracking Error  0.344562"
      ]
     },
     "execution_count": 30,
     "metadata": {},
     "output_type": "execute_result"
    }
   ],
   "source": [
    "regr[['R-Squared', 'Tracking Error']].T"
   ]
  },
  {
   "cell_type": "markdown",
   "id": "cef03489",
   "metadata": {},
   "source": [
    "<font color='red'>\n",
    "\n",
    "Not particularly well. The R-Squared is only ~46\\%, meaning that we can only hedge 46\\% of the variance of NVDA using the other tech-stocks. Additionally, the (annualized) tracking error is quite high, at ~34\\%. This means that the hedge is not very precise, and we would expect to see large deviations between the hedge and the actual NVDA returns.\n",
    "\n",
    "There is also an additional problem, which is that we are hedging a \\$100m long position by being net *short* \\$134m, which is not particularly practical for most investors.\n",
    "\n",
    "</font>"
   ]
  },
  {
   "cell_type": "code",
   "execution_count": 31,
   "id": "356b4fe2",
   "metadata": {},
   "outputs": [
    {
     "data": {
      "text/plain": [
       "NVDA    0.047782\n",
       "Name: Tracking Error, dtype: float64"
      ]
     },
     "execution_count": 31,
     "metadata": {},
     "output_type": "execute_result"
    }
   ],
   "source": [
    "# Tracking error, not annualized\n",
    "regr['Tracking Error'] /np.sqrt(52)"
   ]
  },
  {
   "cell_type": "markdown",
   "id": "579b6394",
   "metadata": {},
   "source": [
    "## 3.\n",
    "\n",
    "Report the annualized intercept. By including this intercept, what are you assuming about the nature of the returns of `NVDA` as well as the returns of the hedging instruments?"
   ]
  },
  {
   "cell_type": "code",
   "execution_count": 32,
   "id": "c07ee3a1",
   "metadata": {},
   "outputs": [
    {
     "data": {
      "text/html": [
       "<div>\n",
       "<style scoped>\n",
       "    .dataframe tbody tr th:only-of-type {\n",
       "        vertical-align: middle;\n",
       "    }\n",
       "\n",
       "    .dataframe tbody tr th {\n",
       "        vertical-align: top;\n",
       "    }\n",
       "\n",
       "    .dataframe thead th {\n",
       "        text-align: right;\n",
       "    }\n",
       "</style>\n",
       "<table border=\"1\" class=\"dataframe\">\n",
       "  <thead>\n",
       "    <tr style=\"text-align: right;\">\n",
       "      <th></th>\n",
       "      <th>Alpha</th>\n",
       "    </tr>\n",
       "  </thead>\n",
       "  <tbody>\n",
       "    <tr>\n",
       "      <th>NVDA</th>\n",
       "      <td>0.273752</td>\n",
       "    </tr>\n",
       "  </tbody>\n",
       "</table>\n",
       "</div>"
      ],
      "text/plain": [
       "         Alpha\n",
       "NVDA  0.273752"
      ]
     },
     "execution_count": 32,
     "metadata": {},
     "output_type": "execute_result"
    }
   ],
   "source": [
    "regr[['Alpha']]"
   ]
  },
  {
   "cell_type": "markdown",
   "id": "8fc348fa",
   "metadata": {},
   "source": [
    "<font color='red'>\n",
    "\n",
    "The annualized intercept is around 27\\%. This means that 27\\% of NVDA's returns are not explained by the other tech stocks. This is a very large number, and it means that the hedge is not very effective. \n",
    "\n",
    "By including the intercept, we are assuming that the sample averages are not good predictors of the future averages. Thus we are allowing an intercept in the hedging regression, to ensure differences in mean returns do not impact the betas, which are the hedge recommendations.\n",
    "\n",
    "If we really believed these sample averages are predictive, we would want the hedge ratios to account for that, and thus exclude an intercept, forcing these averages to impact the betas.\n",
    "\n",
    "</font>"
   ]
  }
 ],
 "metadata": {
  "hide_input": false,
  "kernelspec": {
   "display_name": "Python 3 (ipykernel)",
   "language": "python",
   "name": "python3"
  },
  "language_info": {
   "codemirror_mode": {
    "name": "ipython",
    "version": 3
   },
   "file_extension": ".py",
   "mimetype": "text/x-python",
   "name": "python",
   "nbconvert_exporter": "python",
   "pygments_lexer": "ipython3",
   "version": "3.9.12"
  }
 },
 "nbformat": 4,
 "nbformat_minor": 5
}
