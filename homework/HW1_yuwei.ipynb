{
 "cells": [
  {
   "cell_type": "code",
   "execution_count": 6,
   "id": "a0448e86-1bd6-4829-b9a2-96a80dd1deb6",
   "metadata": {},
   "outputs": [],
   "source": [
    "import pandas as pd\n",
    "import numpy as np\n",
    "import matplotlib.pyplot as plt\n",
    "import seaborn as sns\n",
    "        "
   ]
  },
  {
   "cell_type": "markdown",
   "id": "3dc95b3e-e791-4854-9bf6-7bf1e1581d97",
   "metadata": {},
   "source": [
    "## 1. Summary Statistics\n",
    "* Calculate and display the mean and volatility of each asset’s excess return. (Recall we use volatility to refer to standard deviation.)\n",
    "* Which assets have the best and worst Sharpe ratios? Recall that the Sharpe Ratio is simply the ratio of the mean-to-volatility of excess returns:\n",
    "$$\\text{sharpe ratio of investment }i = \\frac{\\mux_i}{\\sigma_i}$$"
   ]
  },
  {
   "cell_type": "code",
   "execution_count": 9,
   "id": "4a4d24f9-6272-4345-a696-b04cc94a7aa8",
   "metadata": {},
   "outputs": [
    {
     "data": {
      "text/html": [
       "<div>\n",
       "<style scoped>\n",
       "    .dataframe tbody tr th:only-of-type {\n",
       "        vertical-align: middle;\n",
       "    }\n",
       "\n",
       "    .dataframe tbody tr th {\n",
       "        vertical-align: top;\n",
       "    }\n",
       "\n",
       "    .dataframe thead th {\n",
       "        text-align: right;\n",
       "    }\n",
       "</style>\n",
       "<table border=\"1\" class=\"dataframe\">\n",
       "  <thead>\n",
       "    <tr style=\"text-align: right;\">\n",
       "      <th></th>\n",
       "      <th>mean</th>\n",
       "      <th>std</th>\n",
       "      <th>sharpe_ratio</th>\n",
       "    </tr>\n",
       "  </thead>\n",
       "  <tbody>\n",
       "    <tr>\n",
       "      <th>BWX</th>\n",
       "      <td>-0.001843</td>\n",
       "      <td>0.083359</td>\n",
       "      <td>-0.022112</td>\n",
       "    </tr>\n",
       "    <tr>\n",
       "      <th>DBC</th>\n",
       "      <td>0.025443</td>\n",
       "      <td>0.178975</td>\n",
       "      <td>0.142162</td>\n",
       "    </tr>\n",
       "    <tr>\n",
       "      <th>EEM</th>\n",
       "      <td>0.064887</td>\n",
       "      <td>0.196531</td>\n",
       "      <td>0.330163</td>\n",
       "    </tr>\n",
       "    <tr>\n",
       "      <th>EFA</th>\n",
       "      <td>0.081597</td>\n",
       "      <td>0.165991</td>\n",
       "      <td>0.491573</td>\n",
       "    </tr>\n",
       "    <tr>\n",
       "      <th>HYG</th>\n",
       "      <td>0.064168</td>\n",
       "      <td>0.089154</td>\n",
       "      <td>0.719746</td>\n",
       "    </tr>\n",
       "    <tr>\n",
       "      <th>IEF</th>\n",
       "      <td>0.014269</td>\n",
       "      <td>0.062405</td>\n",
       "      <td>0.228652</td>\n",
       "    </tr>\n",
       "    <tr>\n",
       "      <th>IYR</th>\n",
       "      <td>0.129473</td>\n",
       "      <td>0.187101</td>\n",
       "      <td>0.691997</td>\n",
       "    </tr>\n",
       "    <tr>\n",
       "      <th>PSP</th>\n",
       "      <td>0.079938</td>\n",
       "      <td>0.227387</td>\n",
       "      <td>0.351552</td>\n",
       "    </tr>\n",
       "    <tr>\n",
       "      <th>QAI</th>\n",
       "      <td>0.018974</td>\n",
       "      <td>0.050810</td>\n",
       "      <td>0.373440</td>\n",
       "    </tr>\n",
       "    <tr>\n",
       "      <th>SPY</th>\n",
       "      <td>0.143727</td>\n",
       "      <td>0.147679</td>\n",
       "      <td>0.973245</td>\n",
       "    </tr>\n",
       "    <tr>\n",
       "      <th>TIP</th>\n",
       "      <td>0.022321</td>\n",
       "      <td>0.051529</td>\n",
       "      <td>0.433166</td>\n",
       "    </tr>\n",
       "  </tbody>\n",
       "</table>\n",
       "</div>"
      ],
      "text/plain": [
       "         mean       std  sharpe_ratio\n",
       "BWX -0.001843  0.083359     -0.022112\n",
       "DBC  0.025443  0.178975      0.142162\n",
       "EEM  0.064887  0.196531      0.330163\n",
       "EFA  0.081597  0.165991      0.491573\n",
       "HYG  0.064168  0.089154      0.719746\n",
       "IEF  0.014269  0.062405      0.228652\n",
       "IYR  0.129473  0.187101      0.691997\n",
       "PSP  0.079938  0.227387      0.351552\n",
       "QAI  0.018974  0.050810      0.373440\n",
       "SPY  0.143727  0.147679      0.973245\n",
       "TIP  0.022321  0.051529      0.433166"
      ]
     },
     "execution_count": 9,
     "metadata": {},
     "output_type": "execute_result"
    }
   ],
   "source": [
    "filepath=\"../data/multi_asset_etf_data.xlsx\"\n",
    "df_excessreturn = pd.read_excel(\n",
    "    filepath, sheet_name=\"excess returns\", index_col=\"Date\")\n",
    "\n",
    "df_summary = pd.DataFrame(index=df_excessreturn.columns)\n",
    "df_summary[\"mean\"] = df_excessreturn.mean(axis=0) * 12\n",
    "df_summary[\"std\"] = df_excessreturn.std(axis=0) * 12**0.5\n",
    "df_summary=df_summary.assign(sharpe_ratio=lambda x: x[\"mean\"] / x[\"std\"])\n",
    "df_summary"
   ]
  },
  {
   "cell_type": "code",
   "execution_count": 10,
   "id": "c1f485a3-480c-4f95-b560-2713c38ac6cb",
   "metadata": {},
   "outputs": [
    {
     "name": "stdout",
     "output_type": "stream",
     "text": [
      " The asset has the worst Sharpe ratios is BWX (-0.022112401285017045)\n",
      " The asset have the best Sharpe ratios is SPY(0.9732449799937645)\n"
     ]
    }
   ],
   "source": [
    "print(f\" The asset has the worst Sharpe ratios is {df_summary['sharpe_ratio'].idxmin()} ({df_summary['sharpe_ratio'].min()})\")\n",
    "print(f\" The asset have the best Sharpe ratios is {df_summary['sharpe_ratio'].idxmax()}({df_summary['sharpe_ratio'].max()})\")"
   ]
  },
  {
   "cell_type": "markdown",
   "id": "d8b23a7f-1143-4988-9035-e1c92e073c01",
   "metadata": {},
   "source": [
    "## 2. Descriptive Analysis\n",
    "* Calculate the correlation matrix of the returns. Which pair has the highest correlation? And the lowest?\n",
    "* How well have TIPS done in our sample? Have they outperformed domestic bonds? Foreign bonds?"
   ]
  },
  {
   "cell_type": "code",
   "execution_count": 11,
   "id": "133e0814-b314-432b-af73-1cef4623b97e",
   "metadata": {},
   "outputs": [
    {
     "data": {
      "text/html": [
       "<div>\n",
       "<style scoped>\n",
       "    .dataframe tbody tr th:only-of-type {\n",
       "        vertical-align: middle;\n",
       "    }\n",
       "\n",
       "    .dataframe tbody tr th {\n",
       "        vertical-align: top;\n",
       "    }\n",
       "\n",
       "    .dataframe thead th {\n",
       "        text-align: right;\n",
       "    }\n",
       "</style>\n",
       "<table border=\"1\" class=\"dataframe\">\n",
       "  <thead>\n",
       "    <tr style=\"text-align: right;\">\n",
       "      <th></th>\n",
       "      <th>BWX</th>\n",
       "      <th>DBC</th>\n",
       "      <th>EEM</th>\n",
       "      <th>EFA</th>\n",
       "      <th>HYG</th>\n",
       "      <th>IEF</th>\n",
       "      <th>IYR</th>\n",
       "      <th>PSP</th>\n",
       "      <th>QAI</th>\n",
       "      <th>SPY</th>\n",
       "      <th>TIP</th>\n",
       "    </tr>\n",
       "  </thead>\n",
       "  <tbody>\n",
       "    <tr>\n",
       "      <th>BWX</th>\n",
       "      <td>1.000000</td>\n",
       "      <td>0.349773</td>\n",
       "      <td>0.647614</td>\n",
       "      <td>0.621662</td>\n",
       "      <td>0.557653</td>\n",
       "      <td>0.434472</td>\n",
       "      <td>0.453534</td>\n",
       "      <td>0.524870</td>\n",
       "      <td>0.668045</td>\n",
       "      <td>0.465713</td>\n",
       "      <td>0.617099</td>\n",
       "    </tr>\n",
       "    <tr>\n",
       "      <th>DBC</th>\n",
       "      <td>0.349773</td>\n",
       "      <td>1.000000</td>\n",
       "      <td>0.565654</td>\n",
       "      <td>0.581865</td>\n",
       "      <td>0.473208</td>\n",
       "      <td>-0.321738</td>\n",
       "      <td>0.318314</td>\n",
       "      <td>0.496057</td>\n",
       "      <td>0.547936</td>\n",
       "      <td>0.509886</td>\n",
       "      <td>0.136668</td>\n",
       "    </tr>\n",
       "    <tr>\n",
       "      <th>EEM</th>\n",
       "      <td>0.647614</td>\n",
       "      <td>0.565654</td>\n",
       "      <td>1.000000</td>\n",
       "      <td>0.851579</td>\n",
       "      <td>0.726041</td>\n",
       "      <td>-0.102347</td>\n",
       "      <td>0.621814</td>\n",
       "      <td>0.771677</td>\n",
       "      <td>0.807245</td>\n",
       "      <td>0.734556</td>\n",
       "      <td>0.302729</td>\n",
       "    </tr>\n",
       "    <tr>\n",
       "      <th>EFA</th>\n",
       "      <td>0.621662</td>\n",
       "      <td>0.581865</td>\n",
       "      <td>0.851579</td>\n",
       "      <td>1.000000</td>\n",
       "      <td>0.771463</td>\n",
       "      <td>-0.132331</td>\n",
       "      <td>0.697875</td>\n",
       "      <td>0.891929</td>\n",
       "      <td>0.853674</td>\n",
       "      <td>0.871641</td>\n",
       "      <td>0.287476</td>\n",
       "    </tr>\n",
       "    <tr>\n",
       "      <th>HYG</th>\n",
       "      <td>0.557653</td>\n",
       "      <td>0.473208</td>\n",
       "      <td>0.726041</td>\n",
       "      <td>0.771463</td>\n",
       "      <td>1.000000</td>\n",
       "      <td>-0.008598</td>\n",
       "      <td>0.757649</td>\n",
       "      <td>0.823823</td>\n",
       "      <td>0.768756</td>\n",
       "      <td>0.770353</td>\n",
       "      <td>0.365939</td>\n",
       "    </tr>\n",
       "    <tr>\n",
       "      <th>IEF</th>\n",
       "      <td>0.434472</td>\n",
       "      <td>-0.321738</td>\n",
       "      <td>-0.102347</td>\n",
       "      <td>-0.132331</td>\n",
       "      <td>-0.008598</td>\n",
       "      <td>1.000000</td>\n",
       "      <td>0.073622</td>\n",
       "      <td>-0.118676</td>\n",
       "      <td>0.055667</td>\n",
       "      <td>-0.155696</td>\n",
       "      <td>0.706078</td>\n",
       "    </tr>\n",
       "    <tr>\n",
       "      <th>IYR</th>\n",
       "      <td>0.453534</td>\n",
       "      <td>0.318314</td>\n",
       "      <td>0.621814</td>\n",
       "      <td>0.697875</td>\n",
       "      <td>0.757649</td>\n",
       "      <td>0.073622</td>\n",
       "      <td>1.000000</td>\n",
       "      <td>0.760158</td>\n",
       "      <td>0.655963</td>\n",
       "      <td>0.753610</td>\n",
       "      <td>0.397166</td>\n",
       "    </tr>\n",
       "    <tr>\n",
       "      <th>PSP</th>\n",
       "      <td>0.524870</td>\n",
       "      <td>0.496057</td>\n",
       "      <td>0.771677</td>\n",
       "      <td>0.891929</td>\n",
       "      <td>0.823823</td>\n",
       "      <td>-0.118676</td>\n",
       "      <td>0.760158</td>\n",
       "      <td>1.000000</td>\n",
       "      <td>0.838287</td>\n",
       "      <td>0.895729</td>\n",
       "      <td>0.320913</td>\n",
       "    </tr>\n",
       "    <tr>\n",
       "      <th>QAI</th>\n",
       "      <td>0.668045</td>\n",
       "      <td>0.547936</td>\n",
       "      <td>0.807245</td>\n",
       "      <td>0.853674</td>\n",
       "      <td>0.768756</td>\n",
       "      <td>0.055667</td>\n",
       "      <td>0.655963</td>\n",
       "      <td>0.838287</td>\n",
       "      <td>1.000000</td>\n",
       "      <td>0.840989</td>\n",
       "      <td>0.459712</td>\n",
       "    </tr>\n",
       "    <tr>\n",
       "      <th>SPY</th>\n",
       "      <td>0.465713</td>\n",
       "      <td>0.509886</td>\n",
       "      <td>0.734556</td>\n",
       "      <td>0.871641</td>\n",
       "      <td>0.770353</td>\n",
       "      <td>-0.155696</td>\n",
       "      <td>0.753610</td>\n",
       "      <td>0.895729</td>\n",
       "      <td>0.840989</td>\n",
       "      <td>1.000000</td>\n",
       "      <td>0.294639</td>\n",
       "    </tr>\n",
       "    <tr>\n",
       "      <th>TIP</th>\n",
       "      <td>0.617099</td>\n",
       "      <td>0.136668</td>\n",
       "      <td>0.302729</td>\n",
       "      <td>0.287476</td>\n",
       "      <td>0.365939</td>\n",
       "      <td>0.706078</td>\n",
       "      <td>0.397166</td>\n",
       "      <td>0.320913</td>\n",
       "      <td>0.459712</td>\n",
       "      <td>0.294639</td>\n",
       "      <td>1.000000</td>\n",
       "    </tr>\n",
       "  </tbody>\n",
       "</table>\n",
       "</div>"
      ],
      "text/plain": [
       "          BWX       DBC       EEM       EFA       HYG       IEF       IYR  \\\n",
       "BWX  1.000000  0.349773  0.647614  0.621662  0.557653  0.434472  0.453534   \n",
       "DBC  0.349773  1.000000  0.565654  0.581865  0.473208 -0.321738  0.318314   \n",
       "EEM  0.647614  0.565654  1.000000  0.851579  0.726041 -0.102347  0.621814   \n",
       "EFA  0.621662  0.581865  0.851579  1.000000  0.771463 -0.132331  0.697875   \n",
       "HYG  0.557653  0.473208  0.726041  0.771463  1.000000 -0.008598  0.757649   \n",
       "IEF  0.434472 -0.321738 -0.102347 -0.132331 -0.008598  1.000000  0.073622   \n",
       "IYR  0.453534  0.318314  0.621814  0.697875  0.757649  0.073622  1.000000   \n",
       "PSP  0.524870  0.496057  0.771677  0.891929  0.823823 -0.118676  0.760158   \n",
       "QAI  0.668045  0.547936  0.807245  0.853674  0.768756  0.055667  0.655963   \n",
       "SPY  0.465713  0.509886  0.734556  0.871641  0.770353 -0.155696  0.753610   \n",
       "TIP  0.617099  0.136668  0.302729  0.287476  0.365939  0.706078  0.397166   \n",
       "\n",
       "          PSP       QAI       SPY       TIP  \n",
       "BWX  0.524870  0.668045  0.465713  0.617099  \n",
       "DBC  0.496057  0.547936  0.509886  0.136668  \n",
       "EEM  0.771677  0.807245  0.734556  0.302729  \n",
       "EFA  0.891929  0.853674  0.871641  0.287476  \n",
       "HYG  0.823823  0.768756  0.770353  0.365939  \n",
       "IEF -0.118676  0.055667 -0.155696  0.706078  \n",
       "IYR  0.760158  0.655963  0.753610  0.397166  \n",
       "PSP  1.000000  0.838287  0.895729  0.320913  \n",
       "QAI  0.838287  1.000000  0.840989  0.459712  \n",
       "SPY  0.895729  0.840989  1.000000  0.294639  \n",
       "TIP  0.320913  0.459712  0.294639  1.000000  "
      ]
     },
     "execution_count": 11,
     "metadata": {},
     "output_type": "execute_result"
    }
   ],
   "source": [
    "corr=df_excessreturn.corr()\n",
    "corr"
   ]
  },
  {
   "cell_type": "markdown",
   "id": "7f3c1717-8cc2-4a21-a188-5c5309b833ad",
   "metadata": {},
   "source": [
    "### SPY and PSP has the highest correlation(0.895729), and IEF and DBC has the lowest correlation(-0.321738)"
   ]
  },
  {
   "cell_type": "markdown",
   "id": "adaa3e67-1be1-4b04-9855-c2a310f6ca85",
   "metadata": {},
   "source": [
    "### Compared with domestic bonds which are represented by IEF(7-10Y Treasury Bond), HYG(Corp Bond), TIPS outperformed IEF(7-10Y Treasury Bond) with a relatively higher expected return and lower volatility , but cannot outperfrom high yield Corp Bond, which have higher return and sharpe ratio\n",
    "\n",
    "### Compared with foreign bonds(PSP, BWX, EFA, EEM), TIPS have a relatively same excess return but a obviously higher sharpe ratio than foreign bonds."
   ]
  },
  {
   "cell_type": "markdown",
   "id": "66bcae00-0aa1-4985-9b3e-a40a839e3be8",
   "metadata": {},
   "source": [
    "## 3. The MV frontier.\n",
    "* Compute and display the weights of the tangency portfolios: $\\wtan$.\n",
    "* Does the ranking of weights align with the ranking of Sharpe ratios?\n",
    "* Compute the mean, volatility, and Sharpe ratio for the tangency portfolio corresponding to\n",
    "$\\wtan$."
   ]
  },
  {
   "cell_type": "markdown",
   "id": "56e2d324-3f06-4af6-a38a-b3a98c7a1094",
   "metadata": {},
   "source": [
    "By using the formula $w^{tan}$=$\\frac{1}{I'\\Sigma^{-1}\\mu}$$\\Sigma^{-1}\\mu$:"
   ]
  },
  {
   "cell_type": "code",
   "execution_count": 12,
   "id": "349f00e3-0f3a-42c5-a787-7f8db99bcbee",
   "metadata": {},
   "outputs": [
    {
     "data": {
      "text/html": [
       "<div>\n",
       "<style scoped>\n",
       "    .dataframe tbody tr th:only-of-type {\n",
       "        vertical-align: middle;\n",
       "    }\n",
       "\n",
       "    .dataframe tbody tr th {\n",
       "        vertical-align: top;\n",
       "    }\n",
       "\n",
       "    .dataframe thead th {\n",
       "        text-align: right;\n",
       "    }\n",
       "</style>\n",
       "<table border=\"1\" class=\"dataframe\">\n",
       "  <thead>\n",
       "    <tr style=\"text-align: right;\">\n",
       "      <th></th>\n",
       "      <th>Weight</th>\n",
       "      <th>sharpe_ratio</th>\n",
       "    </tr>\n",
       "  </thead>\n",
       "  <tbody>\n",
       "    <tr>\n",
       "      <th>BWX</th>\n",
       "      <td>-1.464974</td>\n",
       "      <td>-0.022112</td>\n",
       "    </tr>\n",
       "    <tr>\n",
       "      <th>DBC</th>\n",
       "      <td>0.028436</td>\n",
       "      <td>0.142162</td>\n",
       "    </tr>\n",
       "    <tr>\n",
       "      <th>EEM</th>\n",
       "      <td>0.261028</td>\n",
       "      <td>0.330163</td>\n",
       "    </tr>\n",
       "    <tr>\n",
       "      <th>EFA</th>\n",
       "      <td>0.452914</td>\n",
       "      <td>0.491573</td>\n",
       "    </tr>\n",
       "    <tr>\n",
       "      <th>HYG</th>\n",
       "      <td>1.528942</td>\n",
       "      <td>0.719746</td>\n",
       "    </tr>\n",
       "    <tr>\n",
       "      <th>IEF</th>\n",
       "      <td>1.893992</td>\n",
       "      <td>0.228652</td>\n",
       "    </tr>\n",
       "    <tr>\n",
       "      <th>IYR</th>\n",
       "      <td>-0.242772</td>\n",
       "      <td>0.691997</td>\n",
       "    </tr>\n",
       "    <tr>\n",
       "      <th>PSP</th>\n",
       "      <td>-1.271055</td>\n",
       "      <td>0.351552</td>\n",
       "    </tr>\n",
       "    <tr>\n",
       "      <th>QAI</th>\n",
       "      <td>-3.133445</td>\n",
       "      <td>0.373440</td>\n",
       "    </tr>\n",
       "    <tr>\n",
       "      <th>SPY</th>\n",
       "      <td>2.589999</td>\n",
       "      <td>0.973245</td>\n",
       "    </tr>\n",
       "    <tr>\n",
       "      <th>TIP</th>\n",
       "      <td>0.356935</td>\n",
       "      <td>0.433166</td>\n",
       "    </tr>\n",
       "  </tbody>\n",
       "</table>\n",
       "</div>"
      ],
      "text/plain": [
       "       Weight  sharpe_ratio\n",
       "BWX -1.464974     -0.022112\n",
       "DBC  0.028436      0.142162\n",
       "EEM  0.261028      0.330163\n",
       "EFA  0.452914      0.491573\n",
       "HYG  1.528942      0.719746\n",
       "IEF  1.893992      0.228652\n",
       "IYR -0.242772      0.691997\n",
       "PSP -1.271055      0.351552\n",
       "QAI -3.133445      0.373440\n",
       "SPY  2.589999      0.973245\n",
       "TIP  0.356935      0.433166"
      ]
     },
     "execution_count": 12,
     "metadata": {},
     "output_type": "execute_result"
    }
   ],
   "source": [
    "def pfl_Mv(df_excessreturn,df_summary):\n",
    "    sigma=df_excessreturn.cov()*12\n",
    "    sigma=np.mat(sigma.values)\n",
    "    \n",
    "    mu=np.mat(df_summary['mean'].values)\n",
    "    I=np.ones([1,len(sigma)])\n",
    "    \n",
    "    w_tan=sigma.getI()*mu.T/(\n",
    "        I*sigma.getI()*mu.T\n",
    "    )\n",
    "    df_w=pd.DataFrame(w_tan,index=df_summary.index,columns=['Weight'])\n",
    "    df_w['sharpe_ratio']=df_summary['sharpe_ratio']\n",
    "    df_w.sort_values('Weight',ascending=False)\n",
    "    \n",
    "    mu_pfl=(mu*w_tan)[0,0]\n",
    "    Vol_pfl=(w_tan.T*sigma*w_tan)[0,0]\n",
    "    W_tan_Sharpe=mu_pfl/Vol_pfl**0.5\n",
    "    \n",
    "    return w_tan,df_w,mu_pfl,Vol_pfl,W_tan_Sharpe\n",
    "\n",
    "w_tan,df_w,mu_pfl,Vol_pfl,W_tan_Sharpe=pfl_Mv(df_excessreturn,df_summary)\n",
    "df_w"
   ]
  },
  {
   "cell_type": "code",
   "execution_count": 13,
   "id": "8895f6ca-dd48-4810-afb4-2fb2a9c58fe7",
   "metadata": {},
   "outputs": [
    {
     "data": {
      "text/plain": [
       "(0.37018005312751834, 0.036681013041624515, 1.9328241918711755)"
      ]
     },
     "execution_count": 13,
     "metadata": {},
     "output_type": "execute_result"
    }
   ],
   "source": [
    "mu_pfl,Vol_pfl,W_tan_Sharpe"
   ]
  },
  {
   "cell_type": "markdown",
   "id": "7374962e-a681-4416-844d-a301b674108e",
   "metadata": {},
   "source": [
    "### Asset with higher sharpe ratio tend to have higher weight, but it is not always true because the correlation between different assets are considered when optimizing the portfolio.\n"
   ]
  },
  {
   "cell_type": "markdown",
   "id": "cd974a59-695e-4d59-aa84-106f3e838e95",
   "metadata": {},
   "source": [
    "### The tangency portfolio corresponding to $w^{tan}$ has a return of 0.3701, a variance of 0.0366, a Sharpe ratio of 1.9328"
   ]
  },
  {
   "cell_type": "markdown",
   "id": "951748cc-ff82-4979-a576-d8e842cb8394",
   "metadata": {},
   "source": [
    "## 4. TIPS\n",
    "Assess how much the tangency portfolio (and performance) change if...\n",
    "* TIPS are dropped completely from the investment set.\n",
    "* The expected excess return to TIPS is adjusted to be 0.0012 higher than what the historic sample shows.\n",
    "\n",
    "Based on the analysis, do TIPS seem to expand the investment opportunity set, implying that Harvard should consider them as a separate asset?"
   ]
  },
  {
   "cell_type": "markdown",
   "id": "675afde2-1501-44a3-ade8-1352e8b7fec3",
   "metadata": {},
   "source": [
    "### drop TIPS:"
   ]
  },
  {
   "cell_type": "code",
   "execution_count": 14,
   "id": "795bff5f-1d85-40a6-85d8-fc9e2ede1b89",
   "metadata": {},
   "outputs": [
    {
     "data": {
      "text/html": [
       "<div>\n",
       "<style scoped>\n",
       "    .dataframe tbody tr th:only-of-type {\n",
       "        vertical-align: middle;\n",
       "    }\n",
       "\n",
       "    .dataframe tbody tr th {\n",
       "        vertical-align: top;\n",
       "    }\n",
       "\n",
       "    .dataframe thead th {\n",
       "        text-align: right;\n",
       "    }\n",
       "</style>\n",
       "<table border=\"1\" class=\"dataframe\">\n",
       "  <thead>\n",
       "    <tr style=\"text-align: right;\">\n",
       "      <th></th>\n",
       "      <th>Weight</th>\n",
       "      <th>sharpe_ratio</th>\n",
       "    </tr>\n",
       "  </thead>\n",
       "  <tbody>\n",
       "    <tr>\n",
       "      <th>BWX</th>\n",
       "      <td>-1.512750</td>\n",
       "      <td>-0.022112</td>\n",
       "    </tr>\n",
       "    <tr>\n",
       "      <th>DBC</th>\n",
       "      <td>0.055158</td>\n",
       "      <td>0.142162</td>\n",
       "    </tr>\n",
       "    <tr>\n",
       "      <th>EEM</th>\n",
       "      <td>0.278086</td>\n",
       "      <td>0.330163</td>\n",
       "    </tr>\n",
       "    <tr>\n",
       "      <th>EFA</th>\n",
       "      <td>0.441496</td>\n",
       "      <td>0.491573</td>\n",
       "    </tr>\n",
       "    <tr>\n",
       "      <th>HYG</th>\n",
       "      <td>1.593140</td>\n",
       "      <td>0.719746</td>\n",
       "    </tr>\n",
       "    <tr>\n",
       "      <th>IEF</th>\n",
       "      <td>2.212451</td>\n",
       "      <td>0.228652</td>\n",
       "    </tr>\n",
       "    <tr>\n",
       "      <th>IYR</th>\n",
       "      <td>-0.245895</td>\n",
       "      <td>0.691997</td>\n",
       "    </tr>\n",
       "    <tr>\n",
       "      <th>PSP</th>\n",
       "      <td>-1.314092</td>\n",
       "      <td>0.351552</td>\n",
       "    </tr>\n",
       "    <tr>\n",
       "      <th>QAI</th>\n",
       "      <td>-3.238956</td>\n",
       "      <td>0.373440</td>\n",
       "    </tr>\n",
       "    <tr>\n",
       "      <th>SPY</th>\n",
       "      <td>2.731363</td>\n",
       "      <td>0.973245</td>\n",
       "    </tr>\n",
       "  </tbody>\n",
       "</table>\n",
       "</div>"
      ],
      "text/plain": [
       "       Weight  sharpe_ratio\n",
       "BWX -1.512750     -0.022112\n",
       "DBC  0.055158      0.142162\n",
       "EEM  0.278086      0.330163\n",
       "EFA  0.441496      0.491573\n",
       "HYG  1.593140      0.719746\n",
       "IEF  2.212451      0.228652\n",
       "IYR -0.245895      0.691997\n",
       "PSP -1.314092      0.351552\n",
       "QAI -3.238956      0.373440\n",
       "SPY  2.731363      0.973245"
      ]
     },
     "execution_count": 14,
     "metadata": {},
     "output_type": "execute_result"
    }
   ],
   "source": [
    "df_excessreturn = pd.read_excel(\n",
    "    filepath, sheet_name=\"excess returns\", index_col=\"Date\").drop(columns=['TIP'])\n",
    "\n",
    "df_summary = pd.DataFrame(index=df_excessreturn.columns)\n",
    "df_summary[\"mean\"] = df_excessreturn.mean(axis=0) * 12\n",
    "df_summary[\"std\"] = df_excessreturn.std(axis=0) * 12**0.5\n",
    "df_summary=df_summary.assign(sharpe_ratio=lambda x: x[\"mean\"] / x[\"std\"])\n",
    "w_tan,df_w,mu_pfl,Vol_pfl,W_tan_Sharpe=pfl_Mv(df_excessreturn,df_summary)\n",
    "df_w"
   ]
  },
  {
   "cell_type": "code",
   "execution_count": 15,
   "id": "f6b01baf-2b19-4653-a6f7-a6aa695a941a",
   "metadata": {},
   "outputs": [
    {
     "data": {
      "text/plain": [
       "(0.3862908162901107, 0.04004440806921932, 1.9303828215222578)"
      ]
     },
     "execution_count": 15,
     "metadata": {},
     "output_type": "execute_result"
    }
   ],
   "source": [
    "mu_pfl,Vol_pfl,W_tan_Sharpe"
   ]
  },
  {
   "cell_type": "markdown",
   "id": "1c85110e-afad-4c77-ba97-8fc2e61adce7",
   "metadata": {},
   "source": [
    "### Adjust expected excess return to TIPS:"
   ]
  },
  {
   "cell_type": "code",
   "execution_count": 16,
   "id": "c9a1d7f7-510b-4a22-821b-a4c9cce115a0",
   "metadata": {},
   "outputs": [
    {
     "data": {
      "text/html": [
       "<div>\n",
       "<style scoped>\n",
       "    .dataframe tbody tr th:only-of-type {\n",
       "        vertical-align: middle;\n",
       "    }\n",
       "\n",
       "    .dataframe tbody tr th {\n",
       "        vertical-align: top;\n",
       "    }\n",
       "\n",
       "    .dataframe thead th {\n",
       "        text-align: right;\n",
       "    }\n",
       "</style>\n",
       "<table border=\"1\" class=\"dataframe\">\n",
       "  <thead>\n",
       "    <tr style=\"text-align: right;\">\n",
       "      <th></th>\n",
       "      <th>Weight</th>\n",
       "      <th>sharpe_ratio</th>\n",
       "    </tr>\n",
       "  </thead>\n",
       "  <tbody>\n",
       "    <tr>\n",
       "      <th>BWX</th>\n",
       "      <td>-1.444459</td>\n",
       "      <td>-0.022112</td>\n",
       "    </tr>\n",
       "    <tr>\n",
       "      <th>DBC</th>\n",
       "      <td>0.016962</td>\n",
       "      <td>0.142162</td>\n",
       "    </tr>\n",
       "    <tr>\n",
       "      <th>EEM</th>\n",
       "      <td>0.253703</td>\n",
       "      <td>0.330163</td>\n",
       "    </tr>\n",
       "    <tr>\n",
       "      <th>EFA</th>\n",
       "      <td>0.457817</td>\n",
       "      <td>0.491573</td>\n",
       "    </tr>\n",
       "    <tr>\n",
       "      <th>HYG</th>\n",
       "      <td>1.501376</td>\n",
       "      <td>0.719746</td>\n",
       "    </tr>\n",
       "    <tr>\n",
       "      <th>IEF</th>\n",
       "      <td>1.757244</td>\n",
       "      <td>0.228652</td>\n",
       "    </tr>\n",
       "    <tr>\n",
       "      <th>IYR</th>\n",
       "      <td>-0.241431</td>\n",
       "      <td>0.691997</td>\n",
       "    </tr>\n",
       "    <tr>\n",
       "      <th>PSP</th>\n",
       "      <td>-1.252574</td>\n",
       "      <td>0.351552</td>\n",
       "    </tr>\n",
       "    <tr>\n",
       "      <th>QAI</th>\n",
       "      <td>-3.088139</td>\n",
       "      <td>0.373440</td>\n",
       "    </tr>\n",
       "    <tr>\n",
       "      <th>SPY</th>\n",
       "      <td>2.529296</td>\n",
       "      <td>0.973245</td>\n",
       "    </tr>\n",
       "    <tr>\n",
       "      <th>TIP</th>\n",
       "      <td>0.510205</td>\n",
       "      <td>0.456454</td>\n",
       "    </tr>\n",
       "  </tbody>\n",
       "</table>\n",
       "</div>"
      ],
      "text/plain": [
       "       Weight  sharpe_ratio\n",
       "BWX -1.444459     -0.022112\n",
       "DBC  0.016962      0.142162\n",
       "EEM  0.253703      0.330163\n",
       "EFA  0.457817      0.491573\n",
       "HYG  1.501376      0.719746\n",
       "IEF  1.757244      0.228652\n",
       "IYR -0.241431      0.691997\n",
       "PSP -1.252574      0.351552\n",
       "QAI -3.088139      0.373440\n",
       "SPY  2.529296      0.973245\n",
       "TIP  0.510205      0.456454"
      ]
     },
     "execution_count": 16,
     "metadata": {},
     "output_type": "execute_result"
    }
   ],
   "source": [
    "df_excessreturn = pd.read_excel(\n",
    "    filepath, sheet_name=\"excess returns\", index_col=\"Date\")\n",
    "\n",
    "df_summary = pd.DataFrame(index=df_excessreturn.columns)\n",
    "df_summary[\"mean\"] = df_excessreturn.mean(axis=0) * 12\n",
    "\n",
    "df_summary.loc['TIP','mean']=df_summary.loc['TIP','mean']+0.0012\n",
    "\n",
    "df_summary[\"std\"] = df_excessreturn.std(axis=0) * 12**0.5\n",
    "df_summary=df_summary.assign(sharpe_ratio=lambda x: x[\"mean\"] / x[\"std\"])\n",
    "w_tan,df_w,mu_pfl,Vol_pfl,W_tan_Sharpe=pfl_Mv(df_excessreturn,df_summary)\n",
    "df_w"
   ]
  },
  {
   "cell_type": "code",
   "execution_count": 17,
   "id": "3bb0bfcc-c537-42e8-b1ed-d71ad7acb716",
   "metadata": {},
   "outputs": [
    {
     "data": {
      "text/plain": [
       "(0.3638742692096192, 0.035341454744001216, 1.9355711271437428)"
      ]
     },
     "execution_count": 17,
     "metadata": {},
     "output_type": "execute_result"
    }
   ],
   "source": [
    "mu_pfl,Vol_pfl,W_tan_Sharpe"
   ]
  },
  {
   "cell_type": "markdown",
   "id": "efc6c339-c36d-4988-8608-496ad0091431",
   "metadata": {},
   "source": [
    "### After dropping the TIPS, the portfolio achieve both higher return and volatility but decrease slightly -0.0025 in sharpe ratio. This indicates that the TIPS seem to expand the investment opportunity set though not very much.\n",
    "\n",
    "### After increase the expected return of TIPS by 0.0012, the portfolio achieve both lower return and volatility but increase 0.0027 in sharpe ratio.This indicates that if the TIPS outperform its history, it seem to help provide less volatility and more security when inflation occurs."
   ]
  },
  {
   "cell_type": "markdown",
   "id": "295c1e57-7878-4040-9cff-674052db251b",
   "metadata": {},
   "source": [
    "# 3. Allocations"
   ]
  },
  {
   "cell_type": "markdown",
   "id": "dbc08638-a709-4a9c-940f-162aacc0c34e",
   "metadata": {},
   "source": [
    "* Continue with the same data file as the previous section.\n",
    "\n",
    "* Suppose the investor has a targeted mean excess return (per month) of $\\mutarg$ = 0.01."
   ]
  },
  {
   "cell_type": "markdown",
   "id": "85503220-665d-43cc-b6c6-650b9b32a168",
   "metadata": {},
   "source": [
    "#### Equally-weighted (EW)\n",
    "Rescale the entire weighting vector to have target mean $\\mutarg$. Thus, the $i$ element of the weight vector is,\n",
    "$$\\wEW_i = \\frac{1}{n}$$\n",
    "\n",
    "\n",
    "\n",
    "\n"
   ]
  },
  {
   "cell_type": "code",
   "execution_count": 18,
   "id": "80749019-85b1-488f-8754-070f0a4f70b1",
   "metadata": {},
   "outputs": [
    {
     "data": {
      "text/plain": [
       "'expected return:0.01000, volitility:0.06157, sharpe ratio: 0.16242'"
      ]
     },
     "execution_count": 18,
     "metadata": {},
     "output_type": "execute_result"
    }
   ],
   "source": [
    "# calculate on monthly data\n",
    "\n",
    "df_excessreturn = pd.read_excel(\n",
    "    filepath, sheet_name=\"excess returns\", index_col=\"Date\")\n",
    "\n",
    "mu = df_excessreturn.mean(axis=0).values\n",
    "mu=np.mat(mu)\n",
    "sigma=df_excessreturn.cov().values\n",
    "sigma=np.mat(sigma)\n",
    "\n",
    "Equal_weight=np.ones([11,1])*1/11\n",
    "\n",
    "mu_pfl=(mu*Equal_weight)[0,0]\n",
    "Vol_pfl=(Equal_weight.T*sigma*Equal_weight)[0,0]\n",
    "W_tan_Sharpe=mu_pfl/Vol_pfl**0.5\n",
    "mu_pfl,W_tan_Sharpe,W_tan_Sharpe\n",
    "\n",
    "# rescale the weight\n",
    "desired_mu=0.01\n",
    "Equal_weight=Equal_weight/mu_pfl*desired_mu\n",
    "\n",
    "mu_pfl=(mu*Equal_weight)[0,0]\n",
    "Vol_pfl=(Equal_weight.T*sigma*Equal_weight)[0,0]**0.5\n",
    "W_tan_Sharpe=mu_pfl/Vol_pfl\n",
    "f\"expected return:{mu_pfl:.5f}, volitility:{Vol_pfl:.5f}, sharpe ratio: {W_tan_Sharpe:.5f}\""
   ]
  },
  {
   "cell_type": "markdown",
   "id": "770ffa9f-7f1d-4feb-81f1-459acfdedf19",
   "metadata": {},
   "source": [
    "#### “Risk-parity” (RP)\n",
    "Risk-parity is a term used in a variety of ways, but here we have in mind setting the weight of the portfolio to be proportional to the inverse of its full-sample variance estimate. Thus, the $i$ element of the weight vector is,\n",
    "$$\\wRP_i = \\frac{1}{\\sigma_i^2}$$\n"
   ]
  },
  {
   "cell_type": "code",
   "execution_count": 19,
   "id": "c0654686-3cea-47ed-a934-c4fea78ca7d4",
   "metadata": {},
   "outputs": [
    {
     "data": {
      "text/plain": [
       "'expected return:0.01000, volitility:0.06284, sharpe ratio: 0.15913'"
      ]
     },
     "execution_count": 19,
     "metadata": {},
     "output_type": "execute_result"
    }
   ],
   "source": [
    "RP_weight=np.mat([1/i**2 for i in list(df_excessreturn.std(axis=0))]).T\n",
    "\n",
    "mu_pfl=(mu*RP_weight)[0,0]\n",
    "Vol_pfl=(RP_weight.T*sigma*RP_weight)[0,0]\n",
    "W_tan_Sharpe=mu_pfl/Vol_pfl**0.5\n",
    "\n",
    "# rescale the weight\n",
    "desired_mu=0.01\n",
    "RP_weight=RP_weight/mu_pfl*desired_mu\n",
    "\n",
    "mu_pfl=(mu*RP_weight)[0,0]\n",
    "Vol_pfl=(RP_weight.T*sigma*RP_weight)[0,0]**0.5\n",
    "W_tan_Sharpe=mu_pfl/Vol_pfl\n",
    "f\"expected return:{mu_pfl:.5f}, volitility:{Vol_pfl:.5f}, sharpe ratio: {W_tan_Sharpe:.5f}\""
   ]
  },
  {
   "cell_type": "markdown",
   "id": "5deded97-e051-4bbc-ae93-438f3146a684",
   "metadata": {},
   "source": [
    "#### Regularized (REG)\n",
    "Much like the Mean-Variance portfolio, set the weights proportional to \n",
    "$$\\wREG \\sim \\widehat{\\Sigma}^{-1}\\mux$$\n",
    "but this time, use a regularized covariance matrix,\n",
    "$$\\widehat{\\Sigma} = \\frac{\\Sigma + \\Sigma_D}{2}$$\n",
    "where $\\Sigma_D$ denotes a *diagonal* matrix of the security variances, with zeros in the off-diagonals.\n",
    "\n",
    "Thus, $\\widehat{\\Sigma}$ is obtained from the usual covariance matrix, $\\Sigma$, but shrinking all the covariances to half their estimated values. \n"
   ]
  },
  {
   "cell_type": "code",
   "execution_count": 20,
   "id": "a18a4888-e5ec-435f-9182-5cb55b177249",
   "metadata": {},
   "outputs": [
    {
     "data": {
      "text/plain": [
       "'expected return:0.01000, volitility:0.02789, sharpe ratio: 0.35849'"
      ]
     },
     "execution_count": 20,
     "metadata": {},
     "output_type": "execute_result"
    }
   ],
   "source": [
    "for i in range(sigma.shape[0]):\n",
    "    sigma[i,i]+=sigma[i,i]\n",
    "    \n",
    "sigma=sigma/2\n",
    "    \n",
    "REG_weight=sigma.getI()*mu.T\n",
    "\n",
    "mu_pfl=(mu*REG_weight)[0,0]\n",
    "Vol_pfl=(REG_weight.T*sigma*REG_weight)[0,0]\n",
    "W_tan_Sharpe=mu_pfl/Vol_pfl**0.5\n",
    "\n",
    "# rescale the weight\n",
    "desired_mu=0.01\n",
    "REG_weight=REG_weight/mu_pfl*desired_mu\n",
    "\n",
    "mu_pfl=(mu*REG_weight)[0,0]\n",
    "Vol_pfl=(REG_weight.T*sigma*REG_weight)[0,0]**0.5\n",
    "W_tan_Sharpe=mu_pfl/Vol_pfl\n",
    "f\"expected return:{mu_pfl:.5f}, volitility:{Vol_pfl:.5f}, sharpe ratio: {W_tan_Sharpe:.5f}\"    "
   ]
  },
  {
   "cell_type": "markdown",
   "id": "8f029533-bbba-4216-99e7-95ea9f8dd984",
   "metadata": {},
   "source": [
    "### Comparing\n",
    "\n",
    "In order to compare all these allocation methods, (those above, along with the tangency portfolio obtained in the previous section,) rescale each weight vector, such that it has targeted mean return of $\\mutarg$.\n",
    "\n",
    "* Calculate the performance of each of these portfolios over the sample.\n",
    "* Report their mean, volatility, and Sharpe ratio. \n",
    "* How do these compare across the four allocation methods?"
   ]
  },
  {
   "cell_type": "markdown",
   "id": "654c7936-1588-4d12-abe1-b4db437b79b8",
   "metadata": {},
   "source": [
    "### Have Already rescaled in the above code and results. The rescaled result of MV method is shown below:"
   ]
  },
  {
   "cell_type": "code",
   "execution_count": 212,
   "id": "b239fc6f-d1df-47a0-b6d5-5edabb0d0a25",
   "metadata": {},
   "outputs": [
    {
     "data": {
      "text/plain": [
       "'expected return:0.01000, volitility:0.00032, sharpe ratio: 0.55796'"
      ]
     },
     "execution_count": 212,
     "metadata": {},
     "output_type": "execute_result"
    }
   ],
   "source": [
    "Mv_weight=sigma.getI()*mu.T\n",
    "\n",
    "mu_pfl=(mu*Mv_weight)[0,0]\n",
    "Vol_pfl=(Mv_weight.T*sigma*Mv_weight)[0,0]\n",
    "W_tan_Sharpe=mu_pfl/Vol_pfl**0.5\n",
    "\n",
    "# rescale the weight\n",
    "desired_mu=0.01\n",
    "Mv_weight=Mv_weight/mu_pfl*desired_mu\n",
    "\n",
    "mu_pfl=(mu*Mv_weight)[0,0]\n",
    "Vol_pfl=(Mv_weight.T*sigma*Mv_weight)[0,0]\n",
    "W_tan_Sharpe=mu_pfl/Vol_pfl**0.5\n",
    "f\"expected return:{mu_pfl:.5f}, volitility:{Vol_pfl:.5f}, sharpe ratio: {W_tan_Sharpe:.5f}\"   "
   ]
  },
  {
   "cell_type": "markdown",
   "id": "f821fea6-07ab-4686-9c7f-7563d5af5b23",
   "metadata": {},
   "source": [
    "### While achieving the same expected return, (\">\" means outperforming ) MV > REG > RP > EW with lower volitility and higher sharpe ratio"
   ]
  }
 ],
 "metadata": {
  "kernelspec": {
   "display_name": "py3.8_casual",
   "language": "python",
   "name": "py3.8_casual"
  },
  "language_info": {
   "codemirror_mode": {
    "name": "ipython",
    "version": 3
   },
   "file_extension": ".py",
   "mimetype": "text/x-python",
   "name": "python",
   "nbconvert_exporter": "python",
   "pygments_lexer": "ipython3",
   "version": "3.8.17"
  }
 },
 "nbformat": 4,
 "nbformat_minor": 5
}
